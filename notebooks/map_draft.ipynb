{
 "cells": [
  {
   "cell_type": "markdown",
   "metadata": {},
   "source": [
    "### Import packages"
   ]
  },
  {
   "cell_type": "code",
   "execution_count": 1,
   "metadata": {},
   "outputs": [
    {
     "name": "stdout",
     "output_type": "stream",
     "text": [
      "Collecting plotly\n",
      "  Downloading plotly-5.18.0-py3-none-any.whl (15.6 MB)\n",
      "Requirement already satisfied: packaging in c:\\users\\annag\\desktop\\datavis_project\\venv\\lib\\site-packages (from plotly) (23.2)\n",
      "Collecting tenacity>=6.2.0\n",
      "  Downloading tenacity-8.2.3-py3-none-any.whl (24 kB)\n",
      "Installing collected packages: tenacity, plotly\n",
      "Successfully installed plotly-5.18.0 tenacity-8.2.3\n"
     ]
    },
    {
     "name": "stderr",
     "output_type": "stream",
     "text": [
      "WARNING: You are using pip version 21.3.1; however, version 23.3.1 is available.\n",
      "You should consider upgrading via the 'C:\\Users\\annag\\Desktop\\datavis_project\\venv\\Scripts\\python.exe -m pip install --upgrade pip' command.\n"
     ]
    },
    {
     "name": "stdout",
     "output_type": "stream",
     "text": [
      "Requirement already satisfied: matplotlib in c:\\users\\annag\\desktop\\datavis_project\\venv\\lib\\site-packages (3.8.2)\n",
      "Requirement already satisfied: pillow>=8 in c:\\users\\annag\\desktop\\datavis_project\\venv\\lib\\site-packages (from matplotlib) (10.1.0)\n",
      "Requirement already satisfied: contourpy>=1.0.1 in c:\\users\\annag\\desktop\\datavis_project\\venv\\lib\\site-packages (from matplotlib) (1.2.0)\n",
      "Requirement already satisfied: cycler>=0.10 in c:\\users\\annag\\desktop\\datavis_project\\venv\\lib\\site-packages (from matplotlib) (0.12.1)\n",
      "Requirement already satisfied: numpy<2,>=1.21 in c:\\users\\annag\\desktop\\datavis_project\\venv\\lib\\site-packages (from matplotlib) (1.26.2)\n",
      "Requirement already satisfied: python-dateutil>=2.7 in c:\\users\\annag\\desktop\\datavis_project\\venv\\lib\\site-packages (from matplotlib) (2.8.2)\n",
      "Requirement already satisfied: packaging>=20.0 in c:\\users\\annag\\desktop\\datavis_project\\venv\\lib\\site-packages (from matplotlib) (23.2)\n",
      "Requirement already satisfied: fonttools>=4.22.0 in c:\\users\\annag\\desktop\\datavis_project\\venv\\lib\\site-packages (from matplotlib) (4.45.1)\n",
      "Requirement already satisfied: kiwisolver>=1.3.1 in c:\\users\\annag\\desktop\\datavis_project\\venv\\lib\\site-packages (from matplotlib) (1.4.5)\n",
      "Requirement already satisfied: pyparsing>=2.3.1 in c:\\users\\annag\\desktop\\datavis_project\\venv\\lib\\site-packages (from matplotlib) (3.1.1)\n",
      "Requirement already satisfied: six>=1.5 in c:\\users\\annag\\desktop\\datavis_project\\venv\\lib\\site-packages (from python-dateutil>=2.7->matplotlib) (1.16.0)\n"
     ]
    },
    {
     "name": "stderr",
     "output_type": "stream",
     "text": [
      "WARNING: You are using pip version 21.3.1; however, version 23.3.1 is available.\n",
      "You should consider upgrading via the 'C:\\Users\\annag\\Desktop\\datavis_project\\venv\\Scripts\\python.exe -m pip install --upgrade pip' command.\n"
     ]
    },
    {
     "name": "stdout",
     "output_type": "stream",
     "text": [
      "Requirement already satisfied: matplotlib in c:\\users\\annag\\desktop\\datavis_project\\venv\\lib\\site-packages (3.8.2)\n",
      "Requirement already satisfied: pillow>=8 in c:\\users\\annag\\desktop\\datavis_project\\venv\\lib\\site-packages (from matplotlib) (10.1.0)\n",
      "Requirement already satisfied: cycler>=0.10 in c:\\users\\annag\\desktop\\datavis_project\\venv\\lib\\site-packages (from matplotlib) (0.12.1)\n",
      "Requirement already satisfied: pyparsing>=2.3.1 in c:\\users\\annag\\desktop\\datavis_project\\venv\\lib\\site-packages (from matplotlib) (3.1.1)\n",
      "Requirement already satisfied: packaging>=20.0 in c:\\users\\annag\\desktop\\datavis_project\\venv\\lib\\site-packages (from matplotlib) (23.2)\n",
      "Requirement already satisfied: fonttools>=4.22.0 in c:\\users\\annag\\desktop\\datavis_project\\venv\\lib\\site-packages (from matplotlib) (4.45.1)\n",
      "Requirement already satisfied: python-dateutil>=2.7 in c:\\users\\annag\\desktop\\datavis_project\\venv\\lib\\site-packages (from matplotlib) (2.8.2)\n",
      "Requirement already satisfied: numpy<2,>=1.21 in c:\\users\\annag\\desktop\\datavis_project\\venv\\lib\\site-packages (from matplotlib) (1.26.2)\n",
      "Requirement already satisfied: contourpy>=1.0.1 in c:\\users\\annag\\desktop\\datavis_project\\venv\\lib\\site-packages (from matplotlib) (1.2.0)\n",
      "Requirement already satisfied: kiwisolver>=1.3.1 in c:\\users\\annag\\desktop\\datavis_project\\venv\\lib\\site-packages (from matplotlib) (1.4.5)\n",
      "Requirement already satisfied: six>=1.5 in c:\\users\\annag\\desktop\\datavis_project\\venv\\lib\\site-packages (from python-dateutil>=2.7->matplotlib) (1.16.0)\n"
     ]
    },
    {
     "name": "stderr",
     "output_type": "stream",
     "text": [
      "WARNING: You are using pip version 21.3.1; however, version 23.3.1 is available.\n",
      "You should consider upgrading via the 'C:\\Users\\annag\\Desktop\\datavis_project\\venv\\Scripts\\python.exe -m pip install --upgrade pip' command.\n"
     ]
    },
    {
     "name": "stdout",
     "output_type": "stream",
     "text": [
      "Collecting scikit-learn\n",
      "  Downloading scikit_learn-1.3.2-cp310-cp310-win_amd64.whl (9.3 MB)\n",
      "Collecting scipy>=1.5.0\n",
      "  Downloading scipy-1.11.4-cp310-cp310-win_amd64.whl (44.1 MB)\n",
      "Requirement already satisfied: numpy<2.0,>=1.17.3 in c:\\users\\annag\\desktop\\datavis_project\\venv\\lib\\site-packages (from scikit-learn) (1.26.2)\n",
      "Collecting joblib>=1.1.1\n",
      "  Downloading joblib-1.3.2-py3-none-any.whl (302 kB)\n",
      "Collecting threadpoolctl>=2.0.0\n",
      "  Downloading threadpoolctl-3.2.0-py3-none-any.whl (15 kB)\n",
      "Installing collected packages: threadpoolctl, scipy, joblib, scikit-learn\n",
      "Successfully installed joblib-1.3.2 scikit-learn-1.3.2 scipy-1.11.4 threadpoolctl-3.2.0\n"
     ]
    },
    {
     "name": "stderr",
     "output_type": "stream",
     "text": [
      "WARNING: You are using pip version 21.3.1; however, version 23.3.1 is available.\n",
      "You should consider upgrading via the 'C:\\Users\\annag\\Desktop\\datavis_project\\venv\\Scripts\\python.exe -m pip install --upgrade pip' command.\n"
     ]
    },
    {
     "name": "stdout",
     "output_type": "stream",
     "text": [
      "Collecting geopy\n",
      "  Downloading geopy-2.4.1-py3-none-any.whl (125 kB)\n",
      "Collecting geographiclib<3,>=1.52\n",
      "  Using cached geographiclib-2.0-py3-none-any.whl (40 kB)\n",
      "Installing collected packages: geographiclib, geopy\n",
      "Successfully installed geographiclib-2.0 geopy-2.4.1\n"
     ]
    },
    {
     "name": "stderr",
     "output_type": "stream",
     "text": [
      "WARNING: You are using pip version 21.3.1; however, version 23.3.1 is available.\n",
      "You should consider upgrading via the 'C:\\Users\\annag\\Desktop\\datavis_project\\venv\\Scripts\\python.exe -m pip install --upgrade pip' command.\n"
     ]
    }
   ],
   "source": [
    "# !pip install plotly\n",
    "# !pip install matplotlib\n",
    "# !pip install --upgrade matplotlib\n",
    "# !pip install scikit-learn\n",
    "# !pip install geopy\n",
    "\n",
    "import plotly.offline as py\n",
    "import plotly.graph_objs as go\n",
    "\n",
    "import pandas as pd\n",
    "from geopy.geocoders import Nominatim"
   ]
  },
  {
   "cell_type": "markdown",
   "metadata": {},
   "source": [
    "### Load datasets"
   ]
  },
  {
   "cell_type": "code",
   "execution_count": 2,
   "metadata": {},
   "outputs": [],
   "source": [
    "# flights_delay_dataset = pd.read_parquet('parquet_sample/Flight_Delay.parquet', engine='pyarrow')\n",
    "features_added_dataset = pd.read_parquet('parquet_sample/features_added_modified.parquet', engine='pyarrow')"
   ]
  },
  {
   "cell_type": "code",
   "execution_count": 3,
   "metadata": {},
   "outputs": [],
   "source": [
    "pd.set_option('display.max_columns', None)\n",
    "# flights_delay_dataset.head(10)"
   ]
  },
  {
   "cell_type": "markdown",
   "metadata": {},
   "source": [
    "### Geocode cities and add latitude and longitude"
   ]
  },
  {
   "cell_type": "code",
   "execution_count": 14,
   "metadata": {},
   "outputs": [],
   "source": [
    "def geocode_cities(df, city_column, type):\n",
    "    \"\"\"\n",
    "    Geocode cities in a DataFrame and add latitude and longitude columns.\n",
    "\n",
    "    Args:\n",
    "        df (pd.DataFrame): DataFrame\n",
    "        city_column (str): Name of the column containing city names\n",
    "\n",
    "    Returns:\n",
    "        pd.DataFrame: DataFrame with added 'latitude' and 'longitude' columns.\n",
    "    \"\"\"\n",
    "    # Initialize geocoder\n",
    "    geolocator = Nominatim(user_agent=\"my_geocoder\")\n",
    "\n",
    "    # Geocode each city and add latitude and longitude columns\n",
    "    df[f'location_{type}'] = df[city_column].apply(geolocator.geocode)\n",
    "    df[f'latitude_{type}'] = df[f'location_{type}'].apply(lambda loc: loc.latitude if loc else None)\n",
    "    df[f'longitude_{type}'] = df[f'location_{type}'].apply(lambda loc: loc.longitude if loc else None)\n",
    "\n",
    "     # Drop rows with NaN values in latitude or longitude\n",
    "    # df = df.dropna(subset=['latitude', 'longitude'])\n",
    "\n",
    "    # Drop the 'location' column if you don't need it anymore\n",
    "    df = df.drop(f'location_{type}', axis=1)\n",
    "\n",
    "    return df"
   ]
  },
  {
   "cell_type": "code",
   "execution_count": 15,
   "outputs": [
    {
     "data": {
      "text/plain": "        Year  Month  DayofMonth FlightDate Marketing_Airline_Network  DepTime  \\\n369807  2019      2          18 2019-02-18                        UA   1345.0   \n172835  2022      4           6 2022-04-06                        AA   1401.0   \n568019  2018      7           4 2018-07-04                        AS    733.0   \n187664  2022      9           5 2022-09-05                        AA   1355.0   \n339238  2021      4          10 2021-04-10                        UA   1203.0   \n...      ...    ...         ...        ...                       ...      ...   \n1395    2018      5          29 2018-05-29                        AA   2234.0   \n124660  2019      5           2 2019-05-02                        WN    921.0   \n304298  2018      5          10 2018-05-10                        WN    843.0   \n357360  2018      9          19 2018-09-19                        B6   1616.0   \n449241  2019      9          25 2019-09-25                        AA   1221.0   \n\n        DepDelay  DepDelayMinutes  TaxiOut  TaxiIn  ArrTime  ArrDelay  \\\n369807      45.0             45.0     10.0     8.0   1703.0      24.0   \n172835      24.0             24.0     22.0    16.0   1608.0      24.0   \n568019     123.0            123.0      6.0     4.0    923.0     120.0   \n187664     265.0            265.0     19.0     4.0   1630.0     245.0   \n339238      35.0             35.0     23.0    11.0   1321.0      36.0   \n...          ...              ...      ...     ...      ...       ...   \n1395        54.0             54.0     12.0     5.0   2356.0      18.0   \n124660      16.0             16.0     16.0     4.0   1030.0      15.0   \n304298     163.0            163.0      8.0     2.0    936.0     161.0   \n357360      30.0             30.0     50.0     6.0   1817.0      64.0   \n449241     120.0            120.0     36.0     4.0   1411.0     130.0   \n\n        ArrDelayMinutes  CRSElapsedTime  ActualElapsedTime  AirTime  Distance  \\\n369807             24.0           159.0              138.0    120.0     946.0   \n172835             24.0           187.0              187.0    149.0     987.0   \n568019            120.0            53.0               50.0     40.0     198.0   \n187664            245.0           355.0              335.0    312.0    2615.0   \n339238             36.0            77.0               78.0     44.0     251.0   \n...                 ...             ...                ...      ...       ...   \n1395               18.0           178.0              142.0    125.0     964.0   \n124660             15.0            70.0               69.0     49.0     296.0   \n304298            161.0            55.0               53.0     43.0     159.0   \n357360             64.0            87.0              121.0     65.0     369.0   \n449241            130.0           100.0              110.0     70.0     436.0   \n\n        DistanceGroup  CarrierDelay  WeatherDelay  NASDelay  SecurityDelay  \\\n369807              4           0.0           0.0      23.0            0.0   \n172835              4           0.0           0.0       0.0            0.0   \n568019              1           0.0           0.0       0.0            0.0   \n187664             11           0.0           0.0       0.0            0.0   \n339238              2           4.0           0.0       1.0            0.0   \n...               ...           ...           ...       ...            ...   \n1395                4          18.0           0.0       0.0            0.0   \n124660              2          13.0           0.0       0.0            0.0   \n304298              1         161.0           0.0       0.0            0.0   \n357360              2           0.0           0.0      64.0            0.0   \n449241              2         120.0           0.0      10.0            0.0   \n\n        LateAircraftDelay  DayofWeek  Holidays CRSDepTimeMinute  \\\n369807                1.0          0      True               00   \n172835               24.0          2     False               37   \n568019              120.0          2      True               30   \n187664              245.0          0      True               30   \n339238               31.0          5     False               28   \n...                   ...        ...       ...              ...   \n1395                  0.0          1     False               40   \n124660                2.0          3     False               05   \n304298                0.0          3     False               00   \n357360                0.0          2     False               46   \n449241                0.0          2     False               21   \n\n        CRSDepTimeHour  WheelsOffMinute  WheelsOffHour  CRSArrTimeMinute  \\\n369807              13               55             13                39   \n172835              13               23             14                44   \n568019               5               39              7                23   \n187664               9               14             14                25   \n339238              11               26             12                45   \n...                ...              ...            ...               ...   \n1395                21               46             22                38   \n124660               9               37              9                15   \n304298               6               51              8                55   \n357360              15                6             17                13   \n449241              10               57             12                 1   \n\n        CRSArrTimeHour  WheelsOnMinute  WheelsOnHour CRSDepTimeHourDis  \\\n369807              16              55            16         Afternoon   \n172835              15              52            15         Afternoon   \n568019               7              19             9      EarlyMorning   \n187664              12              26            16           Morning   \n339238              12              10            13           Morning   \n...                ...             ...           ...               ...   \n1395                23              51            23             Night   \n124660              10              26            10           Morning   \n304298               6              34             9           Morning   \n357360              17              11            18         Afternoon   \n449241              12               7            14           Morning   \n\n       WheelsOffHourDis CRSArrTimeHourDis WheelsOnHourDis  \\\n369807        Afternoon         Afternoon       Afternoon   \n172835        Afternoon         Afternoon       Afternoon   \n568019          Morning           Morning         Morning   \n187664        Afternoon         Afternoon       Afternoon   \n339238        Afternoon         Afternoon       Afternoon   \n...                 ...               ...             ...   \n1395              Night             Night           Night   \n124660          Morning           Morning         Morning   \n304298          Morning           Morning         Morning   \n357360          Evening           Evening         Evening   \n449241        Afternoon         Afternoon       Afternoon   \n\n        CRSElapsedTimeGorup   DepHour   ArrHour   OriginCity OriginState  \\\n369807                    4  13:45:00  17:03:00      Memphis          TN   \n172835                    4  14:01:00  16:08:00   Charleston          SC   \n568019                    2  07:33:00  09:23:00     Lewiston          ID   \n187664                    8  13:55:00  16:30:00  Los Angeles          CA   \n339238                    2  12:03:00  13:21:00      Durango          CO   \n...                     ...       ...       ...          ...         ...   \n1395                      4  22:34:00  23:56:00        Miami          FL   \n124660                    2  09:21:00  10:30:00       Dallas          TX   \n304298                    2  08:43:00  09:36:00      Norfolk          VA   \n357360                    2  16:16:00  18:17:00    Baltimore          MD   \n449241                    2  12:21:00  14:11:00      Chicago          IL   \n\n                 DestCity DestState         CarrierName  CRSDep  \\\n369807             Newark        NJ     United Airlines    1300   \n172835  Dallas/Fort Worth        TX   American Airlines    1337   \n568019              Boise        ID     Alaska Airlines     530   \n187664              Lihue        HI   American Airlines     930   \n339238             Denver        CO     United Airlines    1128   \n...                   ...       ...                 ...     ...   \n1395              Houston        TX   American Airlines    2140   \n124660        Little Rock        AR  Southwest Airlines     905   \n304298          Baltimore        MD  Southwest Airlines     600   \n357360             Boston        MA     JetBlue Airways    1546   \n449241         Sioux City        IA   American Airlines    1021   \n\n                                                 location   latitude  \\\n369807  (Memphis, Shelby County, West Tennessee, Tenne...  35.146025   \n172835  (Charleston, Charleston County, South Carolina...  32.788436   \n568019  (Lewiston, Nez Perce County, Idaho, 83501, Uni...  46.419591   \n187664  (Los Angeles, Los Angeles County, California, ...  34.053691   \n339238        (Durango, México, (24.833333, -104.833333))  24.833333   \n...                                                   ...        ...   \n1395    (Miami, Miami-Dade County, Florida, United Sta...  25.774173   \n124660  (Dallas, Dallas County, Texas, United States, ...  32.776272   \n304298  (Norfolk, England, United Kingdom, (52.666667,...  52.666667   \n357360  (Baltimore, Maryland, United States, (39.29088...  39.290882   \n449241  (Chicago, Cook County, Illinois, United States...  41.875562   \n\n         longitude  \n369807  -90.051764  \n172835  -79.939931  \n568019 -117.021614  \n187664 -118.242766  \n339238 -104.833333  \n...            ...  \n1395    -80.193620  \n124660  -96.796856  \n304298    1.000000  \n357360  -76.610759  \n449241  -87.624421  \n\n[180 rows x 49 columns]",
      "text/html": "<div>\n<style scoped>\n    .dataframe tbody tr th:only-of-type {\n        vertical-align: middle;\n    }\n\n    .dataframe tbody tr th {\n        vertical-align: top;\n    }\n\n    .dataframe thead th {\n        text-align: right;\n    }\n</style>\n<table border=\"1\" class=\"dataframe\">\n  <thead>\n    <tr style=\"text-align: right;\">\n      <th></th>\n      <th>Year</th>\n      <th>Month</th>\n      <th>DayofMonth</th>\n      <th>FlightDate</th>\n      <th>Marketing_Airline_Network</th>\n      <th>DepTime</th>\n      <th>DepDelay</th>\n      <th>DepDelayMinutes</th>\n      <th>TaxiOut</th>\n      <th>TaxiIn</th>\n      <th>ArrTime</th>\n      <th>ArrDelay</th>\n      <th>ArrDelayMinutes</th>\n      <th>CRSElapsedTime</th>\n      <th>ActualElapsedTime</th>\n      <th>AirTime</th>\n      <th>Distance</th>\n      <th>DistanceGroup</th>\n      <th>CarrierDelay</th>\n      <th>WeatherDelay</th>\n      <th>NASDelay</th>\n      <th>SecurityDelay</th>\n      <th>LateAircraftDelay</th>\n      <th>DayofWeek</th>\n      <th>Holidays</th>\n      <th>CRSDepTimeMinute</th>\n      <th>CRSDepTimeHour</th>\n      <th>WheelsOffMinute</th>\n      <th>WheelsOffHour</th>\n      <th>CRSArrTimeMinute</th>\n      <th>CRSArrTimeHour</th>\n      <th>WheelsOnMinute</th>\n      <th>WheelsOnHour</th>\n      <th>CRSDepTimeHourDis</th>\n      <th>WheelsOffHourDis</th>\n      <th>CRSArrTimeHourDis</th>\n      <th>WheelsOnHourDis</th>\n      <th>CRSElapsedTimeGorup</th>\n      <th>DepHour</th>\n      <th>ArrHour</th>\n      <th>OriginCity</th>\n      <th>OriginState</th>\n      <th>DestCity</th>\n      <th>DestState</th>\n      <th>CarrierName</th>\n      <th>CRSDep</th>\n      <th>location</th>\n      <th>latitude</th>\n      <th>longitude</th>\n    </tr>\n  </thead>\n  <tbody>\n    <tr>\n      <th>369807</th>\n      <td>2019</td>\n      <td>2</td>\n      <td>18</td>\n      <td>2019-02-18</td>\n      <td>UA</td>\n      <td>1345.0</td>\n      <td>45.0</td>\n      <td>45.0</td>\n      <td>10.0</td>\n      <td>8.0</td>\n      <td>1703.0</td>\n      <td>24.0</td>\n      <td>24.0</td>\n      <td>159.0</td>\n      <td>138.0</td>\n      <td>120.0</td>\n      <td>946.0</td>\n      <td>4</td>\n      <td>0.0</td>\n      <td>0.0</td>\n      <td>23.0</td>\n      <td>0.0</td>\n      <td>1.0</td>\n      <td>0</td>\n      <td>True</td>\n      <td>00</td>\n      <td>13</td>\n      <td>55</td>\n      <td>13</td>\n      <td>39</td>\n      <td>16</td>\n      <td>55</td>\n      <td>16</td>\n      <td>Afternoon</td>\n      <td>Afternoon</td>\n      <td>Afternoon</td>\n      <td>Afternoon</td>\n      <td>4</td>\n      <td>13:45:00</td>\n      <td>17:03:00</td>\n      <td>Memphis</td>\n      <td>TN</td>\n      <td>Newark</td>\n      <td>NJ</td>\n      <td>United Airlines</td>\n      <td>1300</td>\n      <td>(Memphis, Shelby County, West Tennessee, Tenne...</td>\n      <td>35.146025</td>\n      <td>-90.051764</td>\n    </tr>\n    <tr>\n      <th>172835</th>\n      <td>2022</td>\n      <td>4</td>\n      <td>6</td>\n      <td>2022-04-06</td>\n      <td>AA</td>\n      <td>1401.0</td>\n      <td>24.0</td>\n      <td>24.0</td>\n      <td>22.0</td>\n      <td>16.0</td>\n      <td>1608.0</td>\n      <td>24.0</td>\n      <td>24.0</td>\n      <td>187.0</td>\n      <td>187.0</td>\n      <td>149.0</td>\n      <td>987.0</td>\n      <td>4</td>\n      <td>0.0</td>\n      <td>0.0</td>\n      <td>0.0</td>\n      <td>0.0</td>\n      <td>24.0</td>\n      <td>2</td>\n      <td>False</td>\n      <td>37</td>\n      <td>13</td>\n      <td>23</td>\n      <td>14</td>\n      <td>44</td>\n      <td>15</td>\n      <td>52</td>\n      <td>15</td>\n      <td>Afternoon</td>\n      <td>Afternoon</td>\n      <td>Afternoon</td>\n      <td>Afternoon</td>\n      <td>4</td>\n      <td>14:01:00</td>\n      <td>16:08:00</td>\n      <td>Charleston</td>\n      <td>SC</td>\n      <td>Dallas/Fort Worth</td>\n      <td>TX</td>\n      <td>American Airlines</td>\n      <td>1337</td>\n      <td>(Charleston, Charleston County, South Carolina...</td>\n      <td>32.788436</td>\n      <td>-79.939931</td>\n    </tr>\n    <tr>\n      <th>568019</th>\n      <td>2018</td>\n      <td>7</td>\n      <td>4</td>\n      <td>2018-07-04</td>\n      <td>AS</td>\n      <td>733.0</td>\n      <td>123.0</td>\n      <td>123.0</td>\n      <td>6.0</td>\n      <td>4.0</td>\n      <td>923.0</td>\n      <td>120.0</td>\n      <td>120.0</td>\n      <td>53.0</td>\n      <td>50.0</td>\n      <td>40.0</td>\n      <td>198.0</td>\n      <td>1</td>\n      <td>0.0</td>\n      <td>0.0</td>\n      <td>0.0</td>\n      <td>0.0</td>\n      <td>120.0</td>\n      <td>2</td>\n      <td>True</td>\n      <td>30</td>\n      <td>5</td>\n      <td>39</td>\n      <td>7</td>\n      <td>23</td>\n      <td>7</td>\n      <td>19</td>\n      <td>9</td>\n      <td>EarlyMorning</td>\n      <td>Morning</td>\n      <td>Morning</td>\n      <td>Morning</td>\n      <td>2</td>\n      <td>07:33:00</td>\n      <td>09:23:00</td>\n      <td>Lewiston</td>\n      <td>ID</td>\n      <td>Boise</td>\n      <td>ID</td>\n      <td>Alaska Airlines</td>\n      <td>530</td>\n      <td>(Lewiston, Nez Perce County, Idaho, 83501, Uni...</td>\n      <td>46.419591</td>\n      <td>-117.021614</td>\n    </tr>\n    <tr>\n      <th>187664</th>\n      <td>2022</td>\n      <td>9</td>\n      <td>5</td>\n      <td>2022-09-05</td>\n      <td>AA</td>\n      <td>1355.0</td>\n      <td>265.0</td>\n      <td>265.0</td>\n      <td>19.0</td>\n      <td>4.0</td>\n      <td>1630.0</td>\n      <td>245.0</td>\n      <td>245.0</td>\n      <td>355.0</td>\n      <td>335.0</td>\n      <td>312.0</td>\n      <td>2615.0</td>\n      <td>11</td>\n      <td>0.0</td>\n      <td>0.0</td>\n      <td>0.0</td>\n      <td>0.0</td>\n      <td>245.0</td>\n      <td>0</td>\n      <td>True</td>\n      <td>30</td>\n      <td>9</td>\n      <td>14</td>\n      <td>14</td>\n      <td>25</td>\n      <td>12</td>\n      <td>26</td>\n      <td>16</td>\n      <td>Morning</td>\n      <td>Afternoon</td>\n      <td>Afternoon</td>\n      <td>Afternoon</td>\n      <td>8</td>\n      <td>13:55:00</td>\n      <td>16:30:00</td>\n      <td>Los Angeles</td>\n      <td>CA</td>\n      <td>Lihue</td>\n      <td>HI</td>\n      <td>American Airlines</td>\n      <td>930</td>\n      <td>(Los Angeles, Los Angeles County, California, ...</td>\n      <td>34.053691</td>\n      <td>-118.242766</td>\n    </tr>\n    <tr>\n      <th>339238</th>\n      <td>2021</td>\n      <td>4</td>\n      <td>10</td>\n      <td>2021-04-10</td>\n      <td>UA</td>\n      <td>1203.0</td>\n      <td>35.0</td>\n      <td>35.0</td>\n      <td>23.0</td>\n      <td>11.0</td>\n      <td>1321.0</td>\n      <td>36.0</td>\n      <td>36.0</td>\n      <td>77.0</td>\n      <td>78.0</td>\n      <td>44.0</td>\n      <td>251.0</td>\n      <td>2</td>\n      <td>4.0</td>\n      <td>0.0</td>\n      <td>1.0</td>\n      <td>0.0</td>\n      <td>31.0</td>\n      <td>5</td>\n      <td>False</td>\n      <td>28</td>\n      <td>11</td>\n      <td>26</td>\n      <td>12</td>\n      <td>45</td>\n      <td>12</td>\n      <td>10</td>\n      <td>13</td>\n      <td>Morning</td>\n      <td>Afternoon</td>\n      <td>Afternoon</td>\n      <td>Afternoon</td>\n      <td>2</td>\n      <td>12:03:00</td>\n      <td>13:21:00</td>\n      <td>Durango</td>\n      <td>CO</td>\n      <td>Denver</td>\n      <td>CO</td>\n      <td>United Airlines</td>\n      <td>1128</td>\n      <td>(Durango, México, (24.833333, -104.833333))</td>\n      <td>24.833333</td>\n      <td>-104.833333</td>\n    </tr>\n    <tr>\n      <th>...</th>\n      <td>...</td>\n      <td>...</td>\n      <td>...</td>\n      <td>...</td>\n      <td>...</td>\n      <td>...</td>\n      <td>...</td>\n      <td>...</td>\n      <td>...</td>\n      <td>...</td>\n      <td>...</td>\n      <td>...</td>\n      <td>...</td>\n      <td>...</td>\n      <td>...</td>\n      <td>...</td>\n      <td>...</td>\n      <td>...</td>\n      <td>...</td>\n      <td>...</td>\n      <td>...</td>\n      <td>...</td>\n      <td>...</td>\n      <td>...</td>\n      <td>...</td>\n      <td>...</td>\n      <td>...</td>\n      <td>...</td>\n      <td>...</td>\n      <td>...</td>\n      <td>...</td>\n      <td>...</td>\n      <td>...</td>\n      <td>...</td>\n      <td>...</td>\n      <td>...</td>\n      <td>...</td>\n      <td>...</td>\n      <td>...</td>\n      <td>...</td>\n      <td>...</td>\n      <td>...</td>\n      <td>...</td>\n      <td>...</td>\n      <td>...</td>\n      <td>...</td>\n      <td>...</td>\n      <td>...</td>\n      <td>...</td>\n    </tr>\n    <tr>\n      <th>1395</th>\n      <td>2018</td>\n      <td>5</td>\n      <td>29</td>\n      <td>2018-05-29</td>\n      <td>AA</td>\n      <td>2234.0</td>\n      <td>54.0</td>\n      <td>54.0</td>\n      <td>12.0</td>\n      <td>5.0</td>\n      <td>2356.0</td>\n      <td>18.0</td>\n      <td>18.0</td>\n      <td>178.0</td>\n      <td>142.0</td>\n      <td>125.0</td>\n      <td>964.0</td>\n      <td>4</td>\n      <td>18.0</td>\n      <td>0.0</td>\n      <td>0.0</td>\n      <td>0.0</td>\n      <td>0.0</td>\n      <td>1</td>\n      <td>False</td>\n      <td>40</td>\n      <td>21</td>\n      <td>46</td>\n      <td>22</td>\n      <td>38</td>\n      <td>23</td>\n      <td>51</td>\n      <td>23</td>\n      <td>Night</td>\n      <td>Night</td>\n      <td>Night</td>\n      <td>Night</td>\n      <td>4</td>\n      <td>22:34:00</td>\n      <td>23:56:00</td>\n      <td>Miami</td>\n      <td>FL</td>\n      <td>Houston</td>\n      <td>TX</td>\n      <td>American Airlines</td>\n      <td>2140</td>\n      <td>(Miami, Miami-Dade County, Florida, United Sta...</td>\n      <td>25.774173</td>\n      <td>-80.193620</td>\n    </tr>\n    <tr>\n      <th>124660</th>\n      <td>2019</td>\n      <td>5</td>\n      <td>2</td>\n      <td>2019-05-02</td>\n      <td>WN</td>\n      <td>921.0</td>\n      <td>16.0</td>\n      <td>16.0</td>\n      <td>16.0</td>\n      <td>4.0</td>\n      <td>1030.0</td>\n      <td>15.0</td>\n      <td>15.0</td>\n      <td>70.0</td>\n      <td>69.0</td>\n      <td>49.0</td>\n      <td>296.0</td>\n      <td>2</td>\n      <td>13.0</td>\n      <td>0.0</td>\n      <td>0.0</td>\n      <td>0.0</td>\n      <td>2.0</td>\n      <td>3</td>\n      <td>False</td>\n      <td>05</td>\n      <td>9</td>\n      <td>37</td>\n      <td>9</td>\n      <td>15</td>\n      <td>10</td>\n      <td>26</td>\n      <td>10</td>\n      <td>Morning</td>\n      <td>Morning</td>\n      <td>Morning</td>\n      <td>Morning</td>\n      <td>2</td>\n      <td>09:21:00</td>\n      <td>10:30:00</td>\n      <td>Dallas</td>\n      <td>TX</td>\n      <td>Little Rock</td>\n      <td>AR</td>\n      <td>Southwest Airlines</td>\n      <td>905</td>\n      <td>(Dallas, Dallas County, Texas, United States, ...</td>\n      <td>32.776272</td>\n      <td>-96.796856</td>\n    </tr>\n    <tr>\n      <th>304298</th>\n      <td>2018</td>\n      <td>5</td>\n      <td>10</td>\n      <td>2018-05-10</td>\n      <td>WN</td>\n      <td>843.0</td>\n      <td>163.0</td>\n      <td>163.0</td>\n      <td>8.0</td>\n      <td>2.0</td>\n      <td>936.0</td>\n      <td>161.0</td>\n      <td>161.0</td>\n      <td>55.0</td>\n      <td>53.0</td>\n      <td>43.0</td>\n      <td>159.0</td>\n      <td>1</td>\n      <td>161.0</td>\n      <td>0.0</td>\n      <td>0.0</td>\n      <td>0.0</td>\n      <td>0.0</td>\n      <td>3</td>\n      <td>False</td>\n      <td>00</td>\n      <td>6</td>\n      <td>51</td>\n      <td>8</td>\n      <td>55</td>\n      <td>6</td>\n      <td>34</td>\n      <td>9</td>\n      <td>Morning</td>\n      <td>Morning</td>\n      <td>Morning</td>\n      <td>Morning</td>\n      <td>2</td>\n      <td>08:43:00</td>\n      <td>09:36:00</td>\n      <td>Norfolk</td>\n      <td>VA</td>\n      <td>Baltimore</td>\n      <td>MD</td>\n      <td>Southwest Airlines</td>\n      <td>600</td>\n      <td>(Norfolk, England, United Kingdom, (52.666667,...</td>\n      <td>52.666667</td>\n      <td>1.000000</td>\n    </tr>\n    <tr>\n      <th>357360</th>\n      <td>2018</td>\n      <td>9</td>\n      <td>19</td>\n      <td>2018-09-19</td>\n      <td>B6</td>\n      <td>1616.0</td>\n      <td>30.0</td>\n      <td>30.0</td>\n      <td>50.0</td>\n      <td>6.0</td>\n      <td>1817.0</td>\n      <td>64.0</td>\n      <td>64.0</td>\n      <td>87.0</td>\n      <td>121.0</td>\n      <td>65.0</td>\n      <td>369.0</td>\n      <td>2</td>\n      <td>0.0</td>\n      <td>0.0</td>\n      <td>64.0</td>\n      <td>0.0</td>\n      <td>0.0</td>\n      <td>2</td>\n      <td>False</td>\n      <td>46</td>\n      <td>15</td>\n      <td>6</td>\n      <td>17</td>\n      <td>13</td>\n      <td>17</td>\n      <td>11</td>\n      <td>18</td>\n      <td>Afternoon</td>\n      <td>Evening</td>\n      <td>Evening</td>\n      <td>Evening</td>\n      <td>2</td>\n      <td>16:16:00</td>\n      <td>18:17:00</td>\n      <td>Baltimore</td>\n      <td>MD</td>\n      <td>Boston</td>\n      <td>MA</td>\n      <td>JetBlue Airways</td>\n      <td>1546</td>\n      <td>(Baltimore, Maryland, United States, (39.29088...</td>\n      <td>39.290882</td>\n      <td>-76.610759</td>\n    </tr>\n    <tr>\n      <th>449241</th>\n      <td>2019</td>\n      <td>9</td>\n      <td>25</td>\n      <td>2019-09-25</td>\n      <td>AA</td>\n      <td>1221.0</td>\n      <td>120.0</td>\n      <td>120.0</td>\n      <td>36.0</td>\n      <td>4.0</td>\n      <td>1411.0</td>\n      <td>130.0</td>\n      <td>130.0</td>\n      <td>100.0</td>\n      <td>110.0</td>\n      <td>70.0</td>\n      <td>436.0</td>\n      <td>2</td>\n      <td>120.0</td>\n      <td>0.0</td>\n      <td>10.0</td>\n      <td>0.0</td>\n      <td>0.0</td>\n      <td>2</td>\n      <td>False</td>\n      <td>21</td>\n      <td>10</td>\n      <td>57</td>\n      <td>12</td>\n      <td>1</td>\n      <td>12</td>\n      <td>7</td>\n      <td>14</td>\n      <td>Morning</td>\n      <td>Afternoon</td>\n      <td>Afternoon</td>\n      <td>Afternoon</td>\n      <td>2</td>\n      <td>12:21:00</td>\n      <td>14:11:00</td>\n      <td>Chicago</td>\n      <td>IL</td>\n      <td>Sioux City</td>\n      <td>IA</td>\n      <td>American Airlines</td>\n      <td>1021</td>\n      <td>(Chicago, Cook County, Illinois, United States...</td>\n      <td>41.875562</td>\n      <td>-87.624421</td>\n    </tr>\n  </tbody>\n</table>\n<p>180 rows × 49 columns</p>\n</div>"
     },
     "execution_count": 15,
     "metadata": {},
     "output_type": "execute_result"
    }
   ],
   "source": [
    "features_added_dataset"
   ],
   "metadata": {
    "collapsed": false
   }
  },
  {
   "cell_type": "code",
   "execution_count": 68,
   "metadata": {},
   "outputs": [],
   "source": [
    "features_added_dataset_temp = geocode_cities(features_added_dataset, 'OriginCity', 'origin')"
   ]
  },
  {
   "cell_type": "code",
   "execution_count": 69,
   "outputs": [],
   "source": [
    "features_added_dataset_temp = geocode_cities(features_added_dataset, 'DestCity', 'destination')"
   ],
   "metadata": {
    "collapsed": false
   }
  },
  {
   "cell_type": "markdown",
   "metadata": {},
   "source": [
    "### Drop rows where lat or long is NaN"
   ]
  },
  {
   "cell_type": "code",
   "execution_count": 70,
   "metadata": {},
   "outputs": [
    {
     "data": {
      "text/plain": "        Year  Month  DayofMonth FlightDate Marketing_Airline_Network  DepTime  \\\n369807  2019      2          18 2019-02-18                        UA   1345.0   \n172835  2022      4           6 2022-04-06                        AA   1401.0   \n568019  2018      7           4 2018-07-04                        AS    733.0   \n187664  2022      9           5 2022-09-05                        AA   1355.0   \n339238  2021      4          10 2021-04-10                        UA   1203.0   \n529130  2019     10           5 2019-10-05                        UA   1457.0   \n409784  2022     11          30 2022-11-30                        DL   1952.0   \n152372  2018      3           9 2018-03-09                        UA   1619.0   \n376371  2023      1           1 2023-01-01                        UA   1117.0   \n131240  2021      8          21 2021-08-21                        NK   2123.0   \n\n        DepDelay  DepDelayMinutes  TaxiOut  TaxiIn  ArrTime  ArrDelay  \\\n369807      45.0             45.0     10.0     8.0   1703.0      24.0   \n172835      24.0             24.0     22.0    16.0   1608.0      24.0   \n568019     123.0            123.0      6.0     4.0    923.0     120.0   \n187664     265.0            265.0     19.0     4.0   1630.0     245.0   \n339238      35.0             35.0     23.0    11.0   1321.0      36.0   \n529130      37.0             37.0     14.0     4.0   1832.0      25.0   \n409784     209.0            209.0     24.0    11.0   2117.0     230.0   \n152372      39.0             39.0     24.0     7.0   1755.0      24.0   \n376371      12.0             12.0     29.0     9.0   1145.0      15.0   \n131240     111.0            111.0     23.0    10.0   2318.0     103.0   \n\n        ArrDelayMinutes  CRSElapsedTime  ActualElapsedTime  AirTime  Distance  \\\n369807             24.0           159.0              138.0    120.0     946.0   \n172835             24.0           187.0              187.0    149.0     987.0   \n568019            120.0            53.0               50.0     40.0     198.0   \n187664            245.0           355.0              335.0    312.0    2615.0   \n339238             36.0            77.0               78.0     44.0     251.0   \n529130             25.0           167.0              155.0    137.0    1117.0   \n409784            230.0            64.0               85.0     50.0     166.0   \n152372             24.0           111.0               96.0     65.0     419.0   \n376371             15.0            85.0               88.0     50.0     235.0   \n131240            103.0           123.0              115.0     82.0     581.0   \n\n        DistanceGroup  CarrierDelay  WeatherDelay  NASDelay  SecurityDelay  \\\n369807              4           0.0           0.0      23.0            0.0   \n172835              4           0.0           0.0       0.0            0.0   \n568019              1           0.0           0.0       0.0            0.0   \n187664             11           0.0           0.0       0.0            0.0   \n339238              2           4.0           0.0       1.0            0.0   \n529130              5          25.0           0.0       0.0            0.0   \n409784              1           0.0           0.0      21.0            0.0   \n152372              2           0.0           0.0       0.0            0.0   \n376371              1           4.0           0.0       3.0            0.0   \n131240              3         103.0           0.0       0.0            0.0   \n\n        LateAircraftDelay  DayofWeek  Holidays CRSDepTimeMinute  \\\n369807                1.0          0      True               00   \n172835               24.0          2     False               37   \n568019              120.0          2      True               30   \n187664              245.0          0      True               30   \n339238               31.0          5     False               28   \n529130                0.0          5     False               20   \n409784              209.0          2     False               23   \n152372               24.0          4     False               40   \n376371                8.0          6     False               05   \n131240                0.0          5     False               32   \n\n        CRSDepTimeHour  WheelsOffMinute  WheelsOffHour  CRSArrTimeMinute  \\\n369807              13               55             13                39   \n172835              13               23             14                44   \n568019               5               39              7                23   \n187664               9               14             14                25   \n339238              11               26             12                45   \n529130              14               11             15                 7   \n409784              16               16             20                27   \n152372              15               43             16                31   \n376371              11               46             11                30   \n131240              19               46             21                35   \n\n        CRSArrTimeHour  WheelsOnMinute  WheelsOnHour CRSDepTimeHourDis  \\\n369807              16              55            16         Afternoon   \n172835              15              52            15         Afternoon   \n568019               7              19             9      EarlyMorning   \n187664              12              26            16           Morning   \n339238              12              10            13           Morning   \n529130              18              28            18         Afternoon   \n409784              17               6            21         Afternoon   \n152372              17              48            17         Afternoon   \n376371              11              36            11           Morning   \n131240              21               8            23           Evening   \n\n       WheelsOffHourDis CRSArrTimeHourDis WheelsOnHourDis  \\\n369807        Afternoon         Afternoon       Afternoon   \n172835        Afternoon         Afternoon       Afternoon   \n568019          Morning           Morning         Morning   \n187664        Afternoon         Afternoon       Afternoon   \n339238        Afternoon         Afternoon       Afternoon   \n529130        Afternoon           Evening         Evening   \n409784          Evening           Evening           Night   \n152372        Afternoon           Evening         Evening   \n376371          Morning           Morning         Morning   \n131240            Night             Night           Night   \n\n        CRSElapsedTimeGorup   DepHour   ArrHour       OriginCity OriginState  \\\n369807                    4  13:45:00  17:03:00          Memphis          TN   \n172835                    4  14:01:00  16:08:00       Charleston          SC   \n568019                    2  07:33:00  09:23:00         Lewiston          ID   \n187664                    8  13:55:00  16:30:00      Los Angeles          CA   \n339238                    2  12:03:00  13:21:00          Durango          CO   \n529130                    4  14:57:00  18:32:00          Houston          TX   \n409784                    2  19:52:00  21:17:00     White Plains          NY   \n152372                    3  16:19:00  17:55:00         New York          NY   \n376371                    2  11:17:00  11:45:00          Detroit          MI   \n131240                    3  21:23:00  23:18:00  Fort Lauderdale          FL   \n\n                 DestCity DestState        CarrierName  CRSDep  \\\n369807             Newark        NJ    United Airlines    1300   \n172835  Dallas/Fort Worth        TX  American Airlines    1337   \n568019              Boise        ID    Alaska Airlines     530   \n187664              Lihue        HI  American Airlines     930   \n339238             Denver        CO    United Airlines    1128   \n529130         Pittsburgh        PA    United Airlines    1420   \n409784             Boston        MA     Delta Airlines    1623   \n152372          Cleveland        OH    United Airlines    1540   \n376371            Chicago        IL    United Airlines    1105   \n131240            Atlanta        GA    Spirit Airlines    1932   \n\n                                                 location   latitude  \\\n369807  (Memphis, Shelby County, West Tennessee, Tenne...  35.146025   \n172835  (Charleston, Charleston County, South Carolina...  32.788436   \n568019  (Lewiston, Nez Perce County, Idaho, 83501, Uni...  46.419591   \n187664  (Los Angeles, Los Angeles County, California, ...  34.053691   \n339238        (Durango, México, (24.833333, -104.833333))  24.833333   \n529130  (Houston, Harris County, Texas, United States,...  29.758938   \n409784  (City of White Plains, Westchester County, New...  41.033986   \n152372  (City of New York, New York, United States, (4...  40.712728   \n376371  (Detroit, Wayne County, Michigan, United State...  42.331551   \n131240  (Fort Lauderdale, Broward County, Florida, Uni...  26.122308   \n\n         longitude                                    location_origin  \\\n369807  -90.051764  (Memphis, Shelby County, West Tennessee, Tenne...   \n172835  -79.939931  (Charleston, Charleston County, South Carolina...   \n568019 -117.021614  (Lewiston, Nez Perce County, Idaho, 83501, Uni...   \n187664 -118.242766  (Los Angeles, Los Angeles County, California, ...   \n339238 -104.833333        (Durango, México, (24.833333, -104.833333))   \n529130  -95.367697  (Houston, Harris County, Texas, United States,...   \n409784  -73.762910  (City of White Plains, Westchester County, New...   \n152372  -74.006015  (City of New York, New York, United States, (4...   \n376371  -83.046640  (Detroit, Wayne County, Michigan, United State...   \n131240  -80.143379  (Fort Lauderdale, Broward County, Florida, Uni...   \n\n        latitude_origin  longitude_origin  latitude_destination  \\\n369807        35.146025        -90.051764             40.735657   \n172835        32.788436        -79.939931             32.731316   \n568019        46.419591       -117.021614             43.616616   \n187664        34.053691       -118.242766             21.976962   \n339238        24.833333       -104.833333             39.739236   \n529130        29.758938        -95.367697             40.441694   \n409784        41.033986        -73.762910             42.355433   \n152372        40.712728        -74.006015             41.499657   \n376371        42.331551        -83.046640             41.875562   \n131240        26.122308        -80.143379             33.748992   \n\n        longitude_destination  \n369807             -74.172367  \n172835             -97.499982  \n568019            -116.200886  \n187664            -159.368772  \n339238            -104.984862  \n529130             -79.990086  \n409784             -71.060511  \n152372             -81.693677  \n376371             -87.624421  \n131240             -84.390264  ",
      "text/html": "<div>\n<style scoped>\n    .dataframe tbody tr th:only-of-type {\n        vertical-align: middle;\n    }\n\n    .dataframe tbody tr th {\n        vertical-align: top;\n    }\n\n    .dataframe thead th {\n        text-align: right;\n    }\n</style>\n<table border=\"1\" class=\"dataframe\">\n  <thead>\n    <tr style=\"text-align: right;\">\n      <th></th>\n      <th>Year</th>\n      <th>Month</th>\n      <th>DayofMonth</th>\n      <th>FlightDate</th>\n      <th>Marketing_Airline_Network</th>\n      <th>DepTime</th>\n      <th>DepDelay</th>\n      <th>DepDelayMinutes</th>\n      <th>TaxiOut</th>\n      <th>TaxiIn</th>\n      <th>ArrTime</th>\n      <th>ArrDelay</th>\n      <th>ArrDelayMinutes</th>\n      <th>CRSElapsedTime</th>\n      <th>ActualElapsedTime</th>\n      <th>AirTime</th>\n      <th>Distance</th>\n      <th>DistanceGroup</th>\n      <th>CarrierDelay</th>\n      <th>WeatherDelay</th>\n      <th>NASDelay</th>\n      <th>SecurityDelay</th>\n      <th>LateAircraftDelay</th>\n      <th>DayofWeek</th>\n      <th>Holidays</th>\n      <th>CRSDepTimeMinute</th>\n      <th>CRSDepTimeHour</th>\n      <th>WheelsOffMinute</th>\n      <th>WheelsOffHour</th>\n      <th>CRSArrTimeMinute</th>\n      <th>CRSArrTimeHour</th>\n      <th>WheelsOnMinute</th>\n      <th>WheelsOnHour</th>\n      <th>CRSDepTimeHourDis</th>\n      <th>WheelsOffHourDis</th>\n      <th>CRSArrTimeHourDis</th>\n      <th>WheelsOnHourDis</th>\n      <th>CRSElapsedTimeGorup</th>\n      <th>DepHour</th>\n      <th>ArrHour</th>\n      <th>OriginCity</th>\n      <th>OriginState</th>\n      <th>DestCity</th>\n      <th>DestState</th>\n      <th>CarrierName</th>\n      <th>CRSDep</th>\n      <th>location</th>\n      <th>latitude</th>\n      <th>longitude</th>\n      <th>location_origin</th>\n      <th>latitude_origin</th>\n      <th>longitude_origin</th>\n      <th>latitude_destination</th>\n      <th>longitude_destination</th>\n    </tr>\n  </thead>\n  <tbody>\n    <tr>\n      <th>369807</th>\n      <td>2019</td>\n      <td>2</td>\n      <td>18</td>\n      <td>2019-02-18</td>\n      <td>UA</td>\n      <td>1345.0</td>\n      <td>45.0</td>\n      <td>45.0</td>\n      <td>10.0</td>\n      <td>8.0</td>\n      <td>1703.0</td>\n      <td>24.0</td>\n      <td>24.0</td>\n      <td>159.0</td>\n      <td>138.0</td>\n      <td>120.0</td>\n      <td>946.0</td>\n      <td>4</td>\n      <td>0.0</td>\n      <td>0.0</td>\n      <td>23.0</td>\n      <td>0.0</td>\n      <td>1.0</td>\n      <td>0</td>\n      <td>True</td>\n      <td>00</td>\n      <td>13</td>\n      <td>55</td>\n      <td>13</td>\n      <td>39</td>\n      <td>16</td>\n      <td>55</td>\n      <td>16</td>\n      <td>Afternoon</td>\n      <td>Afternoon</td>\n      <td>Afternoon</td>\n      <td>Afternoon</td>\n      <td>4</td>\n      <td>13:45:00</td>\n      <td>17:03:00</td>\n      <td>Memphis</td>\n      <td>TN</td>\n      <td>Newark</td>\n      <td>NJ</td>\n      <td>United Airlines</td>\n      <td>1300</td>\n      <td>(Memphis, Shelby County, West Tennessee, Tenne...</td>\n      <td>35.146025</td>\n      <td>-90.051764</td>\n      <td>(Memphis, Shelby County, West Tennessee, Tenne...</td>\n      <td>35.146025</td>\n      <td>-90.051764</td>\n      <td>40.735657</td>\n      <td>-74.172367</td>\n    </tr>\n    <tr>\n      <th>172835</th>\n      <td>2022</td>\n      <td>4</td>\n      <td>6</td>\n      <td>2022-04-06</td>\n      <td>AA</td>\n      <td>1401.0</td>\n      <td>24.0</td>\n      <td>24.0</td>\n      <td>22.0</td>\n      <td>16.0</td>\n      <td>1608.0</td>\n      <td>24.0</td>\n      <td>24.0</td>\n      <td>187.0</td>\n      <td>187.0</td>\n      <td>149.0</td>\n      <td>987.0</td>\n      <td>4</td>\n      <td>0.0</td>\n      <td>0.0</td>\n      <td>0.0</td>\n      <td>0.0</td>\n      <td>24.0</td>\n      <td>2</td>\n      <td>False</td>\n      <td>37</td>\n      <td>13</td>\n      <td>23</td>\n      <td>14</td>\n      <td>44</td>\n      <td>15</td>\n      <td>52</td>\n      <td>15</td>\n      <td>Afternoon</td>\n      <td>Afternoon</td>\n      <td>Afternoon</td>\n      <td>Afternoon</td>\n      <td>4</td>\n      <td>14:01:00</td>\n      <td>16:08:00</td>\n      <td>Charleston</td>\n      <td>SC</td>\n      <td>Dallas/Fort Worth</td>\n      <td>TX</td>\n      <td>American Airlines</td>\n      <td>1337</td>\n      <td>(Charleston, Charleston County, South Carolina...</td>\n      <td>32.788436</td>\n      <td>-79.939931</td>\n      <td>(Charleston, Charleston County, South Carolina...</td>\n      <td>32.788436</td>\n      <td>-79.939931</td>\n      <td>32.731316</td>\n      <td>-97.499982</td>\n    </tr>\n    <tr>\n      <th>568019</th>\n      <td>2018</td>\n      <td>7</td>\n      <td>4</td>\n      <td>2018-07-04</td>\n      <td>AS</td>\n      <td>733.0</td>\n      <td>123.0</td>\n      <td>123.0</td>\n      <td>6.0</td>\n      <td>4.0</td>\n      <td>923.0</td>\n      <td>120.0</td>\n      <td>120.0</td>\n      <td>53.0</td>\n      <td>50.0</td>\n      <td>40.0</td>\n      <td>198.0</td>\n      <td>1</td>\n      <td>0.0</td>\n      <td>0.0</td>\n      <td>0.0</td>\n      <td>0.0</td>\n      <td>120.0</td>\n      <td>2</td>\n      <td>True</td>\n      <td>30</td>\n      <td>5</td>\n      <td>39</td>\n      <td>7</td>\n      <td>23</td>\n      <td>7</td>\n      <td>19</td>\n      <td>9</td>\n      <td>EarlyMorning</td>\n      <td>Morning</td>\n      <td>Morning</td>\n      <td>Morning</td>\n      <td>2</td>\n      <td>07:33:00</td>\n      <td>09:23:00</td>\n      <td>Lewiston</td>\n      <td>ID</td>\n      <td>Boise</td>\n      <td>ID</td>\n      <td>Alaska Airlines</td>\n      <td>530</td>\n      <td>(Lewiston, Nez Perce County, Idaho, 83501, Uni...</td>\n      <td>46.419591</td>\n      <td>-117.021614</td>\n      <td>(Lewiston, Nez Perce County, Idaho, 83501, Uni...</td>\n      <td>46.419591</td>\n      <td>-117.021614</td>\n      <td>43.616616</td>\n      <td>-116.200886</td>\n    </tr>\n    <tr>\n      <th>187664</th>\n      <td>2022</td>\n      <td>9</td>\n      <td>5</td>\n      <td>2022-09-05</td>\n      <td>AA</td>\n      <td>1355.0</td>\n      <td>265.0</td>\n      <td>265.0</td>\n      <td>19.0</td>\n      <td>4.0</td>\n      <td>1630.0</td>\n      <td>245.0</td>\n      <td>245.0</td>\n      <td>355.0</td>\n      <td>335.0</td>\n      <td>312.0</td>\n      <td>2615.0</td>\n      <td>11</td>\n      <td>0.0</td>\n      <td>0.0</td>\n      <td>0.0</td>\n      <td>0.0</td>\n      <td>245.0</td>\n      <td>0</td>\n      <td>True</td>\n      <td>30</td>\n      <td>9</td>\n      <td>14</td>\n      <td>14</td>\n      <td>25</td>\n      <td>12</td>\n      <td>26</td>\n      <td>16</td>\n      <td>Morning</td>\n      <td>Afternoon</td>\n      <td>Afternoon</td>\n      <td>Afternoon</td>\n      <td>8</td>\n      <td>13:55:00</td>\n      <td>16:30:00</td>\n      <td>Los Angeles</td>\n      <td>CA</td>\n      <td>Lihue</td>\n      <td>HI</td>\n      <td>American Airlines</td>\n      <td>930</td>\n      <td>(Los Angeles, Los Angeles County, California, ...</td>\n      <td>34.053691</td>\n      <td>-118.242766</td>\n      <td>(Los Angeles, Los Angeles County, California, ...</td>\n      <td>34.053691</td>\n      <td>-118.242766</td>\n      <td>21.976962</td>\n      <td>-159.368772</td>\n    </tr>\n    <tr>\n      <th>339238</th>\n      <td>2021</td>\n      <td>4</td>\n      <td>10</td>\n      <td>2021-04-10</td>\n      <td>UA</td>\n      <td>1203.0</td>\n      <td>35.0</td>\n      <td>35.0</td>\n      <td>23.0</td>\n      <td>11.0</td>\n      <td>1321.0</td>\n      <td>36.0</td>\n      <td>36.0</td>\n      <td>77.0</td>\n      <td>78.0</td>\n      <td>44.0</td>\n      <td>251.0</td>\n      <td>2</td>\n      <td>4.0</td>\n      <td>0.0</td>\n      <td>1.0</td>\n      <td>0.0</td>\n      <td>31.0</td>\n      <td>5</td>\n      <td>False</td>\n      <td>28</td>\n      <td>11</td>\n      <td>26</td>\n      <td>12</td>\n      <td>45</td>\n      <td>12</td>\n      <td>10</td>\n      <td>13</td>\n      <td>Morning</td>\n      <td>Afternoon</td>\n      <td>Afternoon</td>\n      <td>Afternoon</td>\n      <td>2</td>\n      <td>12:03:00</td>\n      <td>13:21:00</td>\n      <td>Durango</td>\n      <td>CO</td>\n      <td>Denver</td>\n      <td>CO</td>\n      <td>United Airlines</td>\n      <td>1128</td>\n      <td>(Durango, México, (24.833333, -104.833333))</td>\n      <td>24.833333</td>\n      <td>-104.833333</td>\n      <td>(Durango, México, (24.833333, -104.833333))</td>\n      <td>24.833333</td>\n      <td>-104.833333</td>\n      <td>39.739236</td>\n      <td>-104.984862</td>\n    </tr>\n    <tr>\n      <th>529130</th>\n      <td>2019</td>\n      <td>10</td>\n      <td>5</td>\n      <td>2019-10-05</td>\n      <td>UA</td>\n      <td>1457.0</td>\n      <td>37.0</td>\n      <td>37.0</td>\n      <td>14.0</td>\n      <td>4.0</td>\n      <td>1832.0</td>\n      <td>25.0</td>\n      <td>25.0</td>\n      <td>167.0</td>\n      <td>155.0</td>\n      <td>137.0</td>\n      <td>1117.0</td>\n      <td>5</td>\n      <td>25.0</td>\n      <td>0.0</td>\n      <td>0.0</td>\n      <td>0.0</td>\n      <td>0.0</td>\n      <td>5</td>\n      <td>False</td>\n      <td>20</td>\n      <td>14</td>\n      <td>11</td>\n      <td>15</td>\n      <td>7</td>\n      <td>18</td>\n      <td>28</td>\n      <td>18</td>\n      <td>Afternoon</td>\n      <td>Afternoon</td>\n      <td>Evening</td>\n      <td>Evening</td>\n      <td>4</td>\n      <td>14:57:00</td>\n      <td>18:32:00</td>\n      <td>Houston</td>\n      <td>TX</td>\n      <td>Pittsburgh</td>\n      <td>PA</td>\n      <td>United Airlines</td>\n      <td>1420</td>\n      <td>(Houston, Harris County, Texas, United States,...</td>\n      <td>29.758938</td>\n      <td>-95.367697</td>\n      <td>(Houston, Harris County, Texas, United States,...</td>\n      <td>29.758938</td>\n      <td>-95.367697</td>\n      <td>40.441694</td>\n      <td>-79.990086</td>\n    </tr>\n    <tr>\n      <th>409784</th>\n      <td>2022</td>\n      <td>11</td>\n      <td>30</td>\n      <td>2022-11-30</td>\n      <td>DL</td>\n      <td>1952.0</td>\n      <td>209.0</td>\n      <td>209.0</td>\n      <td>24.0</td>\n      <td>11.0</td>\n      <td>2117.0</td>\n      <td>230.0</td>\n      <td>230.0</td>\n      <td>64.0</td>\n      <td>85.0</td>\n      <td>50.0</td>\n      <td>166.0</td>\n      <td>1</td>\n      <td>0.0</td>\n      <td>0.0</td>\n      <td>21.0</td>\n      <td>0.0</td>\n      <td>209.0</td>\n      <td>2</td>\n      <td>False</td>\n      <td>23</td>\n      <td>16</td>\n      <td>16</td>\n      <td>20</td>\n      <td>27</td>\n      <td>17</td>\n      <td>6</td>\n      <td>21</td>\n      <td>Afternoon</td>\n      <td>Evening</td>\n      <td>Evening</td>\n      <td>Night</td>\n      <td>2</td>\n      <td>19:52:00</td>\n      <td>21:17:00</td>\n      <td>White Plains</td>\n      <td>NY</td>\n      <td>Boston</td>\n      <td>MA</td>\n      <td>Delta Airlines</td>\n      <td>1623</td>\n      <td>(City of White Plains, Westchester County, New...</td>\n      <td>41.033986</td>\n      <td>-73.762910</td>\n      <td>(City of White Plains, Westchester County, New...</td>\n      <td>41.033986</td>\n      <td>-73.762910</td>\n      <td>42.355433</td>\n      <td>-71.060511</td>\n    </tr>\n    <tr>\n      <th>152372</th>\n      <td>2018</td>\n      <td>3</td>\n      <td>9</td>\n      <td>2018-03-09</td>\n      <td>UA</td>\n      <td>1619.0</td>\n      <td>39.0</td>\n      <td>39.0</td>\n      <td>24.0</td>\n      <td>7.0</td>\n      <td>1755.0</td>\n      <td>24.0</td>\n      <td>24.0</td>\n      <td>111.0</td>\n      <td>96.0</td>\n      <td>65.0</td>\n      <td>419.0</td>\n      <td>2</td>\n      <td>0.0</td>\n      <td>0.0</td>\n      <td>0.0</td>\n      <td>0.0</td>\n      <td>24.0</td>\n      <td>4</td>\n      <td>False</td>\n      <td>40</td>\n      <td>15</td>\n      <td>43</td>\n      <td>16</td>\n      <td>31</td>\n      <td>17</td>\n      <td>48</td>\n      <td>17</td>\n      <td>Afternoon</td>\n      <td>Afternoon</td>\n      <td>Evening</td>\n      <td>Evening</td>\n      <td>3</td>\n      <td>16:19:00</td>\n      <td>17:55:00</td>\n      <td>New York</td>\n      <td>NY</td>\n      <td>Cleveland</td>\n      <td>OH</td>\n      <td>United Airlines</td>\n      <td>1540</td>\n      <td>(City of New York, New York, United States, (4...</td>\n      <td>40.712728</td>\n      <td>-74.006015</td>\n      <td>(City of New York, New York, United States, (4...</td>\n      <td>40.712728</td>\n      <td>-74.006015</td>\n      <td>41.499657</td>\n      <td>-81.693677</td>\n    </tr>\n    <tr>\n      <th>376371</th>\n      <td>2023</td>\n      <td>1</td>\n      <td>1</td>\n      <td>2023-01-01</td>\n      <td>UA</td>\n      <td>1117.0</td>\n      <td>12.0</td>\n      <td>12.0</td>\n      <td>29.0</td>\n      <td>9.0</td>\n      <td>1145.0</td>\n      <td>15.0</td>\n      <td>15.0</td>\n      <td>85.0</td>\n      <td>88.0</td>\n      <td>50.0</td>\n      <td>235.0</td>\n      <td>1</td>\n      <td>4.0</td>\n      <td>0.0</td>\n      <td>3.0</td>\n      <td>0.0</td>\n      <td>8.0</td>\n      <td>6</td>\n      <td>False</td>\n      <td>05</td>\n      <td>11</td>\n      <td>46</td>\n      <td>11</td>\n      <td>30</td>\n      <td>11</td>\n      <td>36</td>\n      <td>11</td>\n      <td>Morning</td>\n      <td>Morning</td>\n      <td>Morning</td>\n      <td>Morning</td>\n      <td>2</td>\n      <td>11:17:00</td>\n      <td>11:45:00</td>\n      <td>Detroit</td>\n      <td>MI</td>\n      <td>Chicago</td>\n      <td>IL</td>\n      <td>United Airlines</td>\n      <td>1105</td>\n      <td>(Detroit, Wayne County, Michigan, United State...</td>\n      <td>42.331551</td>\n      <td>-83.046640</td>\n      <td>(Detroit, Wayne County, Michigan, United State...</td>\n      <td>42.331551</td>\n      <td>-83.046640</td>\n      <td>41.875562</td>\n      <td>-87.624421</td>\n    </tr>\n    <tr>\n      <th>131240</th>\n      <td>2021</td>\n      <td>8</td>\n      <td>21</td>\n      <td>2021-08-21</td>\n      <td>NK</td>\n      <td>2123.0</td>\n      <td>111.0</td>\n      <td>111.0</td>\n      <td>23.0</td>\n      <td>10.0</td>\n      <td>2318.0</td>\n      <td>103.0</td>\n      <td>103.0</td>\n      <td>123.0</td>\n      <td>115.0</td>\n      <td>82.0</td>\n      <td>581.0</td>\n      <td>3</td>\n      <td>103.0</td>\n      <td>0.0</td>\n      <td>0.0</td>\n      <td>0.0</td>\n      <td>0.0</td>\n      <td>5</td>\n      <td>False</td>\n      <td>32</td>\n      <td>19</td>\n      <td>46</td>\n      <td>21</td>\n      <td>35</td>\n      <td>21</td>\n      <td>8</td>\n      <td>23</td>\n      <td>Evening</td>\n      <td>Night</td>\n      <td>Night</td>\n      <td>Night</td>\n      <td>3</td>\n      <td>21:23:00</td>\n      <td>23:18:00</td>\n      <td>Fort Lauderdale</td>\n      <td>FL</td>\n      <td>Atlanta</td>\n      <td>GA</td>\n      <td>Spirit Airlines</td>\n      <td>1932</td>\n      <td>(Fort Lauderdale, Broward County, Florida, Uni...</td>\n      <td>26.122308</td>\n      <td>-80.143379</td>\n      <td>(Fort Lauderdale, Broward County, Florida, Uni...</td>\n      <td>26.122308</td>\n      <td>-80.143379</td>\n      <td>33.748992</td>\n      <td>-84.390264</td>\n    </tr>\n  </tbody>\n</table>\n</div>"
     },
     "execution_count": 70,
     "metadata": {},
     "output_type": "execute_result"
    }
   ],
   "source": [
    "features_added_dataset_temp = features_added_dataset_temp.dropna(subset=['latitude_origin', 'longitude_origin','latitude_destination', 'longitude_destination'])\n",
    "features_added_dataset_temp.head(10)"
   ]
  },
  {
   "cell_type": "code",
   "execution_count": 71,
   "outputs": [],
   "source": [
    "# Filter routes within North America\n",
    "features_added_dataset_temp = features_added_dataset_temp[\n",
    "    (features_added_dataset_temp['latitude_origin'].between(10, 90)) & (features_added_dataset_temp['longitude_origin'].between(-180, -30)) &\n",
    "    (features_added_dataset_temp['latitude_destination'].between(10, 90)) & (features_added_dataset_temp['longitude_destination'].between(-180, -30))\n",
    "    ]"
   ],
   "metadata": {
    "collapsed": false
   }
  },
  {
   "cell_type": "markdown",
   "metadata": {},
   "source": [
    "### Show the map with the cities"
   ]
  },
  {
   "cell_type": "code",
   "execution_count": 72,
   "metadata": {},
   "outputs": [
    {
     "data": {
      "application/vnd.plotly.v1+json": {
       "data": [
        {
         "lat": [
          35.1460249,
          32.7884363,
          46.4195913,
          34.0536909,
          24.833333,
          29.7589382,
          41.0339862,
          40.7127281,
          42.3315509,
          26.1223084,
          40.7596198,
          40.735657,
          41.8755616,
          45.5202471,
          32.7762719,
          39.7392364,
          34.0536909,
          41.8755616,
          33.7494951,
          40.7127281,
          27.9477595,
          39.7392364,
          39.9527237,
          36.0625843,
          30.3321838,
          44.0505054,
          39.2908816,
          38.3472255,
          36.1672559,
          33.4484367,
          33.7489924,
          33.7494951,
          26.1223084,
          39.9622601,
          42.3315509,
          38.6280278,
          29.7589382,
          39.100105,
          42.3554334,
          32.7174202,
          39.7683331,
          33.4484367,
          34.4221319,
          37.8044557,
          39.7392364,
          26.1223084,
          39.9527237,
          32.2228765,
          35.4729886,
          32.731316,
          35.0841034,
          39.7459468,
          41.5910323,
          39.7392364,
          39.9527237,
          38.8950368,
          38.8950368,
          42.6511674,
          41.8755616,
          39.9622601,
          39.7392364,
          33.7494951,
          39.7459468,
          40.7127281,
          30.2711286,
          47.6038321,
          46.1742404,
          41.764582,
          41.8755616,
          42.3315509,
          38.6280278,
          25.7741728,
          25.7741728,
          47.6038321,
          40.7596198,
          43.0349931,
          37.5385087,
          41.8755616,
          35.2272086,
          33.7489924,
          40.7127281,
          42.3554334,
          33.4709714,
          43.157285,
          38.8339578,
          26.1223084,
          25.9015688,
          42.3315509,
          32.7174202,
          38.8950368,
          33.7489924,
          32.7762719,
          28.5421109,
          32.7174202,
          26.9297836,
          41.8755616,
          44.9772995,
          45.5202471,
          30.2711286,
          39.1014537,
          34.9326334,
          27.9477595,
          42.3554334,
          25.7741728,
          32.731316,
          41.5910323,
          39.9622601,
          41.2587459,
          41.8755616,
          45.5202471,
          42.3554334,
          36.1672559,
          28.5421109,
          33.7489924,
          47.6038321,
          37.7790262,
          40.735657,
          38.8950368,
          44.9772995,
          32.7762719,
          37.7790262,
          34.0536909,
          28.5421109,
          28.5421109,
          27.9477595,
          39.7459468,
          41.8755616,
          33.7489924,
          40.735657,
          46.8060593,
          41.8755616,
          38.5810606,
          45.5202471,
          35.3540209,
          33.7489924,
          35.2272086,
          34.1812089,
          35.2272086,
          38.8950368,
          35.2272086,
          47.6571934,
          39.7392364,
          37.3361663,
          26.1223084,
          36.1672559,
          34.0536909,
          32.2998686,
          35.2272086,
          40.4416941,
          44.9772995,
          39.2908816,
          40.7127281,
          46.877229,
          32.7762719,
          33.7489924,
          38.8950368,
          32.7884363,
          42.9632425,
          31.7550511,
          32.731316,
          32.731316,
          42.5704456,
          36.1622767,
          38.6280278,
          37.7790262,
          37.5385087,
          33.7489924,
          25.7741728,
          32.7762719,
          39.2908816,
          41.8755616
         ],
         "lon": [
          -90.0517638,
          -79.9399309,
          -117.0216144,
          -118.242766,
          -104.833333,
          -95.3676974,
          -73.7629097,
          -74.0060152,
          -83.0466403,
          -80.1433786,
          -111.886797,
          -74.1723667,
          -87.6244212,
          -122.674194,
          -96.7968559,
          -104.984862,
          -118.242766,
          -87.6244212,
          -117.8732213,
          -74.0060152,
          -82.458444,
          -104.984862,
          -75.1635262,
          -94.1574328,
          -81.655651,
          -123.0950506,
          -76.610759,
          -81.6336275,
          -115.148516,
          -112.074141,
          -84.3902644,
          -117.8732213,
          -80.1433786,
          -83.0007065,
          -83.0466403,
          -90.1910154,
          -95.3676974,
          -94.5781416,
          -71.060511,
          -117.1627728,
          -86.1583502,
          -112.074141,
          -119.702667,
          -122.271356,
          -104.984862,
          -80.1433786,
          -75.1635262,
          -110.974847,
          -97.5170536,
          -97.499982,
          -106.650985,
          -75.546589,
          -93.6046655,
          -104.984862,
          -75.1635262,
          -77.0365427,
          -77.0365427,
          -73.754968,
          -87.6244212,
          -83.0007065,
          -104.984862,
          -117.8732213,
          -75.546589,
          -74.0060152,
          -97.7436995,
          -122.330062,
          -119.0693344,
          -72.6908547,
          -87.6244212,
          -83.0466403,
          -90.1910154,
          -80.19362,
          -80.19362,
          -122.330062,
          -111.886797,
          -87.922497,
          -77.43428,
          -87.6244212,
          -80.8430827,
          -84.3902644,
          -74.0060152,
          -71.060511,
          -81.9748429,
          -77.615214,
          -104.825348,
          -80.1433786,
          -97.4984005,
          -83.0466403,
          -117.1627728,
          -77.0365427,
          -84.3902644,
          -96.7968559,
          -81.3790304,
          -117.1627728,
          -82.0453664,
          -87.6244212,
          -93.2654692,
          -122.674194,
          -97.7436995,
          -84.5124602,
          -99.5435856,
          -82.458444,
          -71.060511,
          -80.19362,
          -97.499982,
          -93.6046655,
          -83.0007065,
          -95.9383758,
          -87.6244212,
          -122.674194,
          -71.060511,
          -115.148516,
          -81.3790304,
          -84.3902644,
          -122.330062,
          -122.419906,
          -74.1723667,
          -77.0365427,
          -93.2654692,
          -96.7968559,
          -122.419906,
          -118.242766,
          -81.3790304,
          -81.3790304,
          -82.458444,
          -75.546589,
          -87.6244212,
          -84.3902644,
          -74.1723667,
          -100.8267395,
          -87.6244212,
          -121.493895,
          -122.674194,
          -120.375716,
          -84.3902644,
          -80.8430827,
          -118.307201,
          -80.8430827,
          -77.0365427,
          -80.8430827,
          -117.42351,
          -104.984862,
          -121.890591,
          -80.1433786,
          -115.148516,
          -118.242766,
          -90.1830408,
          -80.8430827,
          -79.9900861,
          -93.2654692,
          -76.610759,
          -74.0060152,
          -96.789821,
          -96.7968559,
          -84.3902644,
          -77.0365427,
          -79.9399309,
          -85.6678639,
          -106.488234,
          -97.499982,
          -97.499982,
          -114.4602554,
          -86.7742984,
          -90.1910154,
          -122.419906,
          -77.43428,
          -84.3902644,
          -80.19362,
          -96.7968559,
          -76.610759,
          -87.6244212
         ],
         "marker": {
          "color": "red",
          "size": 10
         },
         "mode": "markers",
         "type": "scattergeo"
        }
       ],
       "layout": {
        "autosize": true,
        "geo": {
         "bgcolor": "rgb(29, 29, 29)",
         "coastlinecolor": "rgb(90, 90, 90)",
         "countrycolor": "rgb(90, 90, 90)",
         "landcolor": "rgb(49, 49, 49)",
         "oceancolor": "rgb(29, 29, 29)",
         "projection": {
          "type": "natural earth"
         },
         "scope": "north america",
         "showcoastlines": true,
         "showcountries": true,
         "showland": true,
         "showocean": true
        },
        "margin": {
         "b": 0,
         "l": 0,
         "pad": 0,
         "r": 0,
         "t": 0
        },
        "paper_bgcolor": "rgb(29, 29, 29)",
        "plot_bgcolor": "rgb(29, 29, 29)",
        "showlegend": false,
        "template": {
         "data": {
          "barpolar": [
           {
            "marker": {
             "line": {
              "color": "#E5ECF6",
              "width": 0.5
             },
             "pattern": {
              "fillmode": "overlay",
              "size": 10,
              "solidity": 0.2
             }
            },
            "type": "barpolar"
           }
          ],
          "bar": [
           {
            "error_x": {
             "color": "#2a3f5f"
            },
            "error_y": {
             "color": "#2a3f5f"
            },
            "marker": {
             "line": {
              "color": "#E5ECF6",
              "width": 0.5
             },
             "pattern": {
              "fillmode": "overlay",
              "size": 10,
              "solidity": 0.2
             }
            },
            "type": "bar"
           }
          ],
          "carpet": [
           {
            "aaxis": {
             "endlinecolor": "#2a3f5f",
             "gridcolor": "white",
             "linecolor": "white",
             "minorgridcolor": "white",
             "startlinecolor": "#2a3f5f"
            },
            "baxis": {
             "endlinecolor": "#2a3f5f",
             "gridcolor": "white",
             "linecolor": "white",
             "minorgridcolor": "white",
             "startlinecolor": "#2a3f5f"
            },
            "type": "carpet"
           }
          ],
          "choropleth": [
           {
            "colorbar": {
             "outlinewidth": 0,
             "ticks": ""
            },
            "type": "choropleth"
           }
          ],
          "contourcarpet": [
           {
            "colorbar": {
             "outlinewidth": 0,
             "ticks": ""
            },
            "type": "contourcarpet"
           }
          ],
          "contour": [
           {
            "colorbar": {
             "outlinewidth": 0,
             "ticks": ""
            },
            "colorscale": [
             [
              0.0,
              "#0d0887"
             ],
             [
              0.1111111111111111,
              "#46039f"
             ],
             [
              0.2222222222222222,
              "#7201a8"
             ],
             [
              0.3333333333333333,
              "#9c179e"
             ],
             [
              0.4444444444444444,
              "#bd3786"
             ],
             [
              0.5555555555555556,
              "#d8576b"
             ],
             [
              0.6666666666666666,
              "#ed7953"
             ],
             [
              0.7777777777777778,
              "#fb9f3a"
             ],
             [
              0.8888888888888888,
              "#fdca26"
             ],
             [
              1.0,
              "#f0f921"
             ]
            ],
            "type": "contour"
           }
          ],
          "heatmapgl": [
           {
            "colorbar": {
             "outlinewidth": 0,
             "ticks": ""
            },
            "colorscale": [
             [
              0.0,
              "#0d0887"
             ],
             [
              0.1111111111111111,
              "#46039f"
             ],
             [
              0.2222222222222222,
              "#7201a8"
             ],
             [
              0.3333333333333333,
              "#9c179e"
             ],
             [
              0.4444444444444444,
              "#bd3786"
             ],
             [
              0.5555555555555556,
              "#d8576b"
             ],
             [
              0.6666666666666666,
              "#ed7953"
             ],
             [
              0.7777777777777778,
              "#fb9f3a"
             ],
             [
              0.8888888888888888,
              "#fdca26"
             ],
             [
              1.0,
              "#f0f921"
             ]
            ],
            "type": "heatmapgl"
           }
          ],
          "heatmap": [
           {
            "colorbar": {
             "outlinewidth": 0,
             "ticks": ""
            },
            "colorscale": [
             [
              0.0,
              "#0d0887"
             ],
             [
              0.1111111111111111,
              "#46039f"
             ],
             [
              0.2222222222222222,
              "#7201a8"
             ],
             [
              0.3333333333333333,
              "#9c179e"
             ],
             [
              0.4444444444444444,
              "#bd3786"
             ],
             [
              0.5555555555555556,
              "#d8576b"
             ],
             [
              0.6666666666666666,
              "#ed7953"
             ],
             [
              0.7777777777777778,
              "#fb9f3a"
             ],
             [
              0.8888888888888888,
              "#fdca26"
             ],
             [
              1.0,
              "#f0f921"
             ]
            ],
            "type": "heatmap"
           }
          ],
          "histogram2dcontour": [
           {
            "colorbar": {
             "outlinewidth": 0,
             "ticks": ""
            },
            "colorscale": [
             [
              0.0,
              "#0d0887"
             ],
             [
              0.1111111111111111,
              "#46039f"
             ],
             [
              0.2222222222222222,
              "#7201a8"
             ],
             [
              0.3333333333333333,
              "#9c179e"
             ],
             [
              0.4444444444444444,
              "#bd3786"
             ],
             [
              0.5555555555555556,
              "#d8576b"
             ],
             [
              0.6666666666666666,
              "#ed7953"
             ],
             [
              0.7777777777777778,
              "#fb9f3a"
             ],
             [
              0.8888888888888888,
              "#fdca26"
             ],
             [
              1.0,
              "#f0f921"
             ]
            ],
            "type": "histogram2dcontour"
           }
          ],
          "histogram2d": [
           {
            "colorbar": {
             "outlinewidth": 0,
             "ticks": ""
            },
            "colorscale": [
             [
              0.0,
              "#0d0887"
             ],
             [
              0.1111111111111111,
              "#46039f"
             ],
             [
              0.2222222222222222,
              "#7201a8"
             ],
             [
              0.3333333333333333,
              "#9c179e"
             ],
             [
              0.4444444444444444,
              "#bd3786"
             ],
             [
              0.5555555555555556,
              "#d8576b"
             ],
             [
              0.6666666666666666,
              "#ed7953"
             ],
             [
              0.7777777777777778,
              "#fb9f3a"
             ],
             [
              0.8888888888888888,
              "#fdca26"
             ],
             [
              1.0,
              "#f0f921"
             ]
            ],
            "type": "histogram2d"
           }
          ],
          "histogram": [
           {
            "marker": {
             "pattern": {
              "fillmode": "overlay",
              "size": 10,
              "solidity": 0.2
             }
            },
            "type": "histogram"
           }
          ],
          "mesh3d": [
           {
            "colorbar": {
             "outlinewidth": 0,
             "ticks": ""
            },
            "type": "mesh3d"
           }
          ],
          "parcoords": [
           {
            "line": {
             "colorbar": {
              "outlinewidth": 0,
              "ticks": ""
             }
            },
            "type": "parcoords"
           }
          ],
          "pie": [
           {
            "automargin": true,
            "type": "pie"
           }
          ],
          "scatter3d": [
           {
            "line": {
             "colorbar": {
              "outlinewidth": 0,
              "ticks": ""
             }
            },
            "marker": {
             "colorbar": {
              "outlinewidth": 0,
              "ticks": ""
             }
            },
            "type": "scatter3d"
           }
          ],
          "scattercarpet": [
           {
            "marker": {
             "colorbar": {
              "outlinewidth": 0,
              "ticks": ""
             }
            },
            "type": "scattercarpet"
           }
          ],
          "scattergeo": [
           {
            "marker": {
             "colorbar": {
              "outlinewidth": 0,
              "ticks": ""
             }
            },
            "type": "scattergeo"
           }
          ],
          "scattergl": [
           {
            "marker": {
             "colorbar": {
              "outlinewidth": 0,
              "ticks": ""
             }
            },
            "type": "scattergl"
           }
          ],
          "scattermapbox": [
           {
            "marker": {
             "colorbar": {
              "outlinewidth": 0,
              "ticks": ""
             }
            },
            "type": "scattermapbox"
           }
          ],
          "scatterpolargl": [
           {
            "marker": {
             "colorbar": {
              "outlinewidth": 0,
              "ticks": ""
             }
            },
            "type": "scatterpolargl"
           }
          ],
          "scatterpolar": [
           {
            "marker": {
             "colorbar": {
              "outlinewidth": 0,
              "ticks": ""
             }
            },
            "type": "scatterpolar"
           }
          ],
          "scatter": [
           {
            "fillpattern": {
             "fillmode": "overlay",
             "size": 10,
             "solidity": 0.2
            },
            "type": "scatter"
           }
          ],
          "scatterternary": [
           {
            "marker": {
             "colorbar": {
              "outlinewidth": 0,
              "ticks": ""
             }
            },
            "type": "scatterternary"
           }
          ],
          "surface": [
           {
            "colorbar": {
             "outlinewidth": 0,
             "ticks": ""
            },
            "colorscale": [
             [
              0.0,
              "#0d0887"
             ],
             [
              0.1111111111111111,
              "#46039f"
             ],
             [
              0.2222222222222222,
              "#7201a8"
             ],
             [
              0.3333333333333333,
              "#9c179e"
             ],
             [
              0.4444444444444444,
              "#bd3786"
             ],
             [
              0.5555555555555556,
              "#d8576b"
             ],
             [
              0.6666666666666666,
              "#ed7953"
             ],
             [
              0.7777777777777778,
              "#fb9f3a"
             ],
             [
              0.8888888888888888,
              "#fdca26"
             ],
             [
              1.0,
              "#f0f921"
             ]
            ],
            "type": "surface"
           }
          ],
          "table": [
           {
            "cells": {
             "fill": {
              "color": "#EBF0F8"
             },
             "line": {
              "color": "white"
             }
            },
            "header": {
             "fill": {
              "color": "#C8D4E3"
             },
             "line": {
              "color": "white"
             }
            },
            "type": "table"
           }
          ]
         },
         "layout": {
          "annotationdefaults": {
           "arrowcolor": "#2a3f5f",
           "arrowhead": 0,
           "arrowwidth": 1
          },
          "autotypenumbers": "strict",
          "coloraxis": {
           "colorbar": {
            "outlinewidth": 0,
            "ticks": ""
           }
          },
          "colorscale": {
           "diverging": [
            [
             0,
             "#8e0152"
            ],
            [
             0.1,
             "#c51b7d"
            ],
            [
             0.2,
             "#de77ae"
            ],
            [
             0.3,
             "#f1b6da"
            ],
            [
             0.4,
             "#fde0ef"
            ],
            [
             0.5,
             "#f7f7f7"
            ],
            [
             0.6,
             "#e6f5d0"
            ],
            [
             0.7,
             "#b8e186"
            ],
            [
             0.8,
             "#7fbc41"
            ],
            [
             0.9,
             "#4d9221"
            ],
            [
             1,
             "#276419"
            ]
           ],
           "sequential": [
            [
             0.0,
             "#0d0887"
            ],
            [
             0.1111111111111111,
             "#46039f"
            ],
            [
             0.2222222222222222,
             "#7201a8"
            ],
            [
             0.3333333333333333,
             "#9c179e"
            ],
            [
             0.4444444444444444,
             "#bd3786"
            ],
            [
             0.5555555555555556,
             "#d8576b"
            ],
            [
             0.6666666666666666,
             "#ed7953"
            ],
            [
             0.7777777777777778,
             "#fb9f3a"
            ],
            [
             0.8888888888888888,
             "#fdca26"
            ],
            [
             1.0,
             "#f0f921"
            ]
           ],
           "sequentialminus": [
            [
             0.0,
             "#0d0887"
            ],
            [
             0.1111111111111111,
             "#46039f"
            ],
            [
             0.2222222222222222,
             "#7201a8"
            ],
            [
             0.3333333333333333,
             "#9c179e"
            ],
            [
             0.4444444444444444,
             "#bd3786"
            ],
            [
             0.5555555555555556,
             "#d8576b"
            ],
            [
             0.6666666666666666,
             "#ed7953"
            ],
            [
             0.7777777777777778,
             "#fb9f3a"
            ],
            [
             0.8888888888888888,
             "#fdca26"
            ],
            [
             1.0,
             "#f0f921"
            ]
           ]
          },
          "colorway": [
           "#636efa",
           "#EF553B",
           "#00cc96",
           "#ab63fa",
           "#FFA15A",
           "#19d3f3",
           "#FF6692",
           "#B6E880",
           "#FF97FF",
           "#FECB52"
          ],
          "font": {
           "color": "#2a3f5f"
          },
          "geo": {
           "bgcolor": "white",
           "lakecolor": "white",
           "landcolor": "#E5ECF6",
           "showlakes": true,
           "showland": true,
           "subunitcolor": "white"
          },
          "hoverlabel": {
           "align": "left"
          },
          "hovermode": "closest",
          "mapbox": {
           "style": "light"
          },
          "paper_bgcolor": "white",
          "plot_bgcolor": "#E5ECF6",
          "polar": {
           "angularaxis": {
            "gridcolor": "white",
            "linecolor": "white",
            "ticks": ""
           },
           "bgcolor": "#E5ECF6",
           "radialaxis": {
            "gridcolor": "white",
            "linecolor": "white",
            "ticks": ""
           }
          },
          "scene": {
           "xaxis": {
            "backgroundcolor": "#E5ECF6",
            "gridcolor": "white",
            "gridwidth": 2,
            "linecolor": "white",
            "showbackground": true,
            "ticks": "",
            "zerolinecolor": "white"
           },
           "yaxis": {
            "backgroundcolor": "#E5ECF6",
            "gridcolor": "white",
            "gridwidth": 2,
            "linecolor": "white",
            "showbackground": true,
            "ticks": "",
            "zerolinecolor": "white"
           },
           "zaxis": {
            "backgroundcolor": "#E5ECF6",
            "gridcolor": "white",
            "gridwidth": 2,
            "linecolor": "white",
            "showbackground": true,
            "ticks": "",
            "zerolinecolor": "white"
           }
          },
          "shapedefaults": {
           "line": {
            "color": "#2a3f5f"
           }
          },
          "ternary": {
           "aaxis": {
            "gridcolor": "white",
            "linecolor": "white",
            "ticks": ""
           },
           "baxis": {
            "gridcolor": "white",
            "linecolor": "white",
            "ticks": ""
           },
           "bgcolor": "#E5ECF6",
           "caxis": {
            "gridcolor": "white",
            "linecolor": "white",
            "ticks": ""
           }
          },
          "title": {
           "x": 0.05
          },
          "xaxis": {
           "automargin": true,
           "gridcolor": "white",
           "linecolor": "white",
           "ticks": "",
           "title": {
            "standoff": 15
           },
           "zerolinecolor": "white",
           "zerolinewidth": 2
          },
          "yaxis": {
           "automargin": true,
           "gridcolor": "white",
           "linecolor": "white",
           "ticks": "",
           "title": {
            "standoff": 15
           },
           "zerolinecolor": "white",
           "zerolinewidth": 2
          }
         }
        }
       },
       "config": {
        "showLink": false,
        "linkText": "Export to plot.ly",
        "plotlyServerURL": "https://plot.ly"
       }
      },
      "text/html": "<div>                            <div id=\"d8089ae8-85ce-4139-be91-7c12e433c83e\" class=\"plotly-graph-div\" style=\"height:525px; width:100%;\"></div>            <script type=\"text/javascript\">                require([\"plotly\"], function(Plotly) {                    window.PLOTLYENV=window.PLOTLYENV || {};                                    if (document.getElementById(\"d8089ae8-85ce-4139-be91-7c12e433c83e\")) {                    Plotly.newPlot(                        \"d8089ae8-85ce-4139-be91-7c12e433c83e\",                        [{\"lat\":[35.1460249,32.7884363,46.4195913,34.0536909,24.833333,29.7589382,41.0339862,40.7127281,42.3315509,26.1223084,40.7596198,40.735657,41.8755616,45.5202471,32.7762719,39.7392364,34.0536909,41.8755616,33.7494951,40.7127281,27.9477595,39.7392364,39.9527237,36.0625843,30.3321838,44.0505054,39.2908816,38.3472255,36.1672559,33.4484367,33.7489924,33.7494951,26.1223084,39.9622601,42.3315509,38.6280278,29.7589382,39.100105,42.3554334,32.7174202,39.7683331,33.4484367,34.4221319,37.8044557,39.7392364,26.1223084,39.9527237,32.2228765,35.4729886,32.731316,35.0841034,39.7459468,41.5910323,39.7392364,39.9527237,38.8950368,38.8950368,42.6511674,41.8755616,39.9622601,39.7392364,33.7494951,39.7459468,40.7127281,30.2711286,47.6038321,46.1742404,41.764582,41.8755616,42.3315509,38.6280278,25.7741728,25.7741728,47.6038321,40.7596198,43.0349931,37.5385087,41.8755616,35.2272086,33.7489924,40.7127281,42.3554334,33.4709714,43.157285,38.8339578,26.1223084,25.9015688,42.3315509,32.7174202,38.8950368,33.7489924,32.7762719,28.5421109,32.7174202,26.9297836,41.8755616,44.9772995,45.5202471,30.2711286,39.1014537,34.9326334,27.9477595,42.3554334,25.7741728,32.731316,41.5910323,39.9622601,41.2587459,41.8755616,45.5202471,42.3554334,36.1672559,28.5421109,33.7489924,47.6038321,37.7790262,40.735657,38.8950368,44.9772995,32.7762719,37.7790262,34.0536909,28.5421109,28.5421109,27.9477595,39.7459468,41.8755616,33.7489924,40.735657,46.8060593,41.8755616,38.5810606,45.5202471,35.3540209,33.7489924,35.2272086,34.1812089,35.2272086,38.8950368,35.2272086,47.6571934,39.7392364,37.3361663,26.1223084,36.1672559,34.0536909,32.2998686,35.2272086,40.4416941,44.9772995,39.2908816,40.7127281,46.877229,32.7762719,33.7489924,38.8950368,32.7884363,42.9632425,31.7550511,32.731316,32.731316,42.5704456,36.1622767,38.6280278,37.7790262,37.5385087,33.7489924,25.7741728,32.7762719,39.2908816,41.8755616],\"lon\":[-90.0517638,-79.9399309,-117.0216144,-118.242766,-104.833333,-95.3676974,-73.7629097,-74.0060152,-83.0466403,-80.1433786,-111.886797,-74.1723667,-87.6244212,-122.674194,-96.7968559,-104.984862,-118.242766,-87.6244212,-117.8732213,-74.0060152,-82.458444,-104.984862,-75.1635262,-94.1574328,-81.655651,-123.0950506,-76.610759,-81.6336275,-115.148516,-112.074141,-84.3902644,-117.8732213,-80.1433786,-83.0007065,-83.0466403,-90.1910154,-95.3676974,-94.5781416,-71.060511,-117.1627728,-86.1583502,-112.074141,-119.702667,-122.271356,-104.984862,-80.1433786,-75.1635262,-110.974847,-97.5170536,-97.499982,-106.650985,-75.546589,-93.6046655,-104.984862,-75.1635262,-77.0365427,-77.0365427,-73.754968,-87.6244212,-83.0007065,-104.984862,-117.8732213,-75.546589,-74.0060152,-97.7436995,-122.330062,-119.0693344,-72.6908547,-87.6244212,-83.0466403,-90.1910154,-80.19362,-80.19362,-122.330062,-111.886797,-87.922497,-77.43428,-87.6244212,-80.8430827,-84.3902644,-74.0060152,-71.060511,-81.9748429,-77.615214,-104.825348,-80.1433786,-97.4984005,-83.0466403,-117.1627728,-77.0365427,-84.3902644,-96.7968559,-81.3790304,-117.1627728,-82.0453664,-87.6244212,-93.2654692,-122.674194,-97.7436995,-84.5124602,-99.5435856,-82.458444,-71.060511,-80.19362,-97.499982,-93.6046655,-83.0007065,-95.9383758,-87.6244212,-122.674194,-71.060511,-115.148516,-81.3790304,-84.3902644,-122.330062,-122.419906,-74.1723667,-77.0365427,-93.2654692,-96.7968559,-122.419906,-118.242766,-81.3790304,-81.3790304,-82.458444,-75.546589,-87.6244212,-84.3902644,-74.1723667,-100.8267395,-87.6244212,-121.493895,-122.674194,-120.375716,-84.3902644,-80.8430827,-118.307201,-80.8430827,-77.0365427,-80.8430827,-117.42351,-104.984862,-121.890591,-80.1433786,-115.148516,-118.242766,-90.1830408,-80.8430827,-79.9900861,-93.2654692,-76.610759,-74.0060152,-96.789821,-96.7968559,-84.3902644,-77.0365427,-79.9399309,-85.6678639,-106.488234,-97.499982,-97.499982,-114.4602554,-86.7742984,-90.1910154,-122.419906,-77.43428,-84.3902644,-80.19362,-96.7968559,-76.610759,-87.6244212],\"marker\":{\"color\":\"red\",\"size\":10},\"mode\":\"markers\",\"type\":\"scattergeo\"}],                        {\"autosize\":true,\"geo\":{\"bgcolor\":\"rgb(29, 29, 29)\",\"coastlinecolor\":\"rgb(90, 90, 90)\",\"countrycolor\":\"rgb(90, 90, 90)\",\"landcolor\":\"rgb(49, 49, 49)\",\"oceancolor\":\"rgb(29, 29, 29)\",\"projection\":{\"type\":\"natural earth\"},\"scope\":\"north america\",\"showcoastlines\":true,\"showcountries\":true,\"showland\":true,\"showocean\":true},\"margin\":{\"b\":0,\"l\":0,\"pad\":0,\"r\":0,\"t\":0},\"paper_bgcolor\":\"rgb(29, 29, 29)\",\"plot_bgcolor\":\"rgb(29, 29, 29)\",\"showlegend\":false,\"template\":{\"data\":{\"barpolar\":[{\"marker\":{\"line\":{\"color\":\"#E5ECF6\",\"width\":0.5},\"pattern\":{\"fillmode\":\"overlay\",\"size\":10,\"solidity\":0.2}},\"type\":\"barpolar\"}],\"bar\":[{\"error_x\":{\"color\":\"#2a3f5f\"},\"error_y\":{\"color\":\"#2a3f5f\"},\"marker\":{\"line\":{\"color\":\"#E5ECF6\",\"width\":0.5},\"pattern\":{\"fillmode\":\"overlay\",\"size\":10,\"solidity\":0.2}},\"type\":\"bar\"}],\"carpet\":[{\"aaxis\":{\"endlinecolor\":\"#2a3f5f\",\"gridcolor\":\"white\",\"linecolor\":\"white\",\"minorgridcolor\":\"white\",\"startlinecolor\":\"#2a3f5f\"},\"baxis\":{\"endlinecolor\":\"#2a3f5f\",\"gridcolor\":\"white\",\"linecolor\":\"white\",\"minorgridcolor\":\"white\",\"startlinecolor\":\"#2a3f5f\"},\"type\":\"carpet\"}],\"choropleth\":[{\"colorbar\":{\"outlinewidth\":0,\"ticks\":\"\"},\"type\":\"choropleth\"}],\"contourcarpet\":[{\"colorbar\":{\"outlinewidth\":0,\"ticks\":\"\"},\"type\":\"contourcarpet\"}],\"contour\":[{\"colorbar\":{\"outlinewidth\":0,\"ticks\":\"\"},\"colorscale\":[[0.0,\"#0d0887\"],[0.1111111111111111,\"#46039f\"],[0.2222222222222222,\"#7201a8\"],[0.3333333333333333,\"#9c179e\"],[0.4444444444444444,\"#bd3786\"],[0.5555555555555556,\"#d8576b\"],[0.6666666666666666,\"#ed7953\"],[0.7777777777777778,\"#fb9f3a\"],[0.8888888888888888,\"#fdca26\"],[1.0,\"#f0f921\"]],\"type\":\"contour\"}],\"heatmapgl\":[{\"colorbar\":{\"outlinewidth\":0,\"ticks\":\"\"},\"colorscale\":[[0.0,\"#0d0887\"],[0.1111111111111111,\"#46039f\"],[0.2222222222222222,\"#7201a8\"],[0.3333333333333333,\"#9c179e\"],[0.4444444444444444,\"#bd3786\"],[0.5555555555555556,\"#d8576b\"],[0.6666666666666666,\"#ed7953\"],[0.7777777777777778,\"#fb9f3a\"],[0.8888888888888888,\"#fdca26\"],[1.0,\"#f0f921\"]],\"type\":\"heatmapgl\"}],\"heatmap\":[{\"colorbar\":{\"outlinewidth\":0,\"ticks\":\"\"},\"colorscale\":[[0.0,\"#0d0887\"],[0.1111111111111111,\"#46039f\"],[0.2222222222222222,\"#7201a8\"],[0.3333333333333333,\"#9c179e\"],[0.4444444444444444,\"#bd3786\"],[0.5555555555555556,\"#d8576b\"],[0.6666666666666666,\"#ed7953\"],[0.7777777777777778,\"#fb9f3a\"],[0.8888888888888888,\"#fdca26\"],[1.0,\"#f0f921\"]],\"type\":\"heatmap\"}],\"histogram2dcontour\":[{\"colorbar\":{\"outlinewidth\":0,\"ticks\":\"\"},\"colorscale\":[[0.0,\"#0d0887\"],[0.1111111111111111,\"#46039f\"],[0.2222222222222222,\"#7201a8\"],[0.3333333333333333,\"#9c179e\"],[0.4444444444444444,\"#bd3786\"],[0.5555555555555556,\"#d8576b\"],[0.6666666666666666,\"#ed7953\"],[0.7777777777777778,\"#fb9f3a\"],[0.8888888888888888,\"#fdca26\"],[1.0,\"#f0f921\"]],\"type\":\"histogram2dcontour\"}],\"histogram2d\":[{\"colorbar\":{\"outlinewidth\":0,\"ticks\":\"\"},\"colorscale\":[[0.0,\"#0d0887\"],[0.1111111111111111,\"#46039f\"],[0.2222222222222222,\"#7201a8\"],[0.3333333333333333,\"#9c179e\"],[0.4444444444444444,\"#bd3786\"],[0.5555555555555556,\"#d8576b\"],[0.6666666666666666,\"#ed7953\"],[0.7777777777777778,\"#fb9f3a\"],[0.8888888888888888,\"#fdca26\"],[1.0,\"#f0f921\"]],\"type\":\"histogram2d\"}],\"histogram\":[{\"marker\":{\"pattern\":{\"fillmode\":\"overlay\",\"size\":10,\"solidity\":0.2}},\"type\":\"histogram\"}],\"mesh3d\":[{\"colorbar\":{\"outlinewidth\":0,\"ticks\":\"\"},\"type\":\"mesh3d\"}],\"parcoords\":[{\"line\":{\"colorbar\":{\"outlinewidth\":0,\"ticks\":\"\"}},\"type\":\"parcoords\"}],\"pie\":[{\"automargin\":true,\"type\":\"pie\"}],\"scatter3d\":[{\"line\":{\"colorbar\":{\"outlinewidth\":0,\"ticks\":\"\"}},\"marker\":{\"colorbar\":{\"outlinewidth\":0,\"ticks\":\"\"}},\"type\":\"scatter3d\"}],\"scattercarpet\":[{\"marker\":{\"colorbar\":{\"outlinewidth\":0,\"ticks\":\"\"}},\"type\":\"scattercarpet\"}],\"scattergeo\":[{\"marker\":{\"colorbar\":{\"outlinewidth\":0,\"ticks\":\"\"}},\"type\":\"scattergeo\"}],\"scattergl\":[{\"marker\":{\"colorbar\":{\"outlinewidth\":0,\"ticks\":\"\"}},\"type\":\"scattergl\"}],\"scattermapbox\":[{\"marker\":{\"colorbar\":{\"outlinewidth\":0,\"ticks\":\"\"}},\"type\":\"scattermapbox\"}],\"scatterpolargl\":[{\"marker\":{\"colorbar\":{\"outlinewidth\":0,\"ticks\":\"\"}},\"type\":\"scatterpolargl\"}],\"scatterpolar\":[{\"marker\":{\"colorbar\":{\"outlinewidth\":0,\"ticks\":\"\"}},\"type\":\"scatterpolar\"}],\"scatter\":[{\"fillpattern\":{\"fillmode\":\"overlay\",\"size\":10,\"solidity\":0.2},\"type\":\"scatter\"}],\"scatterternary\":[{\"marker\":{\"colorbar\":{\"outlinewidth\":0,\"ticks\":\"\"}},\"type\":\"scatterternary\"}],\"surface\":[{\"colorbar\":{\"outlinewidth\":0,\"ticks\":\"\"},\"colorscale\":[[0.0,\"#0d0887\"],[0.1111111111111111,\"#46039f\"],[0.2222222222222222,\"#7201a8\"],[0.3333333333333333,\"#9c179e\"],[0.4444444444444444,\"#bd3786\"],[0.5555555555555556,\"#d8576b\"],[0.6666666666666666,\"#ed7953\"],[0.7777777777777778,\"#fb9f3a\"],[0.8888888888888888,\"#fdca26\"],[1.0,\"#f0f921\"]],\"type\":\"surface\"}],\"table\":[{\"cells\":{\"fill\":{\"color\":\"#EBF0F8\"},\"line\":{\"color\":\"white\"}},\"header\":{\"fill\":{\"color\":\"#C8D4E3\"},\"line\":{\"color\":\"white\"}},\"type\":\"table\"}]},\"layout\":{\"annotationdefaults\":{\"arrowcolor\":\"#2a3f5f\",\"arrowhead\":0,\"arrowwidth\":1},\"autotypenumbers\":\"strict\",\"coloraxis\":{\"colorbar\":{\"outlinewidth\":0,\"ticks\":\"\"}},\"colorscale\":{\"diverging\":[[0,\"#8e0152\"],[0.1,\"#c51b7d\"],[0.2,\"#de77ae\"],[0.3,\"#f1b6da\"],[0.4,\"#fde0ef\"],[0.5,\"#f7f7f7\"],[0.6,\"#e6f5d0\"],[0.7,\"#b8e186\"],[0.8,\"#7fbc41\"],[0.9,\"#4d9221\"],[1,\"#276419\"]],\"sequential\":[[0.0,\"#0d0887\"],[0.1111111111111111,\"#46039f\"],[0.2222222222222222,\"#7201a8\"],[0.3333333333333333,\"#9c179e\"],[0.4444444444444444,\"#bd3786\"],[0.5555555555555556,\"#d8576b\"],[0.6666666666666666,\"#ed7953\"],[0.7777777777777778,\"#fb9f3a\"],[0.8888888888888888,\"#fdca26\"],[1.0,\"#f0f921\"]],\"sequentialminus\":[[0.0,\"#0d0887\"],[0.1111111111111111,\"#46039f\"],[0.2222222222222222,\"#7201a8\"],[0.3333333333333333,\"#9c179e\"],[0.4444444444444444,\"#bd3786\"],[0.5555555555555556,\"#d8576b\"],[0.6666666666666666,\"#ed7953\"],[0.7777777777777778,\"#fb9f3a\"],[0.8888888888888888,\"#fdca26\"],[1.0,\"#f0f921\"]]},\"colorway\":[\"#636efa\",\"#EF553B\",\"#00cc96\",\"#ab63fa\",\"#FFA15A\",\"#19d3f3\",\"#FF6692\",\"#B6E880\",\"#FF97FF\",\"#FECB52\"],\"font\":{\"color\":\"#2a3f5f\"},\"geo\":{\"bgcolor\":\"white\",\"lakecolor\":\"white\",\"landcolor\":\"#E5ECF6\",\"showlakes\":true,\"showland\":true,\"subunitcolor\":\"white\"},\"hoverlabel\":{\"align\":\"left\"},\"hovermode\":\"closest\",\"mapbox\":{\"style\":\"light\"},\"paper_bgcolor\":\"white\",\"plot_bgcolor\":\"#E5ECF6\",\"polar\":{\"angularaxis\":{\"gridcolor\":\"white\",\"linecolor\":\"white\",\"ticks\":\"\"},\"bgcolor\":\"#E5ECF6\",\"radialaxis\":{\"gridcolor\":\"white\",\"linecolor\":\"white\",\"ticks\":\"\"}},\"scene\":{\"xaxis\":{\"backgroundcolor\":\"#E5ECF6\",\"gridcolor\":\"white\",\"gridwidth\":2,\"linecolor\":\"white\",\"showbackground\":true,\"ticks\":\"\",\"zerolinecolor\":\"white\"},\"yaxis\":{\"backgroundcolor\":\"#E5ECF6\",\"gridcolor\":\"white\",\"gridwidth\":2,\"linecolor\":\"white\",\"showbackground\":true,\"ticks\":\"\",\"zerolinecolor\":\"white\"},\"zaxis\":{\"backgroundcolor\":\"#E5ECF6\",\"gridcolor\":\"white\",\"gridwidth\":2,\"linecolor\":\"white\",\"showbackground\":true,\"ticks\":\"\",\"zerolinecolor\":\"white\"}},\"shapedefaults\":{\"line\":{\"color\":\"#2a3f5f\"}},\"ternary\":{\"aaxis\":{\"gridcolor\":\"white\",\"linecolor\":\"white\",\"ticks\":\"\"},\"baxis\":{\"gridcolor\":\"white\",\"linecolor\":\"white\",\"ticks\":\"\"},\"bgcolor\":\"#E5ECF6\",\"caxis\":{\"gridcolor\":\"white\",\"linecolor\":\"white\",\"ticks\":\"\"}},\"title\":{\"x\":0.05},\"xaxis\":{\"automargin\":true,\"gridcolor\":\"white\",\"linecolor\":\"white\",\"ticks\":\"\",\"title\":{\"standoff\":15},\"zerolinecolor\":\"white\",\"zerolinewidth\":2},\"yaxis\":{\"automargin\":true,\"gridcolor\":\"white\",\"linecolor\":\"white\",\"ticks\":\"\",\"title\":{\"standoff\":15},\"zerolinecolor\":\"white\",\"zerolinewidth\":2}}}},                        {\"responsive\": true}                    ).then(function(){\n                            \nvar gd = document.getElementById('d8089ae8-85ce-4139-be91-7c12e433c83e');\nvar x = new MutationObserver(function (mutations, observer) {{\n        var display = window.getComputedStyle(gd).display;\n        if (!display || display === 'none') {{\n            console.log([gd, 'removed!']);\n            Plotly.purge(gd);\n            observer.disconnect();\n        }}\n}});\n\n// Listen for the removal of the full notebook cells\nvar notebookContainer = gd.closest('#notebook-container');\nif (notebookContainer) {{\n    x.observe(notebookContainer, {childList: true});\n}}\n\n// Listen for the clearing of the current output cell\nvar outputEl = gd.closest('.output');\nif (outputEl) {{\n    x.observe(outputEl, {childList: true});\n}}\n\n                        })                };                });            </script>        </div>"
     },
     "metadata": {},
     "output_type": "display_data"
    }
   ],
   "source": [
    "trace = go.Scattergeo(\n",
    "    lon=features_added_dataset_temp['longitude_origin'],\n",
    "    lat=features_added_dataset_temp['latitude_origin'],\n",
    "    mode='markers',\n",
    "    marker=dict(size=10, color='red')\n",
    ")\n",
    "\n",
    "layout = go.Layout(\n",
    "    showlegend=False,\n",
    "    geo=dict(\n",
    "        scope='north america',\n",
    "        projection=dict(type='natural earth'),\n",
    "        showland=True,\n",
    "        showocean=True,\n",
    "        showcoastlines=True,\n",
    "        showcountries=True,\n",
    "        landcolor='rgb(49, 49, 49)',\n",
    "        countrycolor='rgb(90, 90, 90)',\n",
    "        coastlinecolor='rgb(90, 90, 90)',\n",
    "        oceancolor='rgb(29, 29, 29)',\n",
    "        bgcolor='rgb(29, 29, 29)',\n",
    "    ),\n",
    "    margin=go.layout.Margin(\n",
    "        l=0,\n",
    "        r=0,\n",
    "        b=0,\n",
    "        t=0,\n",
    "        pad=0\n",
    "    ),\n",
    "    autosize=True,\n",
    "    paper_bgcolor='rgb(29, 29, 29)',\n",
    "    plot_bgcolor='rgb(29, 29, 29)'\n",
    ")\n",
    "\n",
    "fig = go.Figure(data=[trace], layout=layout)\n",
    "py.iplot(fig, filename='cities-map')"
   ]
  },
  {
   "cell_type": "code",
   "execution_count": 67,
   "outputs": [
    {
     "name": "stderr",
     "output_type": "stream",
     "text": [
      "C:\\Users\\annag\\Desktop\\datavis_project\\venv\\lib\\site-packages\\plotly\\graph_objs\\_deprecations.py:405: DeprecationWarning:\n",
      "\n",
      "plotly.graph_objs.Margin is deprecated.\n",
      "Please replace it with one of the following more specific types\n",
      "  - plotly.graph_objs.layout.Margin\n",
      "\n",
      "\n"
     ]
    },
    {
     "data": {
      "application/vnd.plotly.v1+json": {
       "data": [
        {
         "hoverinfo": "skip",
         "lat": [
          35.1460249,
          40.735657
         ],
         "line": {
          "color": "blue",
          "width": 0.5
         },
         "locationmode": "USA-states",
         "lon": [
          -90.0517638,
          -74.1723667
         ],
         "mode": "lines",
         "type": "scattergeo"
        },
        {
         "hoverinfo": "skip",
         "lat": [
          32.7884363,
          32.731316
         ],
         "line": {
          "color": "blue",
          "width": 0.5
         },
         "locationmode": "USA-states",
         "lon": [
          -79.9399309,
          -97.499982
         ],
         "mode": "lines",
         "type": "scattergeo"
        },
        {
         "hoverinfo": "skip",
         "lat": [
          46.4195913,
          43.6166163
         ],
         "line": {
          "color": "blue",
          "width": 0.5
         },
         "locationmode": "USA-states",
         "lon": [
          -117.0216144,
          -116.200886
         ],
         "mode": "lines",
         "type": "scattergeo"
        },
        {
         "hoverinfo": "skip",
         "lat": [
          34.0536909,
          21.9769622
         ],
         "line": {
          "color": "blue",
          "width": 0.5
         },
         "locationmode": "USA-states",
         "lon": [
          -118.242766,
          -159.3687721
         ],
         "mode": "lines",
         "type": "scattergeo"
        },
        {
         "hoverinfo": "skip",
         "lat": [
          24.833333,
          39.7392364
         ],
         "line": {
          "color": "blue",
          "width": 0.5
         },
         "locationmode": "USA-states",
         "lon": [
          -104.833333,
          -104.984862
         ],
         "mode": "lines",
         "type": "scattergeo"
        },
        {
         "hoverinfo": "skip",
         "lat": [
          29.7589382,
          40.4416941
         ],
         "line": {
          "color": "blue",
          "width": 0.5
         },
         "locationmode": "USA-states",
         "lon": [
          -95.3676974,
          -79.9900861
         ],
         "mode": "lines",
         "type": "scattergeo"
        },
        {
         "hoverinfo": "skip",
         "lat": [
          41.0339862,
          42.3554334
         ],
         "line": {
          "color": "blue",
          "width": 0.5
         },
         "locationmode": "USA-states",
         "lon": [
          -73.7629097,
          -71.060511
         ],
         "mode": "lines",
         "type": "scattergeo"
        },
        {
         "hoverinfo": "skip",
         "lat": [
          40.7127281,
          41.4996574
         ],
         "line": {
          "color": "blue",
          "width": 0.5
         },
         "locationmode": "USA-states",
         "lon": [
          -74.0060152,
          -81.6936772
         ],
         "mode": "lines",
         "type": "scattergeo"
        },
        {
         "hoverinfo": "skip",
         "lat": [
          42.3315509,
          41.8755616
         ],
         "line": {
          "color": "blue",
          "width": 0.5
         },
         "locationmode": "USA-states",
         "lon": [
          -83.0466403,
          -87.6244212
         ],
         "mode": "lines",
         "type": "scattergeo"
        },
        {
         "hoverinfo": "skip",
         "lat": [
          26.1223084,
          33.7489924
         ],
         "line": {
          "color": "blue",
          "width": 0.5
         },
         "locationmode": "USA-states",
         "lon": [
          -80.1433786,
          -84.3902644
         ],
         "mode": "lines",
         "type": "scattergeo"
        },
        {
         "hoverinfo": "skip",
         "lat": [
          40.7596198,
          39.7392364
         ],
         "line": {
          "color": "blue",
          "width": 0.5
         },
         "locationmode": "USA-states",
         "lon": [
          -111.886797,
          -104.984862
         ],
         "mode": "lines",
         "type": "scattergeo"
        },
        {
         "hoverinfo": "skip",
         "lat": [
          40.735657,
          40.7596198
         ],
         "line": {
          "color": "blue",
          "width": 0.5
         },
         "locationmode": "USA-states",
         "lon": [
          -74.1723667,
          -111.886797
         ],
         "mode": "lines",
         "type": "scattergeo"
        },
        {
         "hoverinfo": "skip",
         "lat": [
          41.8755616,
          42.3554334
         ],
         "line": {
          "color": "blue",
          "width": 0.5
         },
         "locationmode": "USA-states",
         "lon": [
          -87.6244212,
          -71.060511
         ],
         "mode": "lines",
         "type": "scattergeo"
        },
        {
         "hoverinfo": "skip",
         "lat": [
          45.5202471,
          43.6166163
         ],
         "line": {
          "color": "blue",
          "width": 0.5
         },
         "locationmode": "USA-states",
         "lon": [
          -122.674194,
          -116.200886
         ],
         "mode": "lines",
         "type": "scattergeo"
        },
        {
         "hoverinfo": "skip",
         "lat": [
          32.7762719,
          34.7465071
         ],
         "line": {
          "color": "blue",
          "width": 0.5
         },
         "locationmode": "USA-states",
         "lon": [
          -96.7968559,
          -92.2896267
         ],
         "mode": "lines",
         "type": "scattergeo"
        },
        {
         "hoverinfo": "skip",
         "lat": [
          39.7392364,
          32.7174202
         ],
         "line": {
          "color": "blue",
          "width": 0.5
         },
         "locationmode": "USA-states",
         "lon": [
          -104.984862,
          -117.1627728
         ],
         "mode": "lines",
         "type": "scattergeo"
        },
        {
         "hoverinfo": "skip",
         "lat": [
          34.0536909,
          47.6038321
         ],
         "line": {
          "color": "blue",
          "width": 0.5
         },
         "locationmode": "USA-states",
         "lon": [
          -118.242766,
          -122.330062
         ],
         "mode": "lines",
         "type": "scattergeo"
        },
        {
         "hoverinfo": "skip",
         "lat": [
          41.8755616,
          29.7589382
         ],
         "line": {
          "color": "blue",
          "width": 0.5
         },
         "locationmode": "USA-states",
         "lon": [
          -87.6244212,
          -95.3676974
         ],
         "mode": "lines",
         "type": "scattergeo"
        },
        {
         "hoverinfo": "skip",
         "lat": [
          33.7494951,
          32.731316
         ],
         "line": {
          "color": "blue",
          "width": 0.5
         },
         "locationmode": "USA-states",
         "lon": [
          -117.8732213,
          -97.499982
         ],
         "mode": "lines",
         "type": "scattergeo"
        },
        {
         "hoverinfo": "skip",
         "lat": [
          40.7127281,
          28.5421109
         ],
         "line": {
          "color": "blue",
          "width": 0.5
         },
         "locationmode": "USA-states",
         "lon": [
          -74.0060152,
          -81.3790304
         ],
         "mode": "lines",
         "type": "scattergeo"
        },
        {
         "hoverinfo": "skip",
         "lat": [
          27.9477595,
          41.8755616
         ],
         "line": {
          "color": "blue",
          "width": 0.5
         },
         "locationmode": "USA-states",
         "lon": [
          -82.458444,
          -87.6244212
         ],
         "mode": "lines",
         "type": "scattergeo"
        },
        {
         "hoverinfo": "skip",
         "lat": [
          39.7392364,
          44.290635
         ],
         "line": {
          "color": "blue",
          "width": 0.5
         },
         "locationmode": "USA-states",
         "lon": [
          -104.984862,
          -105.501876
         ],
         "mode": "lines",
         "type": "scattergeo"
        },
        {
         "hoverinfo": "skip",
         "lat": [
          39.9527237,
          43.157285
         ],
         "line": {
          "color": "blue",
          "width": 0.5
         },
         "locationmode": "USA-states",
         "lon": [
          -75.1635262,
          -77.615214
         ],
         "mode": "lines",
         "type": "scattergeo"
        },
        {
         "hoverinfo": "skip",
         "lat": [
          36.0625843,
          41.8755616
         ],
         "line": {
          "color": "blue",
          "width": 0.5
         },
         "locationmode": "USA-states",
         "lon": [
          -94.1574328,
          -87.6244212
         ],
         "mode": "lines",
         "type": "scattergeo"
        },
        {
         "hoverinfo": "skip",
         "lat": [
          30.3321838,
          40.7127281
         ],
         "line": {
          "color": "blue",
          "width": 0.5
         },
         "locationmode": "USA-states",
         "lon": [
          -81.655651,
          -74.0060152
         ],
         "mode": "lines",
         "type": "scattergeo"
        },
        {
         "hoverinfo": "skip",
         "lat": [
          44.0505054,
          47.6038321
         ],
         "line": {
          "color": "blue",
          "width": 0.5
         },
         "locationmode": "USA-states",
         "lon": [
          -123.0950506,
          -122.330062
         ],
         "mode": "lines",
         "type": "scattergeo"
        },
        {
         "hoverinfo": "skip",
         "lat": [
          39.2908816,
          32.7762719
         ],
         "line": {
          "color": "blue",
          "width": 0.5
         },
         "locationmode": "USA-states",
         "lon": [
          -76.610759,
          -96.7968559
         ],
         "mode": "lines",
         "type": "scattergeo"
        },
        {
         "hoverinfo": "skip",
         "lat": [
          38.3472255,
          35.2272086
         ],
         "line": {
          "color": "blue",
          "width": 0.5
         },
         "locationmode": "USA-states",
         "lon": [
          -81.6336275,
          -80.8430827
         ],
         "mode": "lines",
         "type": "scattergeo"
        },
        {
         "hoverinfo": "skip",
         "lat": [
          36.1672559,
          32.7174202
         ],
         "line": {
          "color": "blue",
          "width": 0.5
         },
         "locationmode": "USA-states",
         "lon": [
          -115.148516,
          -117.1627728
         ],
         "mode": "lines",
         "type": "scattergeo"
        },
        {
         "hoverinfo": "skip",
         "lat": [
          33.4484367,
          25.7741728
         ],
         "line": {
          "color": "blue",
          "width": 0.5
         },
         "locationmode": "USA-states",
         "lon": [
          -112.074141,
          -80.19362
         ],
         "mode": "lines",
         "type": "scattergeo"
        },
        {
         "hoverinfo": "skip",
         "lat": [
          33.7489924,
          37.270973
         ],
         "line": {
          "color": "blue",
          "width": 0.5
         },
         "locationmode": "USA-states",
         "lon": [
          -84.3902644,
          -79.9414313
         ],
         "mode": "lines",
         "type": "scattergeo"
        },
        {
         "hoverinfo": "skip",
         "lat": [
          33.7494951,
          33.4484367
         ],
         "line": {
          "color": "blue",
          "width": 0.5
         },
         "locationmode": "USA-states",
         "lon": [
          -117.8732213,
          -112.074141
         ],
         "mode": "lines",
         "type": "scattergeo"
        },
        {
         "hoverinfo": "skip",
         "lat": [
          26.1223084,
          39.3642852
         ],
         "line": {
          "color": "blue",
          "width": 0.5
         },
         "locationmode": "USA-states",
         "lon": [
          -80.1433786,
          -74.4229351
         ],
         "mode": "lines",
         "type": "scattergeo"
        },
        {
         "hoverinfo": "skip",
         "lat": [
          39.9622601,
          40.7127281
         ],
         "line": {
          "color": "blue",
          "width": 0.5
         },
         "locationmode": "USA-states",
         "lon": [
          -83.0007065,
          -74.0060152
         ],
         "mode": "lines",
         "type": "scattergeo"
        },
        {
         "hoverinfo": "skip",
         "lat": [
          42.3315509,
          37.7790262
         ],
         "line": {
          "color": "blue",
          "width": 0.5
         },
         "locationmode": "USA-states",
         "lon": [
          -83.0466403,
          -122.419906
         ],
         "mode": "lines",
         "type": "scattergeo"
        },
        {
         "hoverinfo": "skip",
         "lat": [
          38.6280278,
          41.8755616
         ],
         "line": {
          "color": "blue",
          "width": 0.5
         },
         "locationmode": "USA-states",
         "lon": [
          -90.1910154,
          -87.6244212
         ],
         "mode": "lines",
         "type": "scattergeo"
        },
        {
         "hoverinfo": "skip",
         "lat": [
          29.7589382,
          34.0536909
         ],
         "line": {
          "color": "blue",
          "width": 0.5
         },
         "locationmode": "USA-states",
         "lon": [
          -95.3676974,
          -118.242766
         ],
         "mode": "lines",
         "type": "scattergeo"
        },
        {
         "hoverinfo": "skip",
         "lat": [
          39.100105,
          32.731316
         ],
         "line": {
          "color": "blue",
          "width": 0.5
         },
         "locationmode": "USA-states",
         "lon": [
          -94.5781416,
          -97.499982
         ],
         "mode": "lines",
         "type": "scattergeo"
        },
        {
         "hoverinfo": "skip",
         "lat": [
          42.3554334,
          27.9477595
         ],
         "line": {
          "color": "blue",
          "width": 0.5
         },
         "locationmode": "USA-states",
         "lon": [
          -71.060511,
          -82.458444
         ],
         "mode": "lines",
         "type": "scattergeo"
        },
        {
         "hoverinfo": "skip",
         "lat": [
          32.7174202,
          41.5910323
         ],
         "line": {
          "color": "blue",
          "width": 0.5
         },
         "locationmode": "USA-states",
         "lon": [
          -117.1627728,
          -93.6046655
         ],
         "mode": "lines",
         "type": "scattergeo"
        },
        {
         "hoverinfo": "skip",
         "lat": [
          39.7683331,
          26.640628
         ],
         "line": {
          "color": "blue",
          "width": 0.5
         },
         "locationmode": "USA-states",
         "lon": [
          -86.1583502,
          -81.8723084
         ],
         "mode": "lines",
         "type": "scattergeo"
        },
        {
         "hoverinfo": "skip",
         "lat": [
          33.4484367,
          37.7790262
         ],
         "line": {
          "color": "blue",
          "width": 0.5
         },
         "locationmode": "USA-states",
         "lon": [
          -112.074141,
          -122.419906
         ],
         "mode": "lines",
         "type": "scattergeo"
        },
        {
         "hoverinfo": "skip",
         "lat": [
          34.4221319,
          37.8044557
         ],
         "line": {
          "color": "blue",
          "width": 0.5
         },
         "locationmode": "USA-states",
         "lon": [
          -119.702667,
          -122.271356
         ],
         "mode": "lines",
         "type": "scattergeo"
        },
        {
         "hoverinfo": "skip",
         "lat": [
          37.8044557,
          50.000678
         ],
         "line": {
          "color": "blue",
          "width": 0.5
         },
         "locationmode": "USA-states",
         "lon": [
          -122.271356,
          -86.000977
         ],
         "mode": "lines",
         "type": "scattergeo"
        },
        {
         "hoverinfo": "skip",
         "lat": [
          39.7392364,
          42.9632425
         ],
         "line": {
          "color": "blue",
          "width": 0.5
         },
         "locationmode": "USA-states",
         "lon": [
          -104.984862,
          -85.6678639
         ],
         "mode": "lines",
         "type": "scattergeo"
        },
        {
         "hoverinfo": "skip",
         "lat": [
          26.1223084,
          40.7127281
         ],
         "line": {
          "color": "blue",
          "width": 0.5
         },
         "locationmode": "USA-states",
         "lon": [
          -80.1433786,
          -74.0060152
         ],
         "mode": "lines",
         "type": "scattergeo"
        },
        {
         "hoverinfo": "skip",
         "lat": [
          39.9527237,
          37.7790262
         ],
         "line": {
          "color": "blue",
          "width": 0.5
         },
         "locationmode": "USA-states",
         "lon": [
          -75.1635262,
          -122.419906
         ],
         "mode": "lines",
         "type": "scattergeo"
        },
        {
         "hoverinfo": "skip",
         "lat": [
          32.2228765,
          33.4484367
         ],
         "line": {
          "color": "blue",
          "width": 0.5
         },
         "locationmode": "USA-states",
         "lon": [
          -110.974847,
          -112.074141
         ],
         "mode": "lines",
         "type": "scattergeo"
        },
        {
         "hoverinfo": "skip",
         "lat": [
          35.4729886,
          41.8755616
         ],
         "line": {
          "color": "blue",
          "width": 0.5
         },
         "locationmode": "USA-states",
         "lon": [
          -97.5170536,
          -87.6244212
         ],
         "mode": "lines",
         "type": "scattergeo"
        },
        {
         "hoverinfo": "skip",
         "lat": [
          32.731316,
          39.7589478
         ],
         "line": {
          "color": "blue",
          "width": 0.5
         },
         "locationmode": "USA-states",
         "lon": [
          -97.499982,
          -84.1916069
         ],
         "mode": "lines",
         "type": "scattergeo"
        },
        {
         "hoverinfo": "skip",
         "lat": [
          35.0841034,
          37.7790262
         ],
         "line": {
          "color": "blue",
          "width": 0.5
         },
         "locationmode": "USA-states",
         "lon": [
          -106.650985,
          -122.419906
         ],
         "mode": "lines",
         "type": "scattergeo"
        },
        {
         "hoverinfo": "skip",
         "lat": [
          39.7459468,
          33.7489924
         ],
         "line": {
          "color": "blue",
          "width": 0.5
         },
         "locationmode": "USA-states",
         "lon": [
          -75.546589,
          -84.3902644
         ],
         "mode": "lines",
         "type": "scattergeo"
        },
        {
         "hoverinfo": "skip",
         "lat": [
          41.5910323,
          40.7127281
         ],
         "line": {
          "color": "blue",
          "width": 0.5
         },
         "locationmode": "USA-states",
         "lon": [
          -93.6046655,
          -74.0060152
         ],
         "mode": "lines",
         "type": "scattergeo"
        },
        {
         "hoverinfo": "skip",
         "lat": [
          39.7392364,
          33.7489924
         ],
         "line": {
          "color": "blue",
          "width": 0.5
         },
         "locationmode": "USA-states",
         "lon": [
          -104.984862,
          -84.3902644
         ],
         "mode": "lines",
         "type": "scattergeo"
        },
        {
         "hoverinfo": "skip",
         "lat": [
          39.9527237,
          41.8755616
         ],
         "line": {
          "color": "blue",
          "width": 0.5
         },
         "locationmode": "USA-states",
         "lon": [
          -75.1635262,
          -87.6244212
         ],
         "mode": "lines",
         "type": "scattergeo"
        },
        {
         "hoverinfo": "skip",
         "lat": [
          38.8950368,
          40.735657
         ],
         "line": {
          "color": "blue",
          "width": 0.5
         },
         "locationmode": "USA-states",
         "lon": [
          -77.0365427,
          -74.1723667
         ],
         "mode": "lines",
         "type": "scattergeo"
        },
        {
         "hoverinfo": "skip",
         "lat": [
          38.8950368,
          39.1014537
         ],
         "line": {
          "color": "blue",
          "width": 0.5
         },
         "locationmode": "USA-states",
         "lon": [
          -77.0365427,
          -84.5124602
         ],
         "mode": "lines",
         "type": "scattergeo"
        },
        {
         "hoverinfo": "skip",
         "lat": [
          42.6511674,
          28.5421109
         ],
         "line": {
          "color": "blue",
          "width": 0.5
         },
         "locationmode": "USA-states",
         "lon": [
          -73.754968,
          -81.3790304
         ],
         "mode": "lines",
         "type": "scattergeo"
        },
        {
         "hoverinfo": "skip",
         "lat": [
          41.8755616,
          43.074761
         ],
         "line": {
          "color": "blue",
          "width": 0.5
         },
         "locationmode": "USA-states",
         "lon": [
          -87.6244212,
          -89.3837613
         ],
         "mode": "lines",
         "type": "scattergeo"
        },
        {
         "hoverinfo": "skip",
         "lat": [
          39.9622601,
          44.9772995
         ],
         "line": {
          "color": "blue",
          "width": 0.5
         },
         "locationmode": "USA-states",
         "lon": [
          -83.0007065,
          -93.2654692
         ],
         "mode": "lines",
         "type": "scattergeo"
        },
        {
         "hoverinfo": "skip",
         "lat": [
          39.7392364,
          35.2072185
         ],
         "line": {
          "color": "blue",
          "width": 0.5
         },
         "locationmode": "USA-states",
         "lon": [
          -104.984862,
          -101.833824
         ],
         "mode": "lines",
         "type": "scattergeo"
        },
        {
         "hoverinfo": "skip",
         "lat": [
          33.7494951,
          39.7392364
         ],
         "line": {
          "color": "blue",
          "width": 0.5
         },
         "locationmode": "USA-states",
         "lon": [
          -117.8732213,
          -104.984862
         ],
         "mode": "lines",
         "type": "scattergeo"
        },
        {
         "hoverinfo": "skip",
         "lat": [
          39.7459468,
          40.735657
         ],
         "line": {
          "color": "blue",
          "width": 0.5
         },
         "locationmode": "USA-states",
         "lon": [
          -75.546589,
          -74.1723667
         ],
         "mode": "lines",
         "type": "scattergeo"
        },
        {
         "hoverinfo": "skip",
         "lat": [
          40.7127281,
          41.4996574
         ],
         "line": {
          "color": "blue",
          "width": 0.5
         },
         "locationmode": "USA-states",
         "lon": [
          -74.0060152,
          -81.6936772
         ],
         "mode": "lines",
         "type": "scattergeo"
        },
        {
         "hoverinfo": "skip",
         "lat": [
          30.2711286,
          36.1672559
         ],
         "line": {
          "color": "blue",
          "width": 0.5
         },
         "locationmode": "USA-states",
         "lon": [
          -97.7436995,
          -115.148516
         ],
         "mode": "lines",
         "type": "scattergeo"
        },
        {
         "hoverinfo": "skip",
         "lat": [
          47.6038321,
          43.6166163
         ],
         "line": {
          "color": "blue",
          "width": 0.5
         },
         "locationmode": "USA-states",
         "lon": [
          -122.330062,
          -116.200886
         ],
         "mode": "lines",
         "type": "scattergeo"
        },
        {
         "hoverinfo": "skip",
         "lat": [
          46.1742404,
          47.6038321
         ],
         "line": {
          "color": "blue",
          "width": 0.5
         },
         "locationmode": "USA-states",
         "lon": [
          -119.0693344,
          -122.330062
         ],
         "mode": "lines",
         "type": "scattergeo"
        },
        {
         "hoverinfo": "skip",
         "lat": [
          41.764582,
          35.2272086
         ],
         "line": {
          "color": "blue",
          "width": 0.5
         },
         "locationmode": "USA-states",
         "lon": [
          -72.6908547,
          -80.8430827
         ],
         "mode": "lines",
         "type": "scattergeo"
        },
        {
         "hoverinfo": "skip",
         "lat": [
          41.8755616,
          44.5126379
         ],
         "line": {
          "color": "blue",
          "width": 0.5
         },
         "locationmode": "USA-states",
         "lon": [
          -87.6244212,
          -88.0125794
         ],
         "mode": "lines",
         "type": "scattergeo"
        },
        {
         "hoverinfo": "skip",
         "lat": [
          42.3315509,
          38.2542376
         ],
         "line": {
          "color": "blue",
          "width": 0.5
         },
         "locationmode": "USA-states",
         "lon": [
          -83.0466403,
          -85.759407
         ],
         "mode": "lines",
         "type": "scattergeo"
        },
        {
         "hoverinfo": "skip",
         "lat": [
          38.6280278,
          37.6892095
         ],
         "line": {
          "color": "blue",
          "width": 0.5
         },
         "locationmode": "USA-states",
         "lon": [
          -90.1910154,
          -81.2812858
         ],
         "mode": "lines",
         "type": "scattergeo"
        },
        {
         "hoverinfo": "skip",
         "lat": [
          25.7741728,
          39.7683331
         ],
         "line": {
          "color": "blue",
          "width": 0.5
         },
         "locationmode": "USA-states",
         "lon": [
          -80.19362,
          -86.1583502
         ],
         "mode": "lines",
         "type": "scattergeo"
        },
        {
         "hoverinfo": "skip",
         "lat": [
          25.7741728,
          40.7127281
         ],
         "line": {
          "color": "blue",
          "width": 0.5
         },
         "locationmode": "USA-states",
         "lon": [
          -80.19362,
          -74.0060152
         ],
         "mode": "lines",
         "type": "scattergeo"
        },
        {
         "hoverinfo": "skip",
         "lat": [
          47.6038321,
          28.5421109
         ],
         "line": {
          "color": "blue",
          "width": 0.5
         },
         "locationmode": "USA-states",
         "lon": [
          -122.330062,
          -81.3790304
         ],
         "mode": "lines",
         "type": "scattergeo"
        },
        {
         "hoverinfo": "skip",
         "lat": [
          40.7596198,
          32.2998686
         ],
         "line": {
          "color": "blue",
          "width": 0.5
         },
         "locationmode": "USA-states",
         "lon": [
          -111.886797,
          -90.1830408
         ],
         "mode": "lines",
         "type": "scattergeo"
        },
        {
         "hoverinfo": "skip",
         "lat": [
          43.0349931,
          40.7127281
         ],
         "line": {
          "color": "blue",
          "width": 0.5
         },
         "locationmode": "USA-states",
         "lon": [
          -87.922497,
          -74.0060152
         ],
         "mode": "lines",
         "type": "scattergeo"
        },
        {
         "hoverinfo": "skip",
         "lat": [
          37.5385087,
          39.9527237
         ],
         "line": {
          "color": "blue",
          "width": 0.5
         },
         "locationmode": "USA-states",
         "lon": [
          -77.43428,
          -75.1635262
         ],
         "mode": "lines",
         "type": "scattergeo"
        },
        {
         "hoverinfo": "skip",
         "lat": [
          41.8755616,
          26.1223084
         ],
         "line": {
          "color": "blue",
          "width": 0.5
         },
         "locationmode": "USA-states",
         "lon": [
          -87.6244212,
          -80.1433786
         ],
         "mode": "lines",
         "type": "scattergeo"
        },
        {
         "hoverinfo": "skip",
         "lat": [
          35.2272086,
          30.1586518
         ],
         "line": {
          "color": "blue",
          "width": 0.5
         },
         "locationmode": "USA-states",
         "lon": [
          -80.8430827,
          -85.6602936
         ],
         "mode": "lines",
         "type": "scattergeo"
        },
        {
         "hoverinfo": "skip",
         "lat": [
          33.7489924,
          37.7790262
         ],
         "line": {
          "color": "blue",
          "width": 0.5
         },
         "locationmode": "USA-states",
         "lon": [
          -84.3902644,
          -122.419906
         ],
         "mode": "lines",
         "type": "scattergeo"
        },
        {
         "hoverinfo": "skip",
         "lat": [
          40.7127281,
          33.7489924
         ],
         "line": {
          "color": "blue",
          "width": 0.5
         },
         "locationmode": "USA-states",
         "lon": [
          -74.0060152,
          -84.3902644
         ],
         "mode": "lines",
         "type": "scattergeo"
        },
        {
         "hoverinfo": "skip",
         "lat": [
          42.3554334,
          40.7127281
         ],
         "line": {
          "color": "blue",
          "width": 0.5
         },
         "locationmode": "USA-states",
         "lon": [
          -71.060511,
          -74.0060152
         ],
         "mode": "lines",
         "type": "scattergeo"
        },
        {
         "hoverinfo": "skip",
         "lat": [
          33.4709714,
          35.2272086
         ],
         "line": {
          "color": "blue",
          "width": 0.5
         },
         "locationmode": "USA-states",
         "lon": [
          -81.9748429,
          -80.8430827
         ],
         "mode": "lines",
         "type": "scattergeo"
        },
        {
         "hoverinfo": "skip",
         "lat": [
          43.157285,
          40.7127281
         ],
         "line": {
          "color": "blue",
          "width": 0.5
         },
         "locationmode": "USA-states",
         "lon": [
          -77.615214,
          -74.0060152
         ],
         "mode": "lines",
         "type": "scattergeo"
        },
        {
         "hoverinfo": "skip",
         "lat": [
          38.8339578,
          39.7392364
         ],
         "line": {
          "color": "blue",
          "width": 0.5
         },
         "locationmode": "USA-states",
         "lon": [
          -104.825348,
          -104.984862
         ],
         "mode": "lines",
         "type": "scattergeo"
        },
        {
         "hoverinfo": "skip",
         "lat": [
          26.1223084,
          34.0536909
         ],
         "line": {
          "color": "blue",
          "width": 0.5
         },
         "locationmode": "USA-states",
         "lon": [
          -80.1433786,
          -118.242766
         ],
         "mode": "lines",
         "type": "scattergeo"
        },
        {
         "hoverinfo": "skip",
         "lat": [
          25.9015688,
          29.7589382
         ],
         "line": {
          "color": "blue",
          "width": 0.5
         },
         "locationmode": "USA-states",
         "lon": [
          -97.4984005,
          -95.3676974
         ],
         "mode": "lines",
         "type": "scattergeo"
        },
        {
         "hoverinfo": "skip",
         "lat": [
          42.3315509,
          41.8755616
         ],
         "line": {
          "color": "blue",
          "width": 0.5
         },
         "locationmode": "USA-states",
         "lon": [
          -83.0466403,
          -87.6244212
         ],
         "mode": "lines",
         "type": "scattergeo"
        },
        {
         "hoverinfo": "skip",
         "lat": [
          32.7174202,
          36.7295295
         ],
         "line": {
          "color": "blue",
          "width": 0.5
         },
         "locationmode": "USA-states",
         "lon": [
          -117.1627728,
          -119.70886126075588
         ],
         "mode": "lines",
         "type": "scattergeo"
        },
        {
         "hoverinfo": "skip",
         "lat": [
          38.8950368,
          34.0536909
         ],
         "line": {
          "color": "blue",
          "width": 0.5
         },
         "locationmode": "USA-states",
         "lon": [
          -77.0365427,
          -118.242766
         ],
         "mode": "lines",
         "type": "scattergeo"
        },
        {
         "hoverinfo": "skip",
         "lat": [
          33.7489924,
          29.9759983
         ],
         "line": {
          "color": "blue",
          "width": 0.5
         },
         "locationmode": "USA-states",
         "lon": [
          -84.3902644,
          -90.0782127
         ],
         "mode": "lines",
         "type": "scattergeo"
        },
        {
         "hoverinfo": "skip",
         "lat": [
          32.7762719,
          42.3315509
         ],
         "line": {
          "color": "blue",
          "width": 0.5
         },
         "locationmode": "USA-states",
         "lon": [
          -96.7968559,
          -83.0466403
         ],
         "mode": "lines",
         "type": "scattergeo"
        },
        {
         "hoverinfo": "skip",
         "lat": [
          28.5421109,
          40.7596198
         ],
         "line": {
          "color": "blue",
          "width": 0.5
         },
         "locationmode": "USA-states",
         "lon": [
          -81.3790304,
          -111.886797
         ],
         "mode": "lines",
         "type": "scattergeo"
        },
        {
         "hoverinfo": "skip",
         "lat": [
          32.7174202,
          37.3361663
         ],
         "line": {
          "color": "blue",
          "width": 0.5
         },
         "locationmode": "USA-states",
         "lon": [
          -117.1627728,
          -121.890591
         ],
         "mode": "lines",
         "type": "scattergeo"
        },
        {
         "hoverinfo": "skip",
         "lat": [
          26.9297836,
          43.0161693
         ],
         "line": {
          "color": "blue",
          "width": 0.5
         },
         "locationmode": "USA-states",
         "lon": [
          -82.0453664,
          -83.6900211
         ],
         "mode": "lines",
         "type": "scattergeo"
        },
        {
         "hoverinfo": "skip",
         "lat": [
          41.8755616,
          38.8950368
         ],
         "line": {
          "color": "blue",
          "width": 0.5
         },
         "locationmode": "USA-states",
         "lon": [
          -87.6244212,
          -77.0365427
         ],
         "mode": "lines",
         "type": "scattergeo"
        },
        {
         "hoverinfo": "skip",
         "lat": [
          44.9772995,
          39.9527237
         ],
         "line": {
          "color": "blue",
          "width": 0.5
         },
         "locationmode": "USA-states",
         "lon": [
          -93.2654692,
          -75.1635262
         ],
         "mode": "lines",
         "type": "scattergeo"
        },
        {
         "hoverinfo": "skip",
         "lat": [
          45.5202471,
          37.3361663
         ],
         "line": {
          "color": "blue",
          "width": 0.5
         },
         "locationmode": "USA-states",
         "lon": [
          -122.674194,
          -121.890591
         ],
         "mode": "lines",
         "type": "scattergeo"
        },
        {
         "hoverinfo": "skip",
         "lat": [
          30.2711286,
          41.8755616
         ],
         "line": {
          "color": "blue",
          "width": 0.5
         },
         "locationmode": "USA-states",
         "lon": [
          -97.7436995,
          -87.6244212
         ],
         "mode": "lines",
         "type": "scattergeo"
        },
        {
         "hoverinfo": "skip",
         "lat": [
          39.1014537,
          39.9527237
         ],
         "line": {
          "color": "blue",
          "width": 0.5
         },
         "locationmode": "USA-states",
         "lon": [
          -84.5124602,
          -75.1635262
         ],
         "mode": "lines",
         "type": "scattergeo"
        },
        {
         "hoverinfo": "skip",
         "lat": [
          34.9326334,
          40.735657
         ],
         "line": {
          "color": "blue",
          "width": 0.5
         },
         "locationmode": "USA-states",
         "lon": [
          -99.5435856,
          -74.1723667
         ],
         "mode": "lines",
         "type": "scattergeo"
        },
        {
         "hoverinfo": "skip",
         "lat": [
          27.9477595,
          33.7489924
         ],
         "line": {
          "color": "blue",
          "width": 0.5
         },
         "locationmode": "USA-states",
         "lon": [
          -82.458444,
          -84.3902644
         ],
         "mode": "lines",
         "type": "scattergeo"
        },
        {
         "hoverinfo": "skip",
         "lat": [
          42.3554334,
          37.7790262
         ],
         "line": {
          "color": "blue",
          "width": 0.5
         },
         "locationmode": "USA-states",
         "lon": [
          -71.060511,
          -122.419906
         ],
         "mode": "lines",
         "type": "scattergeo"
        },
        {
         "hoverinfo": "skip",
         "lat": [
          25.7741728,
          36.1672559
         ],
         "line": {
          "color": "blue",
          "width": 0.5
         },
         "locationmode": "USA-states",
         "lon": [
          -80.19362,
          -115.148516
         ],
         "mode": "lines",
         "type": "scattergeo"
        },
        {
         "hoverinfo": "skip",
         "lat": [
          32.731316,
          42.3315509
         ],
         "line": {
          "color": "blue",
          "width": 0.5
         },
         "locationmode": "USA-states",
         "lon": [
          -97.499982,
          -83.0466403
         ],
         "mode": "lines",
         "type": "scattergeo"
        },
        {
         "hoverinfo": "skip",
         "lat": [
          41.5910323,
          40.7127281
         ],
         "line": {
          "color": "blue",
          "width": 0.5
         },
         "locationmode": "USA-states",
         "lon": [
          -93.6046655,
          -74.0060152
         ],
         "mode": "lines",
         "type": "scattergeo"
        },
        {
         "hoverinfo": "skip",
         "lat": [
          39.9622601,
          41.8755616
         ],
         "line": {
          "color": "blue",
          "width": 0.5
         },
         "locationmode": "USA-states",
         "lon": [
          -83.0007065,
          -87.6244212
         ],
         "mode": "lines",
         "type": "scattergeo"
        },
        {
         "hoverinfo": "skip",
         "lat": [
          41.2587459,
          39.7392364
         ],
         "line": {
          "color": "blue",
          "width": 0.5
         },
         "locationmode": "USA-states",
         "lon": [
          -95.9383758,
          -104.984862
         ],
         "mode": "lines",
         "type": "scattergeo"
        },
        {
         "hoverinfo": "skip",
         "lat": [
          41.8755616,
          39.9622601
         ],
         "line": {
          "color": "blue",
          "width": 0.5
         },
         "locationmode": "USA-states",
         "lon": [
          -87.6244212,
          -83.0007065
         ],
         "mode": "lines",
         "type": "scattergeo"
        },
        {
         "hoverinfo": "skip",
         "lat": [
          45.5202471,
          30.2711286
         ],
         "line": {
          "color": "blue",
          "width": 0.5
         },
         "locationmode": "USA-states",
         "lon": [
          -122.674194,
          -97.7436995
         ],
         "mode": "lines",
         "type": "scattergeo"
        },
        {
         "hoverinfo": "skip",
         "lat": [
          42.3554334,
          33.7489924
         ],
         "line": {
          "color": "blue",
          "width": 0.5
         },
         "locationmode": "USA-states",
         "lon": [
          -71.060511,
          -84.3902644
         ],
         "mode": "lines",
         "type": "scattergeo"
        },
        {
         "hoverinfo": "skip",
         "lat": [
          36.1672559,
          33.4484367
         ],
         "line": {
          "color": "blue",
          "width": 0.5
         },
         "locationmode": "USA-states",
         "lon": [
          -115.148516,
          -112.074141
         ],
         "mode": "lines",
         "type": "scattergeo"
        },
        {
         "hoverinfo": "skip",
         "lat": [
          28.5421109,
          34.0536909
         ],
         "line": {
          "color": "blue",
          "width": 0.5
         },
         "locationmode": "USA-states",
         "lon": [
          -81.3790304,
          -118.242766
         ],
         "mode": "lines",
         "type": "scattergeo"
        },
        {
         "hoverinfo": "skip",
         "lat": [
          33.7489924,
          39.2908816
         ],
         "line": {
          "color": "blue",
          "width": 0.5
         },
         "locationmode": "USA-states",
         "lon": [
          -84.3902644,
          -76.610759
         ],
         "mode": "lines",
         "type": "scattergeo"
        },
        {
         "hoverinfo": "skip",
         "lat": [
          47.6038321,
          37.7790262
         ],
         "line": {
          "color": "blue",
          "width": 0.5
         },
         "locationmode": "USA-states",
         "lon": [
          -122.330062,
          -122.419906
         ],
         "mode": "lines",
         "type": "scattergeo"
        },
        {
         "hoverinfo": "skip",
         "lat": [
          37.7790262,
          44.9772995
         ],
         "line": {
          "color": "blue",
          "width": 0.5
         },
         "locationmode": "USA-states",
         "lon": [
          -122.419906,
          -93.2654692
         ],
         "mode": "lines",
         "type": "scattergeo"
        },
        {
         "hoverinfo": "skip",
         "lat": [
          40.735657,
          26.715364
         ],
         "line": {
          "color": "blue",
          "width": 0.5
         },
         "locationmode": "USA-states",
         "lon": [
          -74.1723667,
          -80.0532942
         ],
         "mode": "lines",
         "type": "scattergeo"
        },
        {
         "hoverinfo": "skip",
         "lat": [
          38.8950368,
          40.7127281
         ],
         "line": {
          "color": "blue",
          "width": 0.5
         },
         "locationmode": "USA-states",
         "lon": [
          -77.0365427,
          -74.0060152
         ],
         "mode": "lines",
         "type": "scattergeo"
        },
        {
         "hoverinfo": "skip",
         "lat": [
          44.9772995,
          39.9527237
         ],
         "line": {
          "color": "blue",
          "width": 0.5
         },
         "locationmode": "USA-states",
         "lon": [
          -93.2654692,
          -75.1635262
         ],
         "mode": "lines",
         "type": "scattergeo"
        },
        {
         "hoverinfo": "skip",
         "lat": [
          32.7762719,
          39.7683331
         ],
         "line": {
          "color": "blue",
          "width": 0.5
         },
         "locationmode": "USA-states",
         "lon": [
          -96.7968559,
          -86.1583502
         ],
         "mode": "lines",
         "type": "scattergeo"
        },
        {
         "hoverinfo": "skip",
         "lat": [
          37.7790262,
          40.7596198
         ],
         "line": {
          "color": "blue",
          "width": 0.5
         },
         "locationmode": "USA-states",
         "lon": [
          -122.419906,
          -111.886797
         ],
         "mode": "lines",
         "type": "scattergeo"
        },
        {
         "hoverinfo": "skip",
         "lat": [
          34.0536909,
          41.8755616
         ],
         "line": {
          "color": "blue",
          "width": 0.5
         },
         "locationmode": "USA-states",
         "lon": [
          -118.242766,
          -87.6244212
         ],
         "mode": "lines",
         "type": "scattergeo"
        },
        {
         "hoverinfo": "skip",
         "lat": [
          28.5421109,
          40.317287
         ],
         "line": {
          "color": "blue",
          "width": 0.5
         },
         "locationmode": "USA-states",
         "lon": [
          -81.3790304,
          -79.3840301
         ],
         "mode": "lines",
         "type": "scattergeo"
        },
        {
         "hoverinfo": "skip",
         "lat": [
          28.5421109,
          39.1014537
         ],
         "line": {
          "color": "blue",
          "width": 0.5
         },
         "locationmode": "USA-states",
         "lon": [
          -81.3790304,
          -84.5124602
         ],
         "mode": "lines",
         "type": "scattergeo"
        },
        {
         "hoverinfo": "skip",
         "lat": [
          27.9477595,
          26.1223084
         ],
         "line": {
          "color": "blue",
          "width": 0.5
         },
         "locationmode": "USA-states",
         "lon": [
          -82.458444,
          -80.1433786
         ],
         "mode": "lines",
         "type": "scattergeo"
        },
        {
         "hoverinfo": "skip",
         "lat": [
          39.7459468,
          39.9527237
         ],
         "line": {
          "color": "blue",
          "width": 0.5
         },
         "locationmode": "USA-states",
         "lon": [
          -75.546589,
          -75.1635262
         ],
         "mode": "lines",
         "type": "scattergeo"
        },
        {
         "hoverinfo": "skip",
         "lat": [
          41.8755616,
          27.9477595
         ],
         "line": {
          "color": "blue",
          "width": 0.5
         },
         "locationmode": "USA-states",
         "lon": [
          -87.6244212,
          -82.458444
         ],
         "mode": "lines",
         "type": "scattergeo"
        },
        {
         "hoverinfo": "skip",
         "lat": [
          33.7489924,
          29.7589382
         ],
         "line": {
          "color": "blue",
          "width": 0.5
         },
         "locationmode": "USA-states",
         "lon": [
          -84.3902644,
          -95.3676974
         ],
         "mode": "lines",
         "type": "scattergeo"
        },
        {
         "hoverinfo": "skip",
         "lat": [
          40.735657,
          27.9477595
         ],
         "line": {
          "color": "blue",
          "width": 0.5
         },
         "locationmode": "USA-states",
         "lon": [
          -74.1723667,
          -82.458444
         ],
         "mode": "lines",
         "type": "scattergeo"
        },
        {
         "hoverinfo": "skip",
         "lat": [
          46.8060593,
          36.1672559
         ],
         "line": {
          "color": "blue",
          "width": 0.5
         },
         "locationmode": "USA-states",
         "lon": [
          -100.8267395,
          -115.148516
         ],
         "mode": "lines",
         "type": "scattergeo"
        },
        {
         "hoverinfo": "skip",
         "lat": [
          41.8755616,
          40.6938609
         ],
         "line": {
          "color": "blue",
          "width": 0.5
         },
         "locationmode": "USA-states",
         "lon": [
          -87.6244212,
          -89.5891008
         ],
         "mode": "lines",
         "type": "scattergeo"
        },
        {
         "hoverinfo": "skip",
         "lat": [
          38.5810606,
          33.4484367
         ],
         "line": {
          "color": "blue",
          "width": 0.5
         },
         "locationmode": "USA-states",
         "lon": [
          -121.493895,
          -112.074141
         ],
         "mode": "lines",
         "type": "scattergeo"
        },
        {
         "hoverinfo": "skip",
         "lat": [
          45.5202471,
          42.3315509
         ],
         "line": {
          "color": "blue",
          "width": 0.5
         },
         "locationmode": "USA-states",
         "lon": [
          -122.674194,
          -83.0466403
         ],
         "mode": "lines",
         "type": "scattergeo"
        },
        {
         "hoverinfo": "skip",
         "lat": [
          35.3540209,
          37.7790262
         ],
         "line": {
          "color": "blue",
          "width": 0.5
         },
         "locationmode": "USA-states",
         "lon": [
          -120.375716,
          -122.419906
         ],
         "mode": "lines",
         "type": "scattergeo"
        },
        {
         "hoverinfo": "skip",
         "lat": [
          33.7489924,
          37.7790262
         ],
         "line": {
          "color": "blue",
          "width": 0.5
         },
         "locationmode": "USA-states",
         "lon": [
          -84.3902644,
          -122.419906
         ],
         "mode": "lines",
         "type": "scattergeo"
        },
        {
         "hoverinfo": "skip",
         "lat": [
          35.2272086,
          38.0464066
         ],
         "line": {
          "color": "blue",
          "width": 0.5
         },
         "locationmode": "USA-states",
         "lon": [
          -80.8430827,
          -84.4970393
         ],
         "mode": "lines",
         "type": "scattergeo"
        },
        {
         "hoverinfo": "skip",
         "lat": [
          34.1812089,
          37.3361663
         ],
         "line": {
          "color": "blue",
          "width": 0.5
         },
         "locationmode": "USA-states",
         "lon": [
          -118.307201,
          -121.890591
         ],
         "mode": "lines",
         "type": "scattergeo"
        },
        {
         "hoverinfo": "skip",
         "lat": [
          35.2272086,
          39.7392364
         ],
         "line": {
          "color": "blue",
          "width": 0.5
         },
         "locationmode": "USA-states",
         "lon": [
          -80.8430827,
          -104.984862
         ],
         "mode": "lines",
         "type": "scattergeo"
        },
        {
         "hoverinfo": "skip",
         "lat": [
          38.8950368,
          28.5421109
         ],
         "line": {
          "color": "blue",
          "width": 0.5
         },
         "locationmode": "USA-states",
         "lon": [
          -77.0365427,
          -81.3790304
         ],
         "mode": "lines",
         "type": "scattergeo"
        },
        {
         "hoverinfo": "skip",
         "lat": [
          35.2272086,
          30.2711286
         ],
         "line": {
          "color": "blue",
          "width": 0.5
         },
         "locationmode": "USA-states",
         "lon": [
          -80.8430827,
          -97.7436995
         ],
         "mode": "lines",
         "type": "scattergeo"
        },
        {
         "hoverinfo": "skip",
         "lat": [
          47.6571934,
          47.6038321
         ],
         "line": {
          "color": "blue",
          "width": 0.5
         },
         "locationmode": "USA-states",
         "lon": [
          -117.42351,
          -122.330062
         ],
         "mode": "lines",
         "type": "scattergeo"
        },
        {
         "hoverinfo": "skip",
         "lat": [
          39.7392364,
          32.7174202
         ],
         "line": {
          "color": "blue",
          "width": 0.5
         },
         "locationmode": "USA-states",
         "lon": [
          -104.984862,
          -117.1627728
         ],
         "mode": "lines",
         "type": "scattergeo"
        },
        {
         "hoverinfo": "skip",
         "lat": [
          37.3361663,
          50.000678
         ],
         "line": {
          "color": "blue",
          "width": 0.5
         },
         "locationmode": "USA-states",
         "lon": [
          -121.890591,
          -86.000977
         ],
         "mode": "lines",
         "type": "scattergeo"
        },
        {
         "hoverinfo": "skip",
         "lat": [
          26.1223084,
          40.7127281
         ],
         "line": {
          "color": "blue",
          "width": 0.5
         },
         "locationmode": "USA-states",
         "lon": [
          -80.1433786,
          -74.0060152
         ],
         "mode": "lines",
         "type": "scattergeo"
        },
        {
         "hoverinfo": "skip",
         "lat": [
          36.1672559,
          39.9527237
         ],
         "line": {
          "color": "blue",
          "width": 0.5
         },
         "locationmode": "USA-states",
         "lon": [
          -115.148516,
          -75.1635262
         ],
         "mode": "lines",
         "type": "scattergeo"
        },
        {
         "hoverinfo": "skip",
         "lat": [
          34.0536909,
          27.9477595
         ],
         "line": {
          "color": "blue",
          "width": 0.5
         },
         "locationmode": "USA-states",
         "lon": [
          -118.242766,
          -82.458444
         ],
         "mode": "lines",
         "type": "scattergeo"
        },
        {
         "hoverinfo": "skip",
         "lat": [
          32.2998686,
          39.7392364
         ],
         "line": {
          "color": "blue",
          "width": 0.5
         },
         "locationmode": "USA-states",
         "lon": [
          -90.1830408,
          -104.984862
         ],
         "mode": "lines",
         "type": "scattergeo"
        },
        {
         "hoverinfo": "skip",
         "lat": [
          35.2272086,
          36.0625843
         ],
         "line": {
          "color": "blue",
          "width": 0.5
         },
         "locationmode": "USA-states",
         "lon": [
          -80.8430827,
          -94.1574328
         ],
         "mode": "lines",
         "type": "scattergeo"
        },
        {
         "hoverinfo": "skip",
         "lat": [
          40.4416941,
          42.3315509
         ],
         "line": {
          "color": "blue",
          "width": 0.5
         },
         "locationmode": "USA-states",
         "lon": [
          -79.9900861,
          -83.0466403
         ],
         "mode": "lines",
         "type": "scattergeo"
        },
        {
         "hoverinfo": "skip",
         "lat": [
          44.9772995,
          48.202158
         ],
         "line": {
          "color": "blue",
          "width": 0.5
         },
         "locationmode": "USA-states",
         "lon": [
          -93.2654692,
          -114.315321
         ],
         "mode": "lines",
         "type": "scattergeo"
        },
        {
         "hoverinfo": "skip",
         "lat": [
          39.2908816,
          26.1223084
         ],
         "line": {
          "color": "blue",
          "width": 0.5
         },
         "locationmode": "USA-states",
         "lon": [
          -76.610759,
          -80.1433786
         ],
         "mode": "lines",
         "type": "scattergeo"
        },
        {
         "hoverinfo": "skip",
         "lat": [
          40.7127281,
          30.2711286
         ],
         "line": {
          "color": "blue",
          "width": 0.5
         },
         "locationmode": "USA-states",
         "lon": [
          -74.0060152,
          -97.7436995
         ],
         "mode": "lines",
         "type": "scattergeo"
        },
        {
         "hoverinfo": "skip",
         "lat": [
          46.877229,
          41.8755616
         ],
         "line": {
          "color": "blue",
          "width": 0.5
         },
         "locationmode": "USA-states",
         "lon": [
          -96.789821,
          -87.6244212
         ],
         "mode": "lines",
         "type": "scattergeo"
        },
        {
         "hoverinfo": "skip",
         "lat": [
          32.7762719,
          41.2587459
         ],
         "line": {
          "color": "blue",
          "width": 0.5
         },
         "locationmode": "USA-states",
         "lon": [
          -96.7968559,
          -95.9383758
         ],
         "mode": "lines",
         "type": "scattergeo"
        },
        {
         "hoverinfo": "skip",
         "lat": [
          33.7489924,
          29.7589382
         ],
         "line": {
          "color": "blue",
          "width": 0.5
         },
         "locationmode": "USA-states",
         "lon": [
          -84.3902644,
          -95.3676974
         ],
         "mode": "lines",
         "type": "scattergeo"
        },
        {
         "hoverinfo": "skip",
         "lat": [
          38.8950368,
          32.7762719
         ],
         "line": {
          "color": "blue",
          "width": 0.5
         },
         "locationmode": "USA-states",
         "lon": [
          -77.0365427,
          -96.7968559
         ],
         "mode": "lines",
         "type": "scattergeo"
        },
        {
         "hoverinfo": "skip",
         "lat": [
          32.7884363,
          39.9527237
         ],
         "line": {
          "color": "blue",
          "width": 0.5
         },
         "locationmode": "USA-states",
         "lon": [
          -79.9399309,
          -75.1635262
         ],
         "mode": "lines",
         "type": "scattergeo"
        },
        {
         "hoverinfo": "skip",
         "lat": [
          42.9632425,
          36.1622767
         ],
         "line": {
          "color": "blue",
          "width": 0.5
         },
         "locationmode": "USA-states",
         "lon": [
          -85.6678639,
          -86.7742984
         ],
         "mode": "lines",
         "type": "scattergeo"
        },
        {
         "hoverinfo": "skip",
         "lat": [
          31.7550511,
          33.7489924
         ],
         "line": {
          "color": "blue",
          "width": 0.5
         },
         "locationmode": "USA-states",
         "lon": [
          -106.488234,
          -84.3902644
         ],
         "mode": "lines",
         "type": "scattergeo"
        },
        {
         "hoverinfo": "skip",
         "lat": [
          32.731316,
          30.2711286
         ],
         "line": {
          "color": "blue",
          "width": 0.5
         },
         "locationmode": "USA-states",
         "lon": [
          -97.499982,
          -97.7436995
         ],
         "mode": "lines",
         "type": "scattergeo"
        },
        {
         "hoverinfo": "skip",
         "lat": [
          32.731316,
          42.3554334
         ],
         "line": {
          "color": "blue",
          "width": 0.5
         },
         "locationmode": "USA-states",
         "lon": [
          -97.499982,
          -71.060511
         ],
         "mode": "lines",
         "type": "scattergeo"
        },
        {
         "hoverinfo": "skip",
         "lat": [
          42.5704456,
          40.7596198
         ],
         "line": {
          "color": "blue",
          "width": 0.5
         },
         "locationmode": "USA-states",
         "lon": [
          -114.4602554,
          -111.886797
         ],
         "mode": "lines",
         "type": "scattergeo"
        },
        {
         "hoverinfo": "skip",
         "lat": [
          36.1622767,
          42.3554334
         ],
         "line": {
          "color": "blue",
          "width": 0.5
         },
         "locationmode": "USA-states",
         "lon": [
          -86.7742984,
          -71.060511
         ],
         "mode": "lines",
         "type": "scattergeo"
        },
        {
         "hoverinfo": "skip",
         "lat": [
          38.6280278,
          36.1672559
         ],
         "line": {
          "color": "blue",
          "width": 0.5
         },
         "locationmode": "USA-states",
         "lon": [
          -90.1910154,
          -115.148516
         ],
         "mode": "lines",
         "type": "scattergeo"
        },
        {
         "hoverinfo": "skip",
         "lat": [
          37.7790262,
          42.3554334
         ],
         "line": {
          "color": "blue",
          "width": 0.5
         },
         "locationmode": "USA-states",
         "lon": [
          -122.419906,
          -71.060511
         ],
         "mode": "lines",
         "type": "scattergeo"
        },
        {
         "hoverinfo": "skip",
         "lat": [
          37.5385087,
          25.7741728
         ],
         "line": {
          "color": "blue",
          "width": 0.5
         },
         "locationmode": "USA-states",
         "lon": [
          -77.43428,
          -80.19362
         ],
         "mode": "lines",
         "type": "scattergeo"
        },
        {
         "hoverinfo": "skip",
         "lat": [
          33.7489924,
          29.7589382
         ],
         "line": {
          "color": "blue",
          "width": 0.5
         },
         "locationmode": "USA-states",
         "lon": [
          -84.3902644,
          -95.3676974
         ],
         "mode": "lines",
         "type": "scattergeo"
        },
        {
         "hoverinfo": "skip",
         "lat": [
          25.7741728,
          29.7589382
         ],
         "line": {
          "color": "blue",
          "width": 0.5
         },
         "locationmode": "USA-states",
         "lon": [
          -80.19362,
          -95.3676974
         ],
         "mode": "lines",
         "type": "scattergeo"
        },
        {
         "hoverinfo": "skip",
         "lat": [
          32.7762719,
          34.7465071
         ],
         "line": {
          "color": "blue",
          "width": 0.5
         },
         "locationmode": "USA-states",
         "lon": [
          -96.7968559,
          -92.2896267
         ],
         "mode": "lines",
         "type": "scattergeo"
        },
        {
         "hoverinfo": "skip",
         "lat": [
          39.2908816,
          42.3554334
         ],
         "line": {
          "color": "blue",
          "width": 0.5
         },
         "locationmode": "USA-states",
         "lon": [
          -76.610759,
          -71.060511
         ],
         "mode": "lines",
         "type": "scattergeo"
        },
        {
         "hoverinfo": "skip",
         "lat": [
          41.8755616,
          42.4966815
         ],
         "line": {
          "color": "blue",
          "width": 0.5
         },
         "locationmode": "USA-states",
         "lon": [
          -87.6244212,
          -96.4058782
         ],
         "mode": "lines",
         "type": "scattergeo"
        }
       ],
       "layout": {
        "autosize": true,
        "geo": {
         "bgcolor": "rgb(29, 29, 29)",
         "center": {
          "lat": 36.0,
          "lon": -100.0
         },
         "coastlinecolor": "rgb(90, 90, 90)",
         "countrycolor": "rgb(90, 90, 90)",
         "landcolor": "rgb(49, 49, 49)",
         "oceancolor": "rgb(29, 29, 29)",
         "projection": {
          "scale": 1.8,
          "type": "orthographic"
         },
         "scope": "north america",
         "showcoastlines": true,
         "showcountries": true,
         "showland": true,
         "showocean": true
        },
        "margin": {
         "b": 0,
         "l": 0,
         "pad": 0,
         "r": 0,
         "t": 0
        },
        "paper_bgcolor": "rgb(29, 29, 29)",
        "plot_bgcolor": "rgb(29, 29, 29)",
        "showlegend": false,
        "template": {
         "data": {
          "barpolar": [
           {
            "marker": {
             "line": {
              "color": "#E5ECF6",
              "width": 0.5
             },
             "pattern": {
              "fillmode": "overlay",
              "size": 10,
              "solidity": 0.2
             }
            },
            "type": "barpolar"
           }
          ],
          "bar": [
           {
            "error_x": {
             "color": "#2a3f5f"
            },
            "error_y": {
             "color": "#2a3f5f"
            },
            "marker": {
             "line": {
              "color": "#E5ECF6",
              "width": 0.5
             },
             "pattern": {
              "fillmode": "overlay",
              "size": 10,
              "solidity": 0.2
             }
            },
            "type": "bar"
           }
          ],
          "carpet": [
           {
            "aaxis": {
             "endlinecolor": "#2a3f5f",
             "gridcolor": "white",
             "linecolor": "white",
             "minorgridcolor": "white",
             "startlinecolor": "#2a3f5f"
            },
            "baxis": {
             "endlinecolor": "#2a3f5f",
             "gridcolor": "white",
             "linecolor": "white",
             "minorgridcolor": "white",
             "startlinecolor": "#2a3f5f"
            },
            "type": "carpet"
           }
          ],
          "choropleth": [
           {
            "colorbar": {
             "outlinewidth": 0,
             "ticks": ""
            },
            "type": "choropleth"
           }
          ],
          "contourcarpet": [
           {
            "colorbar": {
             "outlinewidth": 0,
             "ticks": ""
            },
            "type": "contourcarpet"
           }
          ],
          "contour": [
           {
            "colorbar": {
             "outlinewidth": 0,
             "ticks": ""
            },
            "colorscale": [
             [
              0.0,
              "#0d0887"
             ],
             [
              0.1111111111111111,
              "#46039f"
             ],
             [
              0.2222222222222222,
              "#7201a8"
             ],
             [
              0.3333333333333333,
              "#9c179e"
             ],
             [
              0.4444444444444444,
              "#bd3786"
             ],
             [
              0.5555555555555556,
              "#d8576b"
             ],
             [
              0.6666666666666666,
              "#ed7953"
             ],
             [
              0.7777777777777778,
              "#fb9f3a"
             ],
             [
              0.8888888888888888,
              "#fdca26"
             ],
             [
              1.0,
              "#f0f921"
             ]
            ],
            "type": "contour"
           }
          ],
          "heatmapgl": [
           {
            "colorbar": {
             "outlinewidth": 0,
             "ticks": ""
            },
            "colorscale": [
             [
              0.0,
              "#0d0887"
             ],
             [
              0.1111111111111111,
              "#46039f"
             ],
             [
              0.2222222222222222,
              "#7201a8"
             ],
             [
              0.3333333333333333,
              "#9c179e"
             ],
             [
              0.4444444444444444,
              "#bd3786"
             ],
             [
              0.5555555555555556,
              "#d8576b"
             ],
             [
              0.6666666666666666,
              "#ed7953"
             ],
             [
              0.7777777777777778,
              "#fb9f3a"
             ],
             [
              0.8888888888888888,
              "#fdca26"
             ],
             [
              1.0,
              "#f0f921"
             ]
            ],
            "type": "heatmapgl"
           }
          ],
          "heatmap": [
           {
            "colorbar": {
             "outlinewidth": 0,
             "ticks": ""
            },
            "colorscale": [
             [
              0.0,
              "#0d0887"
             ],
             [
              0.1111111111111111,
              "#46039f"
             ],
             [
              0.2222222222222222,
              "#7201a8"
             ],
             [
              0.3333333333333333,
              "#9c179e"
             ],
             [
              0.4444444444444444,
              "#bd3786"
             ],
             [
              0.5555555555555556,
              "#d8576b"
             ],
             [
              0.6666666666666666,
              "#ed7953"
             ],
             [
              0.7777777777777778,
              "#fb9f3a"
             ],
             [
              0.8888888888888888,
              "#fdca26"
             ],
             [
              1.0,
              "#f0f921"
             ]
            ],
            "type": "heatmap"
           }
          ],
          "histogram2dcontour": [
           {
            "colorbar": {
             "outlinewidth": 0,
             "ticks": ""
            },
            "colorscale": [
             [
              0.0,
              "#0d0887"
             ],
             [
              0.1111111111111111,
              "#46039f"
             ],
             [
              0.2222222222222222,
              "#7201a8"
             ],
             [
              0.3333333333333333,
              "#9c179e"
             ],
             [
              0.4444444444444444,
              "#bd3786"
             ],
             [
              0.5555555555555556,
              "#d8576b"
             ],
             [
              0.6666666666666666,
              "#ed7953"
             ],
             [
              0.7777777777777778,
              "#fb9f3a"
             ],
             [
              0.8888888888888888,
              "#fdca26"
             ],
             [
              1.0,
              "#f0f921"
             ]
            ],
            "type": "histogram2dcontour"
           }
          ],
          "histogram2d": [
           {
            "colorbar": {
             "outlinewidth": 0,
             "ticks": ""
            },
            "colorscale": [
             [
              0.0,
              "#0d0887"
             ],
             [
              0.1111111111111111,
              "#46039f"
             ],
             [
              0.2222222222222222,
              "#7201a8"
             ],
             [
              0.3333333333333333,
              "#9c179e"
             ],
             [
              0.4444444444444444,
              "#bd3786"
             ],
             [
              0.5555555555555556,
              "#d8576b"
             ],
             [
              0.6666666666666666,
              "#ed7953"
             ],
             [
              0.7777777777777778,
              "#fb9f3a"
             ],
             [
              0.8888888888888888,
              "#fdca26"
             ],
             [
              1.0,
              "#f0f921"
             ]
            ],
            "type": "histogram2d"
           }
          ],
          "histogram": [
           {
            "marker": {
             "pattern": {
              "fillmode": "overlay",
              "size": 10,
              "solidity": 0.2
             }
            },
            "type": "histogram"
           }
          ],
          "mesh3d": [
           {
            "colorbar": {
             "outlinewidth": 0,
             "ticks": ""
            },
            "type": "mesh3d"
           }
          ],
          "parcoords": [
           {
            "line": {
             "colorbar": {
              "outlinewidth": 0,
              "ticks": ""
             }
            },
            "type": "parcoords"
           }
          ],
          "pie": [
           {
            "automargin": true,
            "type": "pie"
           }
          ],
          "scatter3d": [
           {
            "line": {
             "colorbar": {
              "outlinewidth": 0,
              "ticks": ""
             }
            },
            "marker": {
             "colorbar": {
              "outlinewidth": 0,
              "ticks": ""
             }
            },
            "type": "scatter3d"
           }
          ],
          "scattercarpet": [
           {
            "marker": {
             "colorbar": {
              "outlinewidth": 0,
              "ticks": ""
             }
            },
            "type": "scattercarpet"
           }
          ],
          "scattergeo": [
           {
            "marker": {
             "colorbar": {
              "outlinewidth": 0,
              "ticks": ""
             }
            },
            "type": "scattergeo"
           }
          ],
          "scattergl": [
           {
            "marker": {
             "colorbar": {
              "outlinewidth": 0,
              "ticks": ""
             }
            },
            "type": "scattergl"
           }
          ],
          "scattermapbox": [
           {
            "marker": {
             "colorbar": {
              "outlinewidth": 0,
              "ticks": ""
             }
            },
            "type": "scattermapbox"
           }
          ],
          "scatterpolargl": [
           {
            "marker": {
             "colorbar": {
              "outlinewidth": 0,
              "ticks": ""
             }
            },
            "type": "scatterpolargl"
           }
          ],
          "scatterpolar": [
           {
            "marker": {
             "colorbar": {
              "outlinewidth": 0,
              "ticks": ""
             }
            },
            "type": "scatterpolar"
           }
          ],
          "scatter": [
           {
            "fillpattern": {
             "fillmode": "overlay",
             "size": 10,
             "solidity": 0.2
            },
            "type": "scatter"
           }
          ],
          "scatterternary": [
           {
            "marker": {
             "colorbar": {
              "outlinewidth": 0,
              "ticks": ""
             }
            },
            "type": "scatterternary"
           }
          ],
          "surface": [
           {
            "colorbar": {
             "outlinewidth": 0,
             "ticks": ""
            },
            "colorscale": [
             [
              0.0,
              "#0d0887"
             ],
             [
              0.1111111111111111,
              "#46039f"
             ],
             [
              0.2222222222222222,
              "#7201a8"
             ],
             [
              0.3333333333333333,
              "#9c179e"
             ],
             [
              0.4444444444444444,
              "#bd3786"
             ],
             [
              0.5555555555555556,
              "#d8576b"
             ],
             [
              0.6666666666666666,
              "#ed7953"
             ],
             [
              0.7777777777777778,
              "#fb9f3a"
             ],
             [
              0.8888888888888888,
              "#fdca26"
             ],
             [
              1.0,
              "#f0f921"
             ]
            ],
            "type": "surface"
           }
          ],
          "table": [
           {
            "cells": {
             "fill": {
              "color": "#EBF0F8"
             },
             "line": {
              "color": "white"
             }
            },
            "header": {
             "fill": {
              "color": "#C8D4E3"
             },
             "line": {
              "color": "white"
             }
            },
            "type": "table"
           }
          ]
         },
         "layout": {
          "annotationdefaults": {
           "arrowcolor": "#2a3f5f",
           "arrowhead": 0,
           "arrowwidth": 1
          },
          "autotypenumbers": "strict",
          "coloraxis": {
           "colorbar": {
            "outlinewidth": 0,
            "ticks": ""
           }
          },
          "colorscale": {
           "diverging": [
            [
             0,
             "#8e0152"
            ],
            [
             0.1,
             "#c51b7d"
            ],
            [
             0.2,
             "#de77ae"
            ],
            [
             0.3,
             "#f1b6da"
            ],
            [
             0.4,
             "#fde0ef"
            ],
            [
             0.5,
             "#f7f7f7"
            ],
            [
             0.6,
             "#e6f5d0"
            ],
            [
             0.7,
             "#b8e186"
            ],
            [
             0.8,
             "#7fbc41"
            ],
            [
             0.9,
             "#4d9221"
            ],
            [
             1,
             "#276419"
            ]
           ],
           "sequential": [
            [
             0.0,
             "#0d0887"
            ],
            [
             0.1111111111111111,
             "#46039f"
            ],
            [
             0.2222222222222222,
             "#7201a8"
            ],
            [
             0.3333333333333333,
             "#9c179e"
            ],
            [
             0.4444444444444444,
             "#bd3786"
            ],
            [
             0.5555555555555556,
             "#d8576b"
            ],
            [
             0.6666666666666666,
             "#ed7953"
            ],
            [
             0.7777777777777778,
             "#fb9f3a"
            ],
            [
             0.8888888888888888,
             "#fdca26"
            ],
            [
             1.0,
             "#f0f921"
            ]
           ],
           "sequentialminus": [
            [
             0.0,
             "#0d0887"
            ],
            [
             0.1111111111111111,
             "#46039f"
            ],
            [
             0.2222222222222222,
             "#7201a8"
            ],
            [
             0.3333333333333333,
             "#9c179e"
            ],
            [
             0.4444444444444444,
             "#bd3786"
            ],
            [
             0.5555555555555556,
             "#d8576b"
            ],
            [
             0.6666666666666666,
             "#ed7953"
            ],
            [
             0.7777777777777778,
             "#fb9f3a"
            ],
            [
             0.8888888888888888,
             "#fdca26"
            ],
            [
             1.0,
             "#f0f921"
            ]
           ]
          },
          "colorway": [
           "#636efa",
           "#EF553B",
           "#00cc96",
           "#ab63fa",
           "#FFA15A",
           "#19d3f3",
           "#FF6692",
           "#B6E880",
           "#FF97FF",
           "#FECB52"
          ],
          "font": {
           "color": "#2a3f5f"
          },
          "geo": {
           "bgcolor": "white",
           "lakecolor": "white",
           "landcolor": "#E5ECF6",
           "showlakes": true,
           "showland": true,
           "subunitcolor": "white"
          },
          "hoverlabel": {
           "align": "left"
          },
          "hovermode": "closest",
          "mapbox": {
           "style": "light"
          },
          "paper_bgcolor": "white",
          "plot_bgcolor": "#E5ECF6",
          "polar": {
           "angularaxis": {
            "gridcolor": "white",
            "linecolor": "white",
            "ticks": ""
           },
           "bgcolor": "#E5ECF6",
           "radialaxis": {
            "gridcolor": "white",
            "linecolor": "white",
            "ticks": ""
           }
          },
          "scene": {
           "xaxis": {
            "backgroundcolor": "#E5ECF6",
            "gridcolor": "white",
            "gridwidth": 2,
            "linecolor": "white",
            "showbackground": true,
            "ticks": "",
            "zerolinecolor": "white"
           },
           "yaxis": {
            "backgroundcolor": "#E5ECF6",
            "gridcolor": "white",
            "gridwidth": 2,
            "linecolor": "white",
            "showbackground": true,
            "ticks": "",
            "zerolinecolor": "white"
           },
           "zaxis": {
            "backgroundcolor": "#E5ECF6",
            "gridcolor": "white",
            "gridwidth": 2,
            "linecolor": "white",
            "showbackground": true,
            "ticks": "",
            "zerolinecolor": "white"
           }
          },
          "shapedefaults": {
           "line": {
            "color": "#2a3f5f"
           }
          },
          "ternary": {
           "aaxis": {
            "gridcolor": "white",
            "linecolor": "white",
            "ticks": ""
           },
           "baxis": {
            "gridcolor": "white",
            "linecolor": "white",
            "ticks": ""
           },
           "bgcolor": "#E5ECF6",
           "caxis": {
            "gridcolor": "white",
            "linecolor": "white",
            "ticks": ""
           }
          },
          "title": {
           "x": 0.05
          },
          "xaxis": {
           "automargin": true,
           "gridcolor": "white",
           "linecolor": "white",
           "ticks": "",
           "title": {
            "standoff": 15
           },
           "zerolinecolor": "white",
           "zerolinewidth": 2
          },
          "yaxis": {
           "automargin": true,
           "gridcolor": "white",
           "linecolor": "white",
           "ticks": "",
           "title": {
            "standoff": 15
           },
           "zerolinecolor": "white",
           "zerolinewidth": 2
          }
         }
        }
       },
       "config": {
        "showLink": false,
        "linkText": "Export to plot.ly",
        "plotlyServerURL": "https://plot.ly"
       }
      },
      "text/html": "<div>                            <div id=\"c4c5c831-178f-4ad9-ac28-5b338f72ce36\" class=\"plotly-graph-div\" style=\"height:525px; width:100%;\"></div>            <script type=\"text/javascript\">                require([\"plotly\"], function(Plotly) {                    window.PLOTLYENV=window.PLOTLYENV || {};                                    if (document.getElementById(\"c4c5c831-178f-4ad9-ac28-5b338f72ce36\")) {                    Plotly.newPlot(                        \"c4c5c831-178f-4ad9-ac28-5b338f72ce36\",                        [{\"hoverinfo\":\"skip\",\"lat\":[35.1460249,40.735657],\"line\":{\"color\":\"blue\",\"width\":0.5},\"locationmode\":\"USA-states\",\"lon\":[-90.0517638,-74.1723667],\"mode\":\"lines\",\"type\":\"scattergeo\"},{\"hoverinfo\":\"skip\",\"lat\":[32.7884363,32.731316],\"line\":{\"color\":\"blue\",\"width\":0.5},\"locationmode\":\"USA-states\",\"lon\":[-79.9399309,-97.499982],\"mode\":\"lines\",\"type\":\"scattergeo\"},{\"hoverinfo\":\"skip\",\"lat\":[46.4195913,43.6166163],\"line\":{\"color\":\"blue\",\"width\":0.5},\"locationmode\":\"USA-states\",\"lon\":[-117.0216144,-116.200886],\"mode\":\"lines\",\"type\":\"scattergeo\"},{\"hoverinfo\":\"skip\",\"lat\":[34.0536909,21.9769622],\"line\":{\"color\":\"blue\",\"width\":0.5},\"locationmode\":\"USA-states\",\"lon\":[-118.242766,-159.3687721],\"mode\":\"lines\",\"type\":\"scattergeo\"},{\"hoverinfo\":\"skip\",\"lat\":[24.833333,39.7392364],\"line\":{\"color\":\"blue\",\"width\":0.5},\"locationmode\":\"USA-states\",\"lon\":[-104.833333,-104.984862],\"mode\":\"lines\",\"type\":\"scattergeo\"},{\"hoverinfo\":\"skip\",\"lat\":[29.7589382,40.4416941],\"line\":{\"color\":\"blue\",\"width\":0.5},\"locationmode\":\"USA-states\",\"lon\":[-95.3676974,-79.9900861],\"mode\":\"lines\",\"type\":\"scattergeo\"},{\"hoverinfo\":\"skip\",\"lat\":[41.0339862,42.3554334],\"line\":{\"color\":\"blue\",\"width\":0.5},\"locationmode\":\"USA-states\",\"lon\":[-73.7629097,-71.060511],\"mode\":\"lines\",\"type\":\"scattergeo\"},{\"hoverinfo\":\"skip\",\"lat\":[40.7127281,41.4996574],\"line\":{\"color\":\"blue\",\"width\":0.5},\"locationmode\":\"USA-states\",\"lon\":[-74.0060152,-81.6936772],\"mode\":\"lines\",\"type\":\"scattergeo\"},{\"hoverinfo\":\"skip\",\"lat\":[42.3315509,41.8755616],\"line\":{\"color\":\"blue\",\"width\":0.5},\"locationmode\":\"USA-states\",\"lon\":[-83.0466403,-87.6244212],\"mode\":\"lines\",\"type\":\"scattergeo\"},{\"hoverinfo\":\"skip\",\"lat\":[26.1223084,33.7489924],\"line\":{\"color\":\"blue\",\"width\":0.5},\"locationmode\":\"USA-states\",\"lon\":[-80.1433786,-84.3902644],\"mode\":\"lines\",\"type\":\"scattergeo\"},{\"hoverinfo\":\"skip\",\"lat\":[40.7596198,39.7392364],\"line\":{\"color\":\"blue\",\"width\":0.5},\"locationmode\":\"USA-states\",\"lon\":[-111.886797,-104.984862],\"mode\":\"lines\",\"type\":\"scattergeo\"},{\"hoverinfo\":\"skip\",\"lat\":[40.735657,40.7596198],\"line\":{\"color\":\"blue\",\"width\":0.5},\"locationmode\":\"USA-states\",\"lon\":[-74.1723667,-111.886797],\"mode\":\"lines\",\"type\":\"scattergeo\"},{\"hoverinfo\":\"skip\",\"lat\":[41.8755616,42.3554334],\"line\":{\"color\":\"blue\",\"width\":0.5},\"locationmode\":\"USA-states\",\"lon\":[-87.6244212,-71.060511],\"mode\":\"lines\",\"type\":\"scattergeo\"},{\"hoverinfo\":\"skip\",\"lat\":[45.5202471,43.6166163],\"line\":{\"color\":\"blue\",\"width\":0.5},\"locationmode\":\"USA-states\",\"lon\":[-122.674194,-116.200886],\"mode\":\"lines\",\"type\":\"scattergeo\"},{\"hoverinfo\":\"skip\",\"lat\":[32.7762719,34.7465071],\"line\":{\"color\":\"blue\",\"width\":0.5},\"locationmode\":\"USA-states\",\"lon\":[-96.7968559,-92.2896267],\"mode\":\"lines\",\"type\":\"scattergeo\"},{\"hoverinfo\":\"skip\",\"lat\":[39.7392364,32.7174202],\"line\":{\"color\":\"blue\",\"width\":0.5},\"locationmode\":\"USA-states\",\"lon\":[-104.984862,-117.1627728],\"mode\":\"lines\",\"type\":\"scattergeo\"},{\"hoverinfo\":\"skip\",\"lat\":[34.0536909,47.6038321],\"line\":{\"color\":\"blue\",\"width\":0.5},\"locationmode\":\"USA-states\",\"lon\":[-118.242766,-122.330062],\"mode\":\"lines\",\"type\":\"scattergeo\"},{\"hoverinfo\":\"skip\",\"lat\":[41.8755616,29.7589382],\"line\":{\"color\":\"blue\",\"width\":0.5},\"locationmode\":\"USA-states\",\"lon\":[-87.6244212,-95.3676974],\"mode\":\"lines\",\"type\":\"scattergeo\"},{\"hoverinfo\":\"skip\",\"lat\":[33.7494951,32.731316],\"line\":{\"color\":\"blue\",\"width\":0.5},\"locationmode\":\"USA-states\",\"lon\":[-117.8732213,-97.499982],\"mode\":\"lines\",\"type\":\"scattergeo\"},{\"hoverinfo\":\"skip\",\"lat\":[40.7127281,28.5421109],\"line\":{\"color\":\"blue\",\"width\":0.5},\"locationmode\":\"USA-states\",\"lon\":[-74.0060152,-81.3790304],\"mode\":\"lines\",\"type\":\"scattergeo\"},{\"hoverinfo\":\"skip\",\"lat\":[27.9477595,41.8755616],\"line\":{\"color\":\"blue\",\"width\":0.5},\"locationmode\":\"USA-states\",\"lon\":[-82.458444,-87.6244212],\"mode\":\"lines\",\"type\":\"scattergeo\"},{\"hoverinfo\":\"skip\",\"lat\":[39.7392364,44.290635],\"line\":{\"color\":\"blue\",\"width\":0.5},\"locationmode\":\"USA-states\",\"lon\":[-104.984862,-105.501876],\"mode\":\"lines\",\"type\":\"scattergeo\"},{\"hoverinfo\":\"skip\",\"lat\":[39.9527237,43.157285],\"line\":{\"color\":\"blue\",\"width\":0.5},\"locationmode\":\"USA-states\",\"lon\":[-75.1635262,-77.615214],\"mode\":\"lines\",\"type\":\"scattergeo\"},{\"hoverinfo\":\"skip\",\"lat\":[36.0625843,41.8755616],\"line\":{\"color\":\"blue\",\"width\":0.5},\"locationmode\":\"USA-states\",\"lon\":[-94.1574328,-87.6244212],\"mode\":\"lines\",\"type\":\"scattergeo\"},{\"hoverinfo\":\"skip\",\"lat\":[30.3321838,40.7127281],\"line\":{\"color\":\"blue\",\"width\":0.5},\"locationmode\":\"USA-states\",\"lon\":[-81.655651,-74.0060152],\"mode\":\"lines\",\"type\":\"scattergeo\"},{\"hoverinfo\":\"skip\",\"lat\":[44.0505054,47.6038321],\"line\":{\"color\":\"blue\",\"width\":0.5},\"locationmode\":\"USA-states\",\"lon\":[-123.0950506,-122.330062],\"mode\":\"lines\",\"type\":\"scattergeo\"},{\"hoverinfo\":\"skip\",\"lat\":[39.2908816,32.7762719],\"line\":{\"color\":\"blue\",\"width\":0.5},\"locationmode\":\"USA-states\",\"lon\":[-76.610759,-96.7968559],\"mode\":\"lines\",\"type\":\"scattergeo\"},{\"hoverinfo\":\"skip\",\"lat\":[38.3472255,35.2272086],\"line\":{\"color\":\"blue\",\"width\":0.5},\"locationmode\":\"USA-states\",\"lon\":[-81.6336275,-80.8430827],\"mode\":\"lines\",\"type\":\"scattergeo\"},{\"hoverinfo\":\"skip\",\"lat\":[36.1672559,32.7174202],\"line\":{\"color\":\"blue\",\"width\":0.5},\"locationmode\":\"USA-states\",\"lon\":[-115.148516,-117.1627728],\"mode\":\"lines\",\"type\":\"scattergeo\"},{\"hoverinfo\":\"skip\",\"lat\":[33.4484367,25.7741728],\"line\":{\"color\":\"blue\",\"width\":0.5},\"locationmode\":\"USA-states\",\"lon\":[-112.074141,-80.19362],\"mode\":\"lines\",\"type\":\"scattergeo\"},{\"hoverinfo\":\"skip\",\"lat\":[33.7489924,37.270973],\"line\":{\"color\":\"blue\",\"width\":0.5},\"locationmode\":\"USA-states\",\"lon\":[-84.3902644,-79.9414313],\"mode\":\"lines\",\"type\":\"scattergeo\"},{\"hoverinfo\":\"skip\",\"lat\":[33.7494951,33.4484367],\"line\":{\"color\":\"blue\",\"width\":0.5},\"locationmode\":\"USA-states\",\"lon\":[-117.8732213,-112.074141],\"mode\":\"lines\",\"type\":\"scattergeo\"},{\"hoverinfo\":\"skip\",\"lat\":[26.1223084,39.3642852],\"line\":{\"color\":\"blue\",\"width\":0.5},\"locationmode\":\"USA-states\",\"lon\":[-80.1433786,-74.4229351],\"mode\":\"lines\",\"type\":\"scattergeo\"},{\"hoverinfo\":\"skip\",\"lat\":[39.9622601,40.7127281],\"line\":{\"color\":\"blue\",\"width\":0.5},\"locationmode\":\"USA-states\",\"lon\":[-83.0007065,-74.0060152],\"mode\":\"lines\",\"type\":\"scattergeo\"},{\"hoverinfo\":\"skip\",\"lat\":[42.3315509,37.7790262],\"line\":{\"color\":\"blue\",\"width\":0.5},\"locationmode\":\"USA-states\",\"lon\":[-83.0466403,-122.419906],\"mode\":\"lines\",\"type\":\"scattergeo\"},{\"hoverinfo\":\"skip\",\"lat\":[38.6280278,41.8755616],\"line\":{\"color\":\"blue\",\"width\":0.5},\"locationmode\":\"USA-states\",\"lon\":[-90.1910154,-87.6244212],\"mode\":\"lines\",\"type\":\"scattergeo\"},{\"hoverinfo\":\"skip\",\"lat\":[29.7589382,34.0536909],\"line\":{\"color\":\"blue\",\"width\":0.5},\"locationmode\":\"USA-states\",\"lon\":[-95.3676974,-118.242766],\"mode\":\"lines\",\"type\":\"scattergeo\"},{\"hoverinfo\":\"skip\",\"lat\":[39.100105,32.731316],\"line\":{\"color\":\"blue\",\"width\":0.5},\"locationmode\":\"USA-states\",\"lon\":[-94.5781416,-97.499982],\"mode\":\"lines\",\"type\":\"scattergeo\"},{\"hoverinfo\":\"skip\",\"lat\":[42.3554334,27.9477595],\"line\":{\"color\":\"blue\",\"width\":0.5},\"locationmode\":\"USA-states\",\"lon\":[-71.060511,-82.458444],\"mode\":\"lines\",\"type\":\"scattergeo\"},{\"hoverinfo\":\"skip\",\"lat\":[32.7174202,41.5910323],\"line\":{\"color\":\"blue\",\"width\":0.5},\"locationmode\":\"USA-states\",\"lon\":[-117.1627728,-93.6046655],\"mode\":\"lines\",\"type\":\"scattergeo\"},{\"hoverinfo\":\"skip\",\"lat\":[39.7683331,26.640628],\"line\":{\"color\":\"blue\",\"width\":0.5},\"locationmode\":\"USA-states\",\"lon\":[-86.1583502,-81.8723084],\"mode\":\"lines\",\"type\":\"scattergeo\"},{\"hoverinfo\":\"skip\",\"lat\":[33.4484367,37.7790262],\"line\":{\"color\":\"blue\",\"width\":0.5},\"locationmode\":\"USA-states\",\"lon\":[-112.074141,-122.419906],\"mode\":\"lines\",\"type\":\"scattergeo\"},{\"hoverinfo\":\"skip\",\"lat\":[34.4221319,37.8044557],\"line\":{\"color\":\"blue\",\"width\":0.5},\"locationmode\":\"USA-states\",\"lon\":[-119.702667,-122.271356],\"mode\":\"lines\",\"type\":\"scattergeo\"},{\"hoverinfo\":\"skip\",\"lat\":[37.8044557,50.000678],\"line\":{\"color\":\"blue\",\"width\":0.5},\"locationmode\":\"USA-states\",\"lon\":[-122.271356,-86.000977],\"mode\":\"lines\",\"type\":\"scattergeo\"},{\"hoverinfo\":\"skip\",\"lat\":[39.7392364,42.9632425],\"line\":{\"color\":\"blue\",\"width\":0.5},\"locationmode\":\"USA-states\",\"lon\":[-104.984862,-85.6678639],\"mode\":\"lines\",\"type\":\"scattergeo\"},{\"hoverinfo\":\"skip\",\"lat\":[26.1223084,40.7127281],\"line\":{\"color\":\"blue\",\"width\":0.5},\"locationmode\":\"USA-states\",\"lon\":[-80.1433786,-74.0060152],\"mode\":\"lines\",\"type\":\"scattergeo\"},{\"hoverinfo\":\"skip\",\"lat\":[39.9527237,37.7790262],\"line\":{\"color\":\"blue\",\"width\":0.5},\"locationmode\":\"USA-states\",\"lon\":[-75.1635262,-122.419906],\"mode\":\"lines\",\"type\":\"scattergeo\"},{\"hoverinfo\":\"skip\",\"lat\":[32.2228765,33.4484367],\"line\":{\"color\":\"blue\",\"width\":0.5},\"locationmode\":\"USA-states\",\"lon\":[-110.974847,-112.074141],\"mode\":\"lines\",\"type\":\"scattergeo\"},{\"hoverinfo\":\"skip\",\"lat\":[35.4729886,41.8755616],\"line\":{\"color\":\"blue\",\"width\":0.5},\"locationmode\":\"USA-states\",\"lon\":[-97.5170536,-87.6244212],\"mode\":\"lines\",\"type\":\"scattergeo\"},{\"hoverinfo\":\"skip\",\"lat\":[32.731316,39.7589478],\"line\":{\"color\":\"blue\",\"width\":0.5},\"locationmode\":\"USA-states\",\"lon\":[-97.499982,-84.1916069],\"mode\":\"lines\",\"type\":\"scattergeo\"},{\"hoverinfo\":\"skip\",\"lat\":[35.0841034,37.7790262],\"line\":{\"color\":\"blue\",\"width\":0.5},\"locationmode\":\"USA-states\",\"lon\":[-106.650985,-122.419906],\"mode\":\"lines\",\"type\":\"scattergeo\"},{\"hoverinfo\":\"skip\",\"lat\":[39.7459468,33.7489924],\"line\":{\"color\":\"blue\",\"width\":0.5},\"locationmode\":\"USA-states\",\"lon\":[-75.546589,-84.3902644],\"mode\":\"lines\",\"type\":\"scattergeo\"},{\"hoverinfo\":\"skip\",\"lat\":[41.5910323,40.7127281],\"line\":{\"color\":\"blue\",\"width\":0.5},\"locationmode\":\"USA-states\",\"lon\":[-93.6046655,-74.0060152],\"mode\":\"lines\",\"type\":\"scattergeo\"},{\"hoverinfo\":\"skip\",\"lat\":[39.7392364,33.7489924],\"line\":{\"color\":\"blue\",\"width\":0.5},\"locationmode\":\"USA-states\",\"lon\":[-104.984862,-84.3902644],\"mode\":\"lines\",\"type\":\"scattergeo\"},{\"hoverinfo\":\"skip\",\"lat\":[39.9527237,41.8755616],\"line\":{\"color\":\"blue\",\"width\":0.5},\"locationmode\":\"USA-states\",\"lon\":[-75.1635262,-87.6244212],\"mode\":\"lines\",\"type\":\"scattergeo\"},{\"hoverinfo\":\"skip\",\"lat\":[38.8950368,40.735657],\"line\":{\"color\":\"blue\",\"width\":0.5},\"locationmode\":\"USA-states\",\"lon\":[-77.0365427,-74.1723667],\"mode\":\"lines\",\"type\":\"scattergeo\"},{\"hoverinfo\":\"skip\",\"lat\":[38.8950368,39.1014537],\"line\":{\"color\":\"blue\",\"width\":0.5},\"locationmode\":\"USA-states\",\"lon\":[-77.0365427,-84.5124602],\"mode\":\"lines\",\"type\":\"scattergeo\"},{\"hoverinfo\":\"skip\",\"lat\":[42.6511674,28.5421109],\"line\":{\"color\":\"blue\",\"width\":0.5},\"locationmode\":\"USA-states\",\"lon\":[-73.754968,-81.3790304],\"mode\":\"lines\",\"type\":\"scattergeo\"},{\"hoverinfo\":\"skip\",\"lat\":[41.8755616,43.074761],\"line\":{\"color\":\"blue\",\"width\":0.5},\"locationmode\":\"USA-states\",\"lon\":[-87.6244212,-89.3837613],\"mode\":\"lines\",\"type\":\"scattergeo\"},{\"hoverinfo\":\"skip\",\"lat\":[39.9622601,44.9772995],\"line\":{\"color\":\"blue\",\"width\":0.5},\"locationmode\":\"USA-states\",\"lon\":[-83.0007065,-93.2654692],\"mode\":\"lines\",\"type\":\"scattergeo\"},{\"hoverinfo\":\"skip\",\"lat\":[39.7392364,35.2072185],\"line\":{\"color\":\"blue\",\"width\":0.5},\"locationmode\":\"USA-states\",\"lon\":[-104.984862,-101.833824],\"mode\":\"lines\",\"type\":\"scattergeo\"},{\"hoverinfo\":\"skip\",\"lat\":[33.7494951,39.7392364],\"line\":{\"color\":\"blue\",\"width\":0.5},\"locationmode\":\"USA-states\",\"lon\":[-117.8732213,-104.984862],\"mode\":\"lines\",\"type\":\"scattergeo\"},{\"hoverinfo\":\"skip\",\"lat\":[39.7459468,40.735657],\"line\":{\"color\":\"blue\",\"width\":0.5},\"locationmode\":\"USA-states\",\"lon\":[-75.546589,-74.1723667],\"mode\":\"lines\",\"type\":\"scattergeo\"},{\"hoverinfo\":\"skip\",\"lat\":[40.7127281,41.4996574],\"line\":{\"color\":\"blue\",\"width\":0.5},\"locationmode\":\"USA-states\",\"lon\":[-74.0060152,-81.6936772],\"mode\":\"lines\",\"type\":\"scattergeo\"},{\"hoverinfo\":\"skip\",\"lat\":[30.2711286,36.1672559],\"line\":{\"color\":\"blue\",\"width\":0.5},\"locationmode\":\"USA-states\",\"lon\":[-97.7436995,-115.148516],\"mode\":\"lines\",\"type\":\"scattergeo\"},{\"hoverinfo\":\"skip\",\"lat\":[47.6038321,43.6166163],\"line\":{\"color\":\"blue\",\"width\":0.5},\"locationmode\":\"USA-states\",\"lon\":[-122.330062,-116.200886],\"mode\":\"lines\",\"type\":\"scattergeo\"},{\"hoverinfo\":\"skip\",\"lat\":[46.1742404,47.6038321],\"line\":{\"color\":\"blue\",\"width\":0.5},\"locationmode\":\"USA-states\",\"lon\":[-119.0693344,-122.330062],\"mode\":\"lines\",\"type\":\"scattergeo\"},{\"hoverinfo\":\"skip\",\"lat\":[41.764582,35.2272086],\"line\":{\"color\":\"blue\",\"width\":0.5},\"locationmode\":\"USA-states\",\"lon\":[-72.6908547,-80.8430827],\"mode\":\"lines\",\"type\":\"scattergeo\"},{\"hoverinfo\":\"skip\",\"lat\":[41.8755616,44.5126379],\"line\":{\"color\":\"blue\",\"width\":0.5},\"locationmode\":\"USA-states\",\"lon\":[-87.6244212,-88.0125794],\"mode\":\"lines\",\"type\":\"scattergeo\"},{\"hoverinfo\":\"skip\",\"lat\":[42.3315509,38.2542376],\"line\":{\"color\":\"blue\",\"width\":0.5},\"locationmode\":\"USA-states\",\"lon\":[-83.0466403,-85.759407],\"mode\":\"lines\",\"type\":\"scattergeo\"},{\"hoverinfo\":\"skip\",\"lat\":[38.6280278,37.6892095],\"line\":{\"color\":\"blue\",\"width\":0.5},\"locationmode\":\"USA-states\",\"lon\":[-90.1910154,-81.2812858],\"mode\":\"lines\",\"type\":\"scattergeo\"},{\"hoverinfo\":\"skip\",\"lat\":[25.7741728,39.7683331],\"line\":{\"color\":\"blue\",\"width\":0.5},\"locationmode\":\"USA-states\",\"lon\":[-80.19362,-86.1583502],\"mode\":\"lines\",\"type\":\"scattergeo\"},{\"hoverinfo\":\"skip\",\"lat\":[25.7741728,40.7127281],\"line\":{\"color\":\"blue\",\"width\":0.5},\"locationmode\":\"USA-states\",\"lon\":[-80.19362,-74.0060152],\"mode\":\"lines\",\"type\":\"scattergeo\"},{\"hoverinfo\":\"skip\",\"lat\":[47.6038321,28.5421109],\"line\":{\"color\":\"blue\",\"width\":0.5},\"locationmode\":\"USA-states\",\"lon\":[-122.330062,-81.3790304],\"mode\":\"lines\",\"type\":\"scattergeo\"},{\"hoverinfo\":\"skip\",\"lat\":[40.7596198,32.2998686],\"line\":{\"color\":\"blue\",\"width\":0.5},\"locationmode\":\"USA-states\",\"lon\":[-111.886797,-90.1830408],\"mode\":\"lines\",\"type\":\"scattergeo\"},{\"hoverinfo\":\"skip\",\"lat\":[43.0349931,40.7127281],\"line\":{\"color\":\"blue\",\"width\":0.5},\"locationmode\":\"USA-states\",\"lon\":[-87.922497,-74.0060152],\"mode\":\"lines\",\"type\":\"scattergeo\"},{\"hoverinfo\":\"skip\",\"lat\":[37.5385087,39.9527237],\"line\":{\"color\":\"blue\",\"width\":0.5},\"locationmode\":\"USA-states\",\"lon\":[-77.43428,-75.1635262],\"mode\":\"lines\",\"type\":\"scattergeo\"},{\"hoverinfo\":\"skip\",\"lat\":[41.8755616,26.1223084],\"line\":{\"color\":\"blue\",\"width\":0.5},\"locationmode\":\"USA-states\",\"lon\":[-87.6244212,-80.1433786],\"mode\":\"lines\",\"type\":\"scattergeo\"},{\"hoverinfo\":\"skip\",\"lat\":[35.2272086,30.1586518],\"line\":{\"color\":\"blue\",\"width\":0.5},\"locationmode\":\"USA-states\",\"lon\":[-80.8430827,-85.6602936],\"mode\":\"lines\",\"type\":\"scattergeo\"},{\"hoverinfo\":\"skip\",\"lat\":[33.7489924,37.7790262],\"line\":{\"color\":\"blue\",\"width\":0.5},\"locationmode\":\"USA-states\",\"lon\":[-84.3902644,-122.419906],\"mode\":\"lines\",\"type\":\"scattergeo\"},{\"hoverinfo\":\"skip\",\"lat\":[40.7127281,33.7489924],\"line\":{\"color\":\"blue\",\"width\":0.5},\"locationmode\":\"USA-states\",\"lon\":[-74.0060152,-84.3902644],\"mode\":\"lines\",\"type\":\"scattergeo\"},{\"hoverinfo\":\"skip\",\"lat\":[42.3554334,40.7127281],\"line\":{\"color\":\"blue\",\"width\":0.5},\"locationmode\":\"USA-states\",\"lon\":[-71.060511,-74.0060152],\"mode\":\"lines\",\"type\":\"scattergeo\"},{\"hoverinfo\":\"skip\",\"lat\":[33.4709714,35.2272086],\"line\":{\"color\":\"blue\",\"width\":0.5},\"locationmode\":\"USA-states\",\"lon\":[-81.9748429,-80.8430827],\"mode\":\"lines\",\"type\":\"scattergeo\"},{\"hoverinfo\":\"skip\",\"lat\":[43.157285,40.7127281],\"line\":{\"color\":\"blue\",\"width\":0.5},\"locationmode\":\"USA-states\",\"lon\":[-77.615214,-74.0060152],\"mode\":\"lines\",\"type\":\"scattergeo\"},{\"hoverinfo\":\"skip\",\"lat\":[38.8339578,39.7392364],\"line\":{\"color\":\"blue\",\"width\":0.5},\"locationmode\":\"USA-states\",\"lon\":[-104.825348,-104.984862],\"mode\":\"lines\",\"type\":\"scattergeo\"},{\"hoverinfo\":\"skip\",\"lat\":[26.1223084,34.0536909],\"line\":{\"color\":\"blue\",\"width\":0.5},\"locationmode\":\"USA-states\",\"lon\":[-80.1433786,-118.242766],\"mode\":\"lines\",\"type\":\"scattergeo\"},{\"hoverinfo\":\"skip\",\"lat\":[25.9015688,29.7589382],\"line\":{\"color\":\"blue\",\"width\":0.5},\"locationmode\":\"USA-states\",\"lon\":[-97.4984005,-95.3676974],\"mode\":\"lines\",\"type\":\"scattergeo\"},{\"hoverinfo\":\"skip\",\"lat\":[42.3315509,41.8755616],\"line\":{\"color\":\"blue\",\"width\":0.5},\"locationmode\":\"USA-states\",\"lon\":[-83.0466403,-87.6244212],\"mode\":\"lines\",\"type\":\"scattergeo\"},{\"hoverinfo\":\"skip\",\"lat\":[32.7174202,36.7295295],\"line\":{\"color\":\"blue\",\"width\":0.5},\"locationmode\":\"USA-states\",\"lon\":[-117.1627728,-119.70886126075588],\"mode\":\"lines\",\"type\":\"scattergeo\"},{\"hoverinfo\":\"skip\",\"lat\":[38.8950368,34.0536909],\"line\":{\"color\":\"blue\",\"width\":0.5},\"locationmode\":\"USA-states\",\"lon\":[-77.0365427,-118.242766],\"mode\":\"lines\",\"type\":\"scattergeo\"},{\"hoverinfo\":\"skip\",\"lat\":[33.7489924,29.9759983],\"line\":{\"color\":\"blue\",\"width\":0.5},\"locationmode\":\"USA-states\",\"lon\":[-84.3902644,-90.0782127],\"mode\":\"lines\",\"type\":\"scattergeo\"},{\"hoverinfo\":\"skip\",\"lat\":[32.7762719,42.3315509],\"line\":{\"color\":\"blue\",\"width\":0.5},\"locationmode\":\"USA-states\",\"lon\":[-96.7968559,-83.0466403],\"mode\":\"lines\",\"type\":\"scattergeo\"},{\"hoverinfo\":\"skip\",\"lat\":[28.5421109,40.7596198],\"line\":{\"color\":\"blue\",\"width\":0.5},\"locationmode\":\"USA-states\",\"lon\":[-81.3790304,-111.886797],\"mode\":\"lines\",\"type\":\"scattergeo\"},{\"hoverinfo\":\"skip\",\"lat\":[32.7174202,37.3361663],\"line\":{\"color\":\"blue\",\"width\":0.5},\"locationmode\":\"USA-states\",\"lon\":[-117.1627728,-121.890591],\"mode\":\"lines\",\"type\":\"scattergeo\"},{\"hoverinfo\":\"skip\",\"lat\":[26.9297836,43.0161693],\"line\":{\"color\":\"blue\",\"width\":0.5},\"locationmode\":\"USA-states\",\"lon\":[-82.0453664,-83.6900211],\"mode\":\"lines\",\"type\":\"scattergeo\"},{\"hoverinfo\":\"skip\",\"lat\":[41.8755616,38.8950368],\"line\":{\"color\":\"blue\",\"width\":0.5},\"locationmode\":\"USA-states\",\"lon\":[-87.6244212,-77.0365427],\"mode\":\"lines\",\"type\":\"scattergeo\"},{\"hoverinfo\":\"skip\",\"lat\":[44.9772995,39.9527237],\"line\":{\"color\":\"blue\",\"width\":0.5},\"locationmode\":\"USA-states\",\"lon\":[-93.2654692,-75.1635262],\"mode\":\"lines\",\"type\":\"scattergeo\"},{\"hoverinfo\":\"skip\",\"lat\":[45.5202471,37.3361663],\"line\":{\"color\":\"blue\",\"width\":0.5},\"locationmode\":\"USA-states\",\"lon\":[-122.674194,-121.890591],\"mode\":\"lines\",\"type\":\"scattergeo\"},{\"hoverinfo\":\"skip\",\"lat\":[30.2711286,41.8755616],\"line\":{\"color\":\"blue\",\"width\":0.5},\"locationmode\":\"USA-states\",\"lon\":[-97.7436995,-87.6244212],\"mode\":\"lines\",\"type\":\"scattergeo\"},{\"hoverinfo\":\"skip\",\"lat\":[39.1014537,39.9527237],\"line\":{\"color\":\"blue\",\"width\":0.5},\"locationmode\":\"USA-states\",\"lon\":[-84.5124602,-75.1635262],\"mode\":\"lines\",\"type\":\"scattergeo\"},{\"hoverinfo\":\"skip\",\"lat\":[34.9326334,40.735657],\"line\":{\"color\":\"blue\",\"width\":0.5},\"locationmode\":\"USA-states\",\"lon\":[-99.5435856,-74.1723667],\"mode\":\"lines\",\"type\":\"scattergeo\"},{\"hoverinfo\":\"skip\",\"lat\":[27.9477595,33.7489924],\"line\":{\"color\":\"blue\",\"width\":0.5},\"locationmode\":\"USA-states\",\"lon\":[-82.458444,-84.3902644],\"mode\":\"lines\",\"type\":\"scattergeo\"},{\"hoverinfo\":\"skip\",\"lat\":[42.3554334,37.7790262],\"line\":{\"color\":\"blue\",\"width\":0.5},\"locationmode\":\"USA-states\",\"lon\":[-71.060511,-122.419906],\"mode\":\"lines\",\"type\":\"scattergeo\"},{\"hoverinfo\":\"skip\",\"lat\":[25.7741728,36.1672559],\"line\":{\"color\":\"blue\",\"width\":0.5},\"locationmode\":\"USA-states\",\"lon\":[-80.19362,-115.148516],\"mode\":\"lines\",\"type\":\"scattergeo\"},{\"hoverinfo\":\"skip\",\"lat\":[32.731316,42.3315509],\"line\":{\"color\":\"blue\",\"width\":0.5},\"locationmode\":\"USA-states\",\"lon\":[-97.499982,-83.0466403],\"mode\":\"lines\",\"type\":\"scattergeo\"},{\"hoverinfo\":\"skip\",\"lat\":[41.5910323,40.7127281],\"line\":{\"color\":\"blue\",\"width\":0.5},\"locationmode\":\"USA-states\",\"lon\":[-93.6046655,-74.0060152],\"mode\":\"lines\",\"type\":\"scattergeo\"},{\"hoverinfo\":\"skip\",\"lat\":[39.9622601,41.8755616],\"line\":{\"color\":\"blue\",\"width\":0.5},\"locationmode\":\"USA-states\",\"lon\":[-83.0007065,-87.6244212],\"mode\":\"lines\",\"type\":\"scattergeo\"},{\"hoverinfo\":\"skip\",\"lat\":[41.2587459,39.7392364],\"line\":{\"color\":\"blue\",\"width\":0.5},\"locationmode\":\"USA-states\",\"lon\":[-95.9383758,-104.984862],\"mode\":\"lines\",\"type\":\"scattergeo\"},{\"hoverinfo\":\"skip\",\"lat\":[41.8755616,39.9622601],\"line\":{\"color\":\"blue\",\"width\":0.5},\"locationmode\":\"USA-states\",\"lon\":[-87.6244212,-83.0007065],\"mode\":\"lines\",\"type\":\"scattergeo\"},{\"hoverinfo\":\"skip\",\"lat\":[45.5202471,30.2711286],\"line\":{\"color\":\"blue\",\"width\":0.5},\"locationmode\":\"USA-states\",\"lon\":[-122.674194,-97.7436995],\"mode\":\"lines\",\"type\":\"scattergeo\"},{\"hoverinfo\":\"skip\",\"lat\":[42.3554334,33.7489924],\"line\":{\"color\":\"blue\",\"width\":0.5},\"locationmode\":\"USA-states\",\"lon\":[-71.060511,-84.3902644],\"mode\":\"lines\",\"type\":\"scattergeo\"},{\"hoverinfo\":\"skip\",\"lat\":[36.1672559,33.4484367],\"line\":{\"color\":\"blue\",\"width\":0.5},\"locationmode\":\"USA-states\",\"lon\":[-115.148516,-112.074141],\"mode\":\"lines\",\"type\":\"scattergeo\"},{\"hoverinfo\":\"skip\",\"lat\":[28.5421109,34.0536909],\"line\":{\"color\":\"blue\",\"width\":0.5},\"locationmode\":\"USA-states\",\"lon\":[-81.3790304,-118.242766],\"mode\":\"lines\",\"type\":\"scattergeo\"},{\"hoverinfo\":\"skip\",\"lat\":[33.7489924,39.2908816],\"line\":{\"color\":\"blue\",\"width\":0.5},\"locationmode\":\"USA-states\",\"lon\":[-84.3902644,-76.610759],\"mode\":\"lines\",\"type\":\"scattergeo\"},{\"hoverinfo\":\"skip\",\"lat\":[47.6038321,37.7790262],\"line\":{\"color\":\"blue\",\"width\":0.5},\"locationmode\":\"USA-states\",\"lon\":[-122.330062,-122.419906],\"mode\":\"lines\",\"type\":\"scattergeo\"},{\"hoverinfo\":\"skip\",\"lat\":[37.7790262,44.9772995],\"line\":{\"color\":\"blue\",\"width\":0.5},\"locationmode\":\"USA-states\",\"lon\":[-122.419906,-93.2654692],\"mode\":\"lines\",\"type\":\"scattergeo\"},{\"hoverinfo\":\"skip\",\"lat\":[40.735657,26.715364],\"line\":{\"color\":\"blue\",\"width\":0.5},\"locationmode\":\"USA-states\",\"lon\":[-74.1723667,-80.0532942],\"mode\":\"lines\",\"type\":\"scattergeo\"},{\"hoverinfo\":\"skip\",\"lat\":[38.8950368,40.7127281],\"line\":{\"color\":\"blue\",\"width\":0.5},\"locationmode\":\"USA-states\",\"lon\":[-77.0365427,-74.0060152],\"mode\":\"lines\",\"type\":\"scattergeo\"},{\"hoverinfo\":\"skip\",\"lat\":[44.9772995,39.9527237],\"line\":{\"color\":\"blue\",\"width\":0.5},\"locationmode\":\"USA-states\",\"lon\":[-93.2654692,-75.1635262],\"mode\":\"lines\",\"type\":\"scattergeo\"},{\"hoverinfo\":\"skip\",\"lat\":[32.7762719,39.7683331],\"line\":{\"color\":\"blue\",\"width\":0.5},\"locationmode\":\"USA-states\",\"lon\":[-96.7968559,-86.1583502],\"mode\":\"lines\",\"type\":\"scattergeo\"},{\"hoverinfo\":\"skip\",\"lat\":[37.7790262,40.7596198],\"line\":{\"color\":\"blue\",\"width\":0.5},\"locationmode\":\"USA-states\",\"lon\":[-122.419906,-111.886797],\"mode\":\"lines\",\"type\":\"scattergeo\"},{\"hoverinfo\":\"skip\",\"lat\":[34.0536909,41.8755616],\"line\":{\"color\":\"blue\",\"width\":0.5},\"locationmode\":\"USA-states\",\"lon\":[-118.242766,-87.6244212],\"mode\":\"lines\",\"type\":\"scattergeo\"},{\"hoverinfo\":\"skip\",\"lat\":[28.5421109,40.317287],\"line\":{\"color\":\"blue\",\"width\":0.5},\"locationmode\":\"USA-states\",\"lon\":[-81.3790304,-79.3840301],\"mode\":\"lines\",\"type\":\"scattergeo\"},{\"hoverinfo\":\"skip\",\"lat\":[28.5421109,39.1014537],\"line\":{\"color\":\"blue\",\"width\":0.5},\"locationmode\":\"USA-states\",\"lon\":[-81.3790304,-84.5124602],\"mode\":\"lines\",\"type\":\"scattergeo\"},{\"hoverinfo\":\"skip\",\"lat\":[27.9477595,26.1223084],\"line\":{\"color\":\"blue\",\"width\":0.5},\"locationmode\":\"USA-states\",\"lon\":[-82.458444,-80.1433786],\"mode\":\"lines\",\"type\":\"scattergeo\"},{\"hoverinfo\":\"skip\",\"lat\":[39.7459468,39.9527237],\"line\":{\"color\":\"blue\",\"width\":0.5},\"locationmode\":\"USA-states\",\"lon\":[-75.546589,-75.1635262],\"mode\":\"lines\",\"type\":\"scattergeo\"},{\"hoverinfo\":\"skip\",\"lat\":[41.8755616,27.9477595],\"line\":{\"color\":\"blue\",\"width\":0.5},\"locationmode\":\"USA-states\",\"lon\":[-87.6244212,-82.458444],\"mode\":\"lines\",\"type\":\"scattergeo\"},{\"hoverinfo\":\"skip\",\"lat\":[33.7489924,29.7589382],\"line\":{\"color\":\"blue\",\"width\":0.5},\"locationmode\":\"USA-states\",\"lon\":[-84.3902644,-95.3676974],\"mode\":\"lines\",\"type\":\"scattergeo\"},{\"hoverinfo\":\"skip\",\"lat\":[40.735657,27.9477595],\"line\":{\"color\":\"blue\",\"width\":0.5},\"locationmode\":\"USA-states\",\"lon\":[-74.1723667,-82.458444],\"mode\":\"lines\",\"type\":\"scattergeo\"},{\"hoverinfo\":\"skip\",\"lat\":[46.8060593,36.1672559],\"line\":{\"color\":\"blue\",\"width\":0.5},\"locationmode\":\"USA-states\",\"lon\":[-100.8267395,-115.148516],\"mode\":\"lines\",\"type\":\"scattergeo\"},{\"hoverinfo\":\"skip\",\"lat\":[41.8755616,40.6938609],\"line\":{\"color\":\"blue\",\"width\":0.5},\"locationmode\":\"USA-states\",\"lon\":[-87.6244212,-89.5891008],\"mode\":\"lines\",\"type\":\"scattergeo\"},{\"hoverinfo\":\"skip\",\"lat\":[38.5810606,33.4484367],\"line\":{\"color\":\"blue\",\"width\":0.5},\"locationmode\":\"USA-states\",\"lon\":[-121.493895,-112.074141],\"mode\":\"lines\",\"type\":\"scattergeo\"},{\"hoverinfo\":\"skip\",\"lat\":[45.5202471,42.3315509],\"line\":{\"color\":\"blue\",\"width\":0.5},\"locationmode\":\"USA-states\",\"lon\":[-122.674194,-83.0466403],\"mode\":\"lines\",\"type\":\"scattergeo\"},{\"hoverinfo\":\"skip\",\"lat\":[35.3540209,37.7790262],\"line\":{\"color\":\"blue\",\"width\":0.5},\"locationmode\":\"USA-states\",\"lon\":[-120.375716,-122.419906],\"mode\":\"lines\",\"type\":\"scattergeo\"},{\"hoverinfo\":\"skip\",\"lat\":[33.7489924,37.7790262],\"line\":{\"color\":\"blue\",\"width\":0.5},\"locationmode\":\"USA-states\",\"lon\":[-84.3902644,-122.419906],\"mode\":\"lines\",\"type\":\"scattergeo\"},{\"hoverinfo\":\"skip\",\"lat\":[35.2272086,38.0464066],\"line\":{\"color\":\"blue\",\"width\":0.5},\"locationmode\":\"USA-states\",\"lon\":[-80.8430827,-84.4970393],\"mode\":\"lines\",\"type\":\"scattergeo\"},{\"hoverinfo\":\"skip\",\"lat\":[34.1812089,37.3361663],\"line\":{\"color\":\"blue\",\"width\":0.5},\"locationmode\":\"USA-states\",\"lon\":[-118.307201,-121.890591],\"mode\":\"lines\",\"type\":\"scattergeo\"},{\"hoverinfo\":\"skip\",\"lat\":[35.2272086,39.7392364],\"line\":{\"color\":\"blue\",\"width\":0.5},\"locationmode\":\"USA-states\",\"lon\":[-80.8430827,-104.984862],\"mode\":\"lines\",\"type\":\"scattergeo\"},{\"hoverinfo\":\"skip\",\"lat\":[38.8950368,28.5421109],\"line\":{\"color\":\"blue\",\"width\":0.5},\"locationmode\":\"USA-states\",\"lon\":[-77.0365427,-81.3790304],\"mode\":\"lines\",\"type\":\"scattergeo\"},{\"hoverinfo\":\"skip\",\"lat\":[35.2272086,30.2711286],\"line\":{\"color\":\"blue\",\"width\":0.5},\"locationmode\":\"USA-states\",\"lon\":[-80.8430827,-97.7436995],\"mode\":\"lines\",\"type\":\"scattergeo\"},{\"hoverinfo\":\"skip\",\"lat\":[47.6571934,47.6038321],\"line\":{\"color\":\"blue\",\"width\":0.5},\"locationmode\":\"USA-states\",\"lon\":[-117.42351,-122.330062],\"mode\":\"lines\",\"type\":\"scattergeo\"},{\"hoverinfo\":\"skip\",\"lat\":[39.7392364,32.7174202],\"line\":{\"color\":\"blue\",\"width\":0.5},\"locationmode\":\"USA-states\",\"lon\":[-104.984862,-117.1627728],\"mode\":\"lines\",\"type\":\"scattergeo\"},{\"hoverinfo\":\"skip\",\"lat\":[37.3361663,50.000678],\"line\":{\"color\":\"blue\",\"width\":0.5},\"locationmode\":\"USA-states\",\"lon\":[-121.890591,-86.000977],\"mode\":\"lines\",\"type\":\"scattergeo\"},{\"hoverinfo\":\"skip\",\"lat\":[26.1223084,40.7127281],\"line\":{\"color\":\"blue\",\"width\":0.5},\"locationmode\":\"USA-states\",\"lon\":[-80.1433786,-74.0060152],\"mode\":\"lines\",\"type\":\"scattergeo\"},{\"hoverinfo\":\"skip\",\"lat\":[36.1672559,39.9527237],\"line\":{\"color\":\"blue\",\"width\":0.5},\"locationmode\":\"USA-states\",\"lon\":[-115.148516,-75.1635262],\"mode\":\"lines\",\"type\":\"scattergeo\"},{\"hoverinfo\":\"skip\",\"lat\":[34.0536909,27.9477595],\"line\":{\"color\":\"blue\",\"width\":0.5},\"locationmode\":\"USA-states\",\"lon\":[-118.242766,-82.458444],\"mode\":\"lines\",\"type\":\"scattergeo\"},{\"hoverinfo\":\"skip\",\"lat\":[32.2998686,39.7392364],\"line\":{\"color\":\"blue\",\"width\":0.5},\"locationmode\":\"USA-states\",\"lon\":[-90.1830408,-104.984862],\"mode\":\"lines\",\"type\":\"scattergeo\"},{\"hoverinfo\":\"skip\",\"lat\":[35.2272086,36.0625843],\"line\":{\"color\":\"blue\",\"width\":0.5},\"locationmode\":\"USA-states\",\"lon\":[-80.8430827,-94.1574328],\"mode\":\"lines\",\"type\":\"scattergeo\"},{\"hoverinfo\":\"skip\",\"lat\":[40.4416941,42.3315509],\"line\":{\"color\":\"blue\",\"width\":0.5},\"locationmode\":\"USA-states\",\"lon\":[-79.9900861,-83.0466403],\"mode\":\"lines\",\"type\":\"scattergeo\"},{\"hoverinfo\":\"skip\",\"lat\":[44.9772995,48.202158],\"line\":{\"color\":\"blue\",\"width\":0.5},\"locationmode\":\"USA-states\",\"lon\":[-93.2654692,-114.315321],\"mode\":\"lines\",\"type\":\"scattergeo\"},{\"hoverinfo\":\"skip\",\"lat\":[39.2908816,26.1223084],\"line\":{\"color\":\"blue\",\"width\":0.5},\"locationmode\":\"USA-states\",\"lon\":[-76.610759,-80.1433786],\"mode\":\"lines\",\"type\":\"scattergeo\"},{\"hoverinfo\":\"skip\",\"lat\":[40.7127281,30.2711286],\"line\":{\"color\":\"blue\",\"width\":0.5},\"locationmode\":\"USA-states\",\"lon\":[-74.0060152,-97.7436995],\"mode\":\"lines\",\"type\":\"scattergeo\"},{\"hoverinfo\":\"skip\",\"lat\":[46.877229,41.8755616],\"line\":{\"color\":\"blue\",\"width\":0.5},\"locationmode\":\"USA-states\",\"lon\":[-96.789821,-87.6244212],\"mode\":\"lines\",\"type\":\"scattergeo\"},{\"hoverinfo\":\"skip\",\"lat\":[32.7762719,41.2587459],\"line\":{\"color\":\"blue\",\"width\":0.5},\"locationmode\":\"USA-states\",\"lon\":[-96.7968559,-95.9383758],\"mode\":\"lines\",\"type\":\"scattergeo\"},{\"hoverinfo\":\"skip\",\"lat\":[33.7489924,29.7589382],\"line\":{\"color\":\"blue\",\"width\":0.5},\"locationmode\":\"USA-states\",\"lon\":[-84.3902644,-95.3676974],\"mode\":\"lines\",\"type\":\"scattergeo\"},{\"hoverinfo\":\"skip\",\"lat\":[38.8950368,32.7762719],\"line\":{\"color\":\"blue\",\"width\":0.5},\"locationmode\":\"USA-states\",\"lon\":[-77.0365427,-96.7968559],\"mode\":\"lines\",\"type\":\"scattergeo\"},{\"hoverinfo\":\"skip\",\"lat\":[32.7884363,39.9527237],\"line\":{\"color\":\"blue\",\"width\":0.5},\"locationmode\":\"USA-states\",\"lon\":[-79.9399309,-75.1635262],\"mode\":\"lines\",\"type\":\"scattergeo\"},{\"hoverinfo\":\"skip\",\"lat\":[42.9632425,36.1622767],\"line\":{\"color\":\"blue\",\"width\":0.5},\"locationmode\":\"USA-states\",\"lon\":[-85.6678639,-86.7742984],\"mode\":\"lines\",\"type\":\"scattergeo\"},{\"hoverinfo\":\"skip\",\"lat\":[31.7550511,33.7489924],\"line\":{\"color\":\"blue\",\"width\":0.5},\"locationmode\":\"USA-states\",\"lon\":[-106.488234,-84.3902644],\"mode\":\"lines\",\"type\":\"scattergeo\"},{\"hoverinfo\":\"skip\",\"lat\":[32.731316,30.2711286],\"line\":{\"color\":\"blue\",\"width\":0.5},\"locationmode\":\"USA-states\",\"lon\":[-97.499982,-97.7436995],\"mode\":\"lines\",\"type\":\"scattergeo\"},{\"hoverinfo\":\"skip\",\"lat\":[32.731316,42.3554334],\"line\":{\"color\":\"blue\",\"width\":0.5},\"locationmode\":\"USA-states\",\"lon\":[-97.499982,-71.060511],\"mode\":\"lines\",\"type\":\"scattergeo\"},{\"hoverinfo\":\"skip\",\"lat\":[42.5704456,40.7596198],\"line\":{\"color\":\"blue\",\"width\":0.5},\"locationmode\":\"USA-states\",\"lon\":[-114.4602554,-111.886797],\"mode\":\"lines\",\"type\":\"scattergeo\"},{\"hoverinfo\":\"skip\",\"lat\":[36.1622767,42.3554334],\"line\":{\"color\":\"blue\",\"width\":0.5},\"locationmode\":\"USA-states\",\"lon\":[-86.7742984,-71.060511],\"mode\":\"lines\",\"type\":\"scattergeo\"},{\"hoverinfo\":\"skip\",\"lat\":[38.6280278,36.1672559],\"line\":{\"color\":\"blue\",\"width\":0.5},\"locationmode\":\"USA-states\",\"lon\":[-90.1910154,-115.148516],\"mode\":\"lines\",\"type\":\"scattergeo\"},{\"hoverinfo\":\"skip\",\"lat\":[37.7790262,42.3554334],\"line\":{\"color\":\"blue\",\"width\":0.5},\"locationmode\":\"USA-states\",\"lon\":[-122.419906,-71.060511],\"mode\":\"lines\",\"type\":\"scattergeo\"},{\"hoverinfo\":\"skip\",\"lat\":[37.5385087,25.7741728],\"line\":{\"color\":\"blue\",\"width\":0.5},\"locationmode\":\"USA-states\",\"lon\":[-77.43428,-80.19362],\"mode\":\"lines\",\"type\":\"scattergeo\"},{\"hoverinfo\":\"skip\",\"lat\":[33.7489924,29.7589382],\"line\":{\"color\":\"blue\",\"width\":0.5},\"locationmode\":\"USA-states\",\"lon\":[-84.3902644,-95.3676974],\"mode\":\"lines\",\"type\":\"scattergeo\"},{\"hoverinfo\":\"skip\",\"lat\":[25.7741728,29.7589382],\"line\":{\"color\":\"blue\",\"width\":0.5},\"locationmode\":\"USA-states\",\"lon\":[-80.19362,-95.3676974],\"mode\":\"lines\",\"type\":\"scattergeo\"},{\"hoverinfo\":\"skip\",\"lat\":[32.7762719,34.7465071],\"line\":{\"color\":\"blue\",\"width\":0.5},\"locationmode\":\"USA-states\",\"lon\":[-96.7968559,-92.2896267],\"mode\":\"lines\",\"type\":\"scattergeo\"},{\"hoverinfo\":\"skip\",\"lat\":[39.2908816,42.3554334],\"line\":{\"color\":\"blue\",\"width\":0.5},\"locationmode\":\"USA-states\",\"lon\":[-76.610759,-71.060511],\"mode\":\"lines\",\"type\":\"scattergeo\"},{\"hoverinfo\":\"skip\",\"lat\":[41.8755616,42.4966815],\"line\":{\"color\":\"blue\",\"width\":0.5},\"locationmode\":\"USA-states\",\"lon\":[-87.6244212,-96.4058782],\"mode\":\"lines\",\"type\":\"scattergeo\"}],                        {\"autosize\":true,\"geo\":{\"bgcolor\":\"rgb(29, 29, 29)\",\"center\":{\"lat\":36.0,\"lon\":-100.0},\"coastlinecolor\":\"rgb(90, 90, 90)\",\"countrycolor\":\"rgb(90, 90, 90)\",\"landcolor\":\"rgb(49, 49, 49)\",\"oceancolor\":\"rgb(29, 29, 29)\",\"projection\":{\"scale\":1.8,\"type\":\"orthographic\"},\"scope\":\"north america\",\"showcoastlines\":true,\"showcountries\":true,\"showland\":true,\"showocean\":true},\"margin\":{\"b\":0,\"l\":0,\"pad\":0,\"r\":0,\"t\":0},\"paper_bgcolor\":\"rgb(29, 29, 29)\",\"plot_bgcolor\":\"rgb(29, 29, 29)\",\"showlegend\":false,\"template\":{\"data\":{\"barpolar\":[{\"marker\":{\"line\":{\"color\":\"#E5ECF6\",\"width\":0.5},\"pattern\":{\"fillmode\":\"overlay\",\"size\":10,\"solidity\":0.2}},\"type\":\"barpolar\"}],\"bar\":[{\"error_x\":{\"color\":\"#2a3f5f\"},\"error_y\":{\"color\":\"#2a3f5f\"},\"marker\":{\"line\":{\"color\":\"#E5ECF6\",\"width\":0.5},\"pattern\":{\"fillmode\":\"overlay\",\"size\":10,\"solidity\":0.2}},\"type\":\"bar\"}],\"carpet\":[{\"aaxis\":{\"endlinecolor\":\"#2a3f5f\",\"gridcolor\":\"white\",\"linecolor\":\"white\",\"minorgridcolor\":\"white\",\"startlinecolor\":\"#2a3f5f\"},\"baxis\":{\"endlinecolor\":\"#2a3f5f\",\"gridcolor\":\"white\",\"linecolor\":\"white\",\"minorgridcolor\":\"white\",\"startlinecolor\":\"#2a3f5f\"},\"type\":\"carpet\"}],\"choropleth\":[{\"colorbar\":{\"outlinewidth\":0,\"ticks\":\"\"},\"type\":\"choropleth\"}],\"contourcarpet\":[{\"colorbar\":{\"outlinewidth\":0,\"ticks\":\"\"},\"type\":\"contourcarpet\"}],\"contour\":[{\"colorbar\":{\"outlinewidth\":0,\"ticks\":\"\"},\"colorscale\":[[0.0,\"#0d0887\"],[0.1111111111111111,\"#46039f\"],[0.2222222222222222,\"#7201a8\"],[0.3333333333333333,\"#9c179e\"],[0.4444444444444444,\"#bd3786\"],[0.5555555555555556,\"#d8576b\"],[0.6666666666666666,\"#ed7953\"],[0.7777777777777778,\"#fb9f3a\"],[0.8888888888888888,\"#fdca26\"],[1.0,\"#f0f921\"]],\"type\":\"contour\"}],\"heatmapgl\":[{\"colorbar\":{\"outlinewidth\":0,\"ticks\":\"\"},\"colorscale\":[[0.0,\"#0d0887\"],[0.1111111111111111,\"#46039f\"],[0.2222222222222222,\"#7201a8\"],[0.3333333333333333,\"#9c179e\"],[0.4444444444444444,\"#bd3786\"],[0.5555555555555556,\"#d8576b\"],[0.6666666666666666,\"#ed7953\"],[0.7777777777777778,\"#fb9f3a\"],[0.8888888888888888,\"#fdca26\"],[1.0,\"#f0f921\"]],\"type\":\"heatmapgl\"}],\"heatmap\":[{\"colorbar\":{\"outlinewidth\":0,\"ticks\":\"\"},\"colorscale\":[[0.0,\"#0d0887\"],[0.1111111111111111,\"#46039f\"],[0.2222222222222222,\"#7201a8\"],[0.3333333333333333,\"#9c179e\"],[0.4444444444444444,\"#bd3786\"],[0.5555555555555556,\"#d8576b\"],[0.6666666666666666,\"#ed7953\"],[0.7777777777777778,\"#fb9f3a\"],[0.8888888888888888,\"#fdca26\"],[1.0,\"#f0f921\"]],\"type\":\"heatmap\"}],\"histogram2dcontour\":[{\"colorbar\":{\"outlinewidth\":0,\"ticks\":\"\"},\"colorscale\":[[0.0,\"#0d0887\"],[0.1111111111111111,\"#46039f\"],[0.2222222222222222,\"#7201a8\"],[0.3333333333333333,\"#9c179e\"],[0.4444444444444444,\"#bd3786\"],[0.5555555555555556,\"#d8576b\"],[0.6666666666666666,\"#ed7953\"],[0.7777777777777778,\"#fb9f3a\"],[0.8888888888888888,\"#fdca26\"],[1.0,\"#f0f921\"]],\"type\":\"histogram2dcontour\"}],\"histogram2d\":[{\"colorbar\":{\"outlinewidth\":0,\"ticks\":\"\"},\"colorscale\":[[0.0,\"#0d0887\"],[0.1111111111111111,\"#46039f\"],[0.2222222222222222,\"#7201a8\"],[0.3333333333333333,\"#9c179e\"],[0.4444444444444444,\"#bd3786\"],[0.5555555555555556,\"#d8576b\"],[0.6666666666666666,\"#ed7953\"],[0.7777777777777778,\"#fb9f3a\"],[0.8888888888888888,\"#fdca26\"],[1.0,\"#f0f921\"]],\"type\":\"histogram2d\"}],\"histogram\":[{\"marker\":{\"pattern\":{\"fillmode\":\"overlay\",\"size\":10,\"solidity\":0.2}},\"type\":\"histogram\"}],\"mesh3d\":[{\"colorbar\":{\"outlinewidth\":0,\"ticks\":\"\"},\"type\":\"mesh3d\"}],\"parcoords\":[{\"line\":{\"colorbar\":{\"outlinewidth\":0,\"ticks\":\"\"}},\"type\":\"parcoords\"}],\"pie\":[{\"automargin\":true,\"type\":\"pie\"}],\"scatter3d\":[{\"line\":{\"colorbar\":{\"outlinewidth\":0,\"ticks\":\"\"}},\"marker\":{\"colorbar\":{\"outlinewidth\":0,\"ticks\":\"\"}},\"type\":\"scatter3d\"}],\"scattercarpet\":[{\"marker\":{\"colorbar\":{\"outlinewidth\":0,\"ticks\":\"\"}},\"type\":\"scattercarpet\"}],\"scattergeo\":[{\"marker\":{\"colorbar\":{\"outlinewidth\":0,\"ticks\":\"\"}},\"type\":\"scattergeo\"}],\"scattergl\":[{\"marker\":{\"colorbar\":{\"outlinewidth\":0,\"ticks\":\"\"}},\"type\":\"scattergl\"}],\"scattermapbox\":[{\"marker\":{\"colorbar\":{\"outlinewidth\":0,\"ticks\":\"\"}},\"type\":\"scattermapbox\"}],\"scatterpolargl\":[{\"marker\":{\"colorbar\":{\"outlinewidth\":0,\"ticks\":\"\"}},\"type\":\"scatterpolargl\"}],\"scatterpolar\":[{\"marker\":{\"colorbar\":{\"outlinewidth\":0,\"ticks\":\"\"}},\"type\":\"scatterpolar\"}],\"scatter\":[{\"fillpattern\":{\"fillmode\":\"overlay\",\"size\":10,\"solidity\":0.2},\"type\":\"scatter\"}],\"scatterternary\":[{\"marker\":{\"colorbar\":{\"outlinewidth\":0,\"ticks\":\"\"}},\"type\":\"scatterternary\"}],\"surface\":[{\"colorbar\":{\"outlinewidth\":0,\"ticks\":\"\"},\"colorscale\":[[0.0,\"#0d0887\"],[0.1111111111111111,\"#46039f\"],[0.2222222222222222,\"#7201a8\"],[0.3333333333333333,\"#9c179e\"],[0.4444444444444444,\"#bd3786\"],[0.5555555555555556,\"#d8576b\"],[0.6666666666666666,\"#ed7953\"],[0.7777777777777778,\"#fb9f3a\"],[0.8888888888888888,\"#fdca26\"],[1.0,\"#f0f921\"]],\"type\":\"surface\"}],\"table\":[{\"cells\":{\"fill\":{\"color\":\"#EBF0F8\"},\"line\":{\"color\":\"white\"}},\"header\":{\"fill\":{\"color\":\"#C8D4E3\"},\"line\":{\"color\":\"white\"}},\"type\":\"table\"}]},\"layout\":{\"annotationdefaults\":{\"arrowcolor\":\"#2a3f5f\",\"arrowhead\":0,\"arrowwidth\":1},\"autotypenumbers\":\"strict\",\"coloraxis\":{\"colorbar\":{\"outlinewidth\":0,\"ticks\":\"\"}},\"colorscale\":{\"diverging\":[[0,\"#8e0152\"],[0.1,\"#c51b7d\"],[0.2,\"#de77ae\"],[0.3,\"#f1b6da\"],[0.4,\"#fde0ef\"],[0.5,\"#f7f7f7\"],[0.6,\"#e6f5d0\"],[0.7,\"#b8e186\"],[0.8,\"#7fbc41\"],[0.9,\"#4d9221\"],[1,\"#276419\"]],\"sequential\":[[0.0,\"#0d0887\"],[0.1111111111111111,\"#46039f\"],[0.2222222222222222,\"#7201a8\"],[0.3333333333333333,\"#9c179e\"],[0.4444444444444444,\"#bd3786\"],[0.5555555555555556,\"#d8576b\"],[0.6666666666666666,\"#ed7953\"],[0.7777777777777778,\"#fb9f3a\"],[0.8888888888888888,\"#fdca26\"],[1.0,\"#f0f921\"]],\"sequentialminus\":[[0.0,\"#0d0887\"],[0.1111111111111111,\"#46039f\"],[0.2222222222222222,\"#7201a8\"],[0.3333333333333333,\"#9c179e\"],[0.4444444444444444,\"#bd3786\"],[0.5555555555555556,\"#d8576b\"],[0.6666666666666666,\"#ed7953\"],[0.7777777777777778,\"#fb9f3a\"],[0.8888888888888888,\"#fdca26\"],[1.0,\"#f0f921\"]]},\"colorway\":[\"#636efa\",\"#EF553B\",\"#00cc96\",\"#ab63fa\",\"#FFA15A\",\"#19d3f3\",\"#FF6692\",\"#B6E880\",\"#FF97FF\",\"#FECB52\"],\"font\":{\"color\":\"#2a3f5f\"},\"geo\":{\"bgcolor\":\"white\",\"lakecolor\":\"white\",\"landcolor\":\"#E5ECF6\",\"showlakes\":true,\"showland\":true,\"subunitcolor\":\"white\"},\"hoverlabel\":{\"align\":\"left\"},\"hovermode\":\"closest\",\"mapbox\":{\"style\":\"light\"},\"paper_bgcolor\":\"white\",\"plot_bgcolor\":\"#E5ECF6\",\"polar\":{\"angularaxis\":{\"gridcolor\":\"white\",\"linecolor\":\"white\",\"ticks\":\"\"},\"bgcolor\":\"#E5ECF6\",\"radialaxis\":{\"gridcolor\":\"white\",\"linecolor\":\"white\",\"ticks\":\"\"}},\"scene\":{\"xaxis\":{\"backgroundcolor\":\"#E5ECF6\",\"gridcolor\":\"white\",\"gridwidth\":2,\"linecolor\":\"white\",\"showbackground\":true,\"ticks\":\"\",\"zerolinecolor\":\"white\"},\"yaxis\":{\"backgroundcolor\":\"#E5ECF6\",\"gridcolor\":\"white\",\"gridwidth\":2,\"linecolor\":\"white\",\"showbackground\":true,\"ticks\":\"\",\"zerolinecolor\":\"white\"},\"zaxis\":{\"backgroundcolor\":\"#E5ECF6\",\"gridcolor\":\"white\",\"gridwidth\":2,\"linecolor\":\"white\",\"showbackground\":true,\"ticks\":\"\",\"zerolinecolor\":\"white\"}},\"shapedefaults\":{\"line\":{\"color\":\"#2a3f5f\"}},\"ternary\":{\"aaxis\":{\"gridcolor\":\"white\",\"linecolor\":\"white\",\"ticks\":\"\"},\"baxis\":{\"gridcolor\":\"white\",\"linecolor\":\"white\",\"ticks\":\"\"},\"bgcolor\":\"#E5ECF6\",\"caxis\":{\"gridcolor\":\"white\",\"linecolor\":\"white\",\"ticks\":\"\"}},\"title\":{\"x\":0.05},\"xaxis\":{\"automargin\":true,\"gridcolor\":\"white\",\"linecolor\":\"white\",\"ticks\":\"\",\"title\":{\"standoff\":15},\"zerolinecolor\":\"white\",\"zerolinewidth\":2},\"yaxis\":{\"automargin\":true,\"gridcolor\":\"white\",\"linecolor\":\"white\",\"ticks\":\"\",\"title\":{\"standoff\":15},\"zerolinecolor\":\"white\",\"zerolinewidth\":2}}}},                        {\"responsive\": true}                    ).then(function(){\n                            \nvar gd = document.getElementById('c4c5c831-178f-4ad9-ac28-5b338f72ce36');\nvar x = new MutationObserver(function (mutations, observer) {{\n        var display = window.getComputedStyle(gd).display;\n        if (!display || display === 'none') {{\n            console.log([gd, 'removed!']);\n            Plotly.purge(gd);\n            observer.disconnect();\n        }}\n}});\n\n// Listen for the removal of the full notebook cells\nvar notebookContainer = gd.closest('#notebook-container');\nif (notebookContainer) {{\n    x.observe(notebookContainer, {childList: true});\n}}\n\n// Listen for the clearing of the current output cell\nvar outputEl = gd.closest('.output');\nif (outputEl) {{\n    x.observe(outputEl, {childList: true});\n}}\n\n                        })                };                });            </script>        </div>"
     },
     "metadata": {},
     "output_type": "display_data"
    }
   ],
   "source": [
    "flight_paths = []\n",
    "for index, row in features_added_dataset_temp.iterrows():\n",
    "\n",
    "    aux_origin = row['OriginCity']\n",
    "    aux_destin = row['DestCity']\n",
    "\n",
    "    flight_paths.append(\n",
    "        dict(\n",
    "            type = 'scattergeo',\n",
    "            locationmode = 'USA-states',\n",
    "            lon = [ float(row['longitude_origin']), float(row['longitude_destination']) ],\n",
    "            lat = [ float(row['latitude_origin']), float(row['latitude_destination']) ],\n",
    "            mode = 'lines',\n",
    "            hoverinfo = 'skip',\n",
    "            line = dict(\n",
    "                width = 0.5,\n",
    "                color = 'blue'\n",
    "            ),\n",
    "            # opacity = float(flights.loc[i,'COUNT']/maxcount_f)*2\n",
    "        )\n",
    "    )\n",
    "\n",
    "layout = go.Layout(\n",
    "    showlegend = False,\n",
    "    geo = dict(\n",
    "        scope='north america',\n",
    "        projection=dict( type='orthographic' , scale = 1.8),\n",
    "        showland = True,\n",
    "        showocean = True,\n",
    "        showcoastlines = True,\n",
    "        showcountries = True,\n",
    "        landcolor = 'rgb(49, 49, 49)',\n",
    "        countrycolor = 'rgb(90, 90, 90)',\n",
    "        coastlinecolor = 'rgb(90, 90, 90)',\n",
    "        oceancolor = 'rgb(29, 29, 29)',\n",
    "        bgcolor = 'rgb(29, 29, 29)',\n",
    "        center = dict(lon=float(-100), lat=float(36))\n",
    "    ),\n",
    "    margin=go.Margin(\n",
    "        l=0,\n",
    "        r=0,\n",
    "        b=0,\n",
    "        t=0,\n",
    "        pad=0\n",
    "    ),\n",
    "    autosize=True,\n",
    "    paper_bgcolor = 'rgb(29, 29, 29)',\n",
    "    plot_bgcolor = 'rgb(29, 29, 29)'\n",
    ")\n",
    "\n",
    "fig = dict( data=flight_paths, layout=layout )\n",
    "py.iplot(fig, filename='routes-graph')"
   ],
   "metadata": {
    "collapsed": false
   }
  },
  {
   "cell_type": "code",
   "execution_count": null,
   "outputs": [],
   "source": [
    "\n"
   ],
   "metadata": {
    "collapsed": false
   }
  }
 ],
 "metadata": {
  "kernelspec": {
   "display_name": "Python 3",
   "language": "python",
   "name": "python3"
  },
  "language_info": {
   "codemirror_mode": {
    "name": "ipython",
    "version": 3
   },
   "file_extension": ".py",
   "mimetype": "text/x-python",
   "name": "python",
   "nbconvert_exporter": "python",
   "pygments_lexer": "ipython3",
   "version": "3.10.11"
  }
 },
 "nbformat": 4,
 "nbformat_minor": 2
}
